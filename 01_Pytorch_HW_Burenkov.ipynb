{
 "cells": [
  {
   "cell_type": "markdown",
   "metadata": {},
   "source": [
    "## Burenkov Valentyn\n"
   ]
  },
  {
   "cell_type": "code",
   "execution_count": 1,
   "metadata": {},
   "outputs": [],
   "source": [
    "import torch"
   ]
  },
  {
   "cell_type": "markdown",
   "metadata": {
    "id": "__iXqqz-ioUJ"
   },
   "source": [
    "### 1. Створіть випадковий тензор форми `(7, 7)`.\n"
   ]
  },
  {
   "cell_type": "code",
   "execution_count": 4,
   "metadata": {
    "id": "6pUq9Dc8i2L7"
   },
   "outputs": [
    {
     "name": "stdout",
     "output_type": "stream",
     "text": [
      "tensor([[0.3731, 0.3903, 0.9399, 0.8585, 0.3264, 0.3543, 0.3099],\n",
      "        [0.8283, 0.0471, 0.9640, 0.7490, 0.2760, 0.9599, 0.5721],\n",
      "        [0.0811, 0.1159, 0.0719, 0.5303, 0.5896, 0.4510, 0.8132],\n",
      "        [0.9031, 0.0637, 0.6794, 0.9427, 0.0492, 0.0214, 0.7676],\n",
      "        [0.1196, 0.1715, 0.2002, 0.5565, 0.5810, 0.3865, 0.8306],\n",
      "        [0.7698, 0.7731, 0.4108, 0.4799, 0.2737, 0.9613, 0.8304],\n",
      "        [0.1502, 0.4575, 0.1944, 0.9890, 0.5069, 0.2999, 0.2391]])\n"
     ]
    }
   ],
   "source": [
    "# Create random tensor\n",
    "t1 = torch.rand(7,7)\n",
    "print(t1)"
   ]
  },
  {
   "cell_type": "markdown",
   "metadata": {
    "id": "9-XxvRLfiqkR"
   },
   "source": [
    "### 2. Виконайте матричне множенні для тензора з 1 завдання і випадкового тензора форми `(1, 7)` (за необхідності, транспонуйте другий тензор)."
   ]
  },
  {
   "cell_type": "code",
   "execution_count": 11,
   "metadata": {
    "id": "NcLqR0Sbi_vT"
   },
   "outputs": [
    {
     "name": "stdout",
     "output_type": "stream",
     "text": [
      "tensor([[1.0717],\n",
      "        [1.1369],\n",
      "        [1.2459],\n",
      "        [1.0963],\n",
      "        [1.2882],\n",
      "        [1.4981],\n",
      "        [1.1747]])\n",
      "torch.Size([7, 1])\n"
     ]
    }
   ],
   "source": [
    "# Create another random tensor\n",
    "t2 = torch.rand(1, 7)\n",
    "# Perform matrix multiplication \n",
    "res = t1 @ t2.T\n",
    "print(res)\n",
    "print(res.shape)"
   ]
  },
  {
   "cell_type": "code",
   "execution_count": null,
   "metadata": {},
   "outputs": [],
   "source": []
  },
  {
   "cell_type": "code",
   "execution_count": null,
   "metadata": {},
   "outputs": [],
   "source": []
  },
  {
   "cell_type": "code",
   "execution_count": null,
   "metadata": {},
   "outputs": [],
   "source": []
  },
  {
   "cell_type": "code",
   "execution_count": null,
   "metadata": {},
   "outputs": [],
   "source": []
  },
  {
   "cell_type": "code",
   "execution_count": null,
   "metadata": {},
   "outputs": [],
   "source": []
  },
  {
   "cell_type": "code",
   "execution_count": null,
   "metadata": {},
   "outputs": [],
   "source": []
  },
  {
   "cell_type": "code",
   "execution_count": null,
   "metadata": {},
   "outputs": [],
   "source": []
  },
  {
   "cell_type": "markdown",
   "metadata": {
    "id": "eiutdKUFiryU"
   },
   "source": [
    "### 3. Встановіть random seed в `0` і виконайте завдання 1 і 2 знову."
   ]
  },
  {
   "cell_type": "code",
   "execution_count": null,
   "metadata": {
    "id": "D-lOWI_1jRMm"
   },
   "outputs": [],
   "source": [
    "# Set manual seed\n",
    "\n",
    "\n",
    "# Create two random tensors\n",
    "\n",
    "\n",
    "# Matrix multiply tensors\n"
   ]
  },
  {
   "cell_type": "markdown",
   "metadata": {
    "id": "G7qfa5CSivwg"
   },
   "source": [
    "### 4. Знайдіть максимальне і мінімальне значення у виході 3 завдання."
   ]
  },
  {
   "cell_type": "code",
   "execution_count": 8,
   "metadata": {
    "id": "Fu8_3mZpllOd"
   },
   "outputs": [],
   "source": [
    "# Find max\n",
    "\n",
    "# Find min\n"
   ]
  },
  {
   "cell_type": "markdown",
   "metadata": {
    "id": "wrTj5FgNiw47"
   },
   "source": [
    "### 5. Знайдіть індекси максимального і мінімального значення у виході 3 завдання."
   ]
  },
  {
   "cell_type": "code",
   "execution_count": 1,
   "metadata": {
    "id": "CCEKt4K2lsfQ"
   },
   "outputs": [],
   "source": [
    "# Find arg max\n",
    "\n",
    "\n",
    "# Find arg min\n"
   ]
  },
  {
   "cell_type": "markdown",
   "metadata": {
    "id": "hmeybz4uixy7"
   },
   "source": [
    "\n",
    "### 6. Створіть випадковий тензор форми `(1, 1, 1, 10)`. Потім з нього створіть новий тензор, у якого вилучено всі одиничні розмірності. При створенні тензору встановіть seed рівним `7`. Надрукуйте перший і другий тензори і їхню форму."
   ]
  },
  {
   "cell_type": "code",
   "execution_count": 10,
   "metadata": {
    "id": "TQ9zbRzVl1jV"
   },
   "outputs": [],
   "source": [
    "# Set seed\n",
    "\n",
    "\n",
    "# Create random tensor\n",
    "\n",
    "\n",
    "# Remove single dimensions\n",
    "\n",
    "\n",
    "# Print out tensors and their shapes\n"
   ]
  }
 ],
 "metadata": {
  "accelerator": "GPU",
  "colab": {
   "collapsed_sections": [],
   "name": "00_pytorch_fundamentals_exercises.ipynb",
   "provenance": []
  },
  "kernelspec": {
   "display_name": "pytorch",
   "language": "python",
   "name": "pytorch"
  },
  "language_info": {
   "codemirror_mode": {
    "name": "ipython",
    "version": 3
   },
   "file_extension": ".py",
   "mimetype": "text/x-python",
   "name": "python",
   "nbconvert_exporter": "python",
   "pygments_lexer": "ipython3",
   "version": "3.10.11"
  }
 },
 "nbformat": 4,
 "nbformat_minor": 4
}
