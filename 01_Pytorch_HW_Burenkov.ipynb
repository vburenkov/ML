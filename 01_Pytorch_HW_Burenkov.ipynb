{
 "cells": [
  {
   "cell_type": "markdown",
   "metadata": {},
   "source": [
    "## Burenkov Valentyn\n"
   ]
  },
  {
   "cell_type": "code",
   "execution_count": 1,
   "metadata": {},
   "outputs": [],
   "source": [
    "import torch"
   ]
  },
  {
   "cell_type": "markdown",
   "metadata": {
    "id": "__iXqqz-ioUJ"
   },
   "source": [
    "### 1. Створіть випадковий тензор форми `(7, 7)`.\n"
   ]
  },
  {
   "cell_type": "code",
   "execution_count": 2,
   "metadata": {
    "id": "6pUq9Dc8i2L7"
   },
   "outputs": [
    {
     "name": "stdout",
     "output_type": "stream",
     "text": [
      "tensor([[0.5185, 0.7702, 0.3009, 0.3793, 0.3434, 0.5129, 0.6544],\n",
      "        [0.3925, 0.3516, 0.2414, 0.4413, 0.0100, 0.8518, 0.4970],\n",
      "        [0.3982, 0.9817, 0.3497, 0.6472, 0.7837, 0.0745, 0.6524],\n",
      "        [0.9420, 0.4786, 0.4251, 0.5582, 0.7705, 0.4600, 0.7144],\n",
      "        [0.6750, 0.5319, 0.8053, 0.3003, 0.7012, 0.8970, 0.4646],\n",
      "        [0.0782, 0.7652, 0.4216, 0.9162, 0.7357, 0.8553, 0.5260],\n",
      "        [0.4337, 0.0635, 0.0190, 0.6049, 0.8720, 0.4954, 0.9008]])\n"
     ]
    }
   ],
   "source": [
    "# Create random tensor\n",
    "t1 = torch.rand(7,7)\n",
    "print(t1)"
   ]
  },
  {
   "cell_type": "markdown",
   "metadata": {
    "id": "9-XxvRLfiqkR"
   },
   "source": [
    "### 2. Виконайте матричне множенні для тензора з 1 завдання і випадкового тензора форми `(1, 7)` (за необхідності, транспонуйте другий тензор)."
   ]
  },
  {
   "cell_type": "code",
   "execution_count": 3,
   "metadata": {
    "id": "NcLqR0Sbi_vT"
   },
   "outputs": [
    {
     "name": "stdout",
     "output_type": "stream",
     "text": [
      "tensor([[1.4165],\n",
      "        [1.3809],\n",
      "        [1.4953],\n",
      "        [1.7162],\n",
      "        [1.6391],\n",
      "        [2.0350],\n",
      "        [1.7456]])\n",
      "torch.Size([7, 1])\n"
     ]
    }
   ],
   "source": [
    "# Create another random tensor\n",
    "t2 = torch.rand(1, 7)\n",
    "# Perform matrix multiplication \n",
    "res = t1 @ t2.T\n",
    "print(res)\n",
    "print(res.shape)"
   ]
  },
  {
   "cell_type": "markdown",
   "metadata": {
    "id": "eiutdKUFiryU"
   },
   "source": [
    "### 3. Встановіть random seed в `0` і виконайте завдання 1 і 2 знову."
   ]
  },
  {
   "cell_type": "code",
   "execution_count": 11,
   "metadata": {
    "id": "D-lOWI_1jRMm"
   },
   "outputs": [
    {
     "name": "stdout",
     "output_type": "stream",
     "text": [
      "tensor([[1.6682],\n",
      "        [1.6954],\n",
      "        [2.0499],\n",
      "        [2.7727],\n",
      "        [2.8330],\n",
      "        [1.7068],\n",
      "        [1.7485]])\n"
     ]
    }
   ],
   "source": [
    "# Set manual seed\n",
    "torch.manual_seed(43)\n",
    "\n",
    "# Create two random tensors\n",
    "t1 = torch.rand(7,7)\n",
    "t2 = torch.rand(1, 7)\n",
    "\n",
    "# Matrix multiply tensors\n",
    "res = t1 @ t2.T\n",
    "print(res)"
   ]
  },
  {
   "cell_type": "markdown",
   "metadata": {
    "id": "G7qfa5CSivwg"
   },
   "source": [
    "### 4. Знайдіть максимальне і мінімальне значення у виході 3 завдання."
   ]
  },
  {
   "cell_type": "code",
   "execution_count": 20,
   "metadata": {
    "id": "Fu8_3mZpllOd"
   },
   "outputs": [
    {
     "name": "stdout",
     "output_type": "stream",
     "text": [
      "tensor(2.8330)\n",
      "tensor(1.6682)\n"
     ]
    }
   ],
   "source": [
    "# Find max\n",
    "print(res.max())\n",
    "# Find min\n",
    "print(res.min())"
   ]
  },
  {
   "cell_type": "code",
   "execution_count": 21,
   "metadata": {},
   "outputs": [
    {
     "data": {
      "text/plain": [
       "tensor([[1.6682],\n",
       "        [1.6954],\n",
       "        [2.0499],\n",
       "        [2.7727],\n",
       "        [2.8330],\n",
       "        [1.7068],\n",
       "        [1.7485]], device='cuda:0')"
      ]
     },
     "execution_count": 21,
     "metadata": {},
     "output_type": "execute_result"
    }
   ],
   "source": [
    "device = \"cuda\" if torch.cuda.is_available() else \"cpu\"\n",
    "res.to(device)"
   ]
  },
  {
   "cell_type": "markdown",
   "metadata": {
    "id": "wrTj5FgNiw47"
   },
   "source": [
    "### 5. Знайдіть індекси максимального і мінімального значення у виході 3 завдання."
   ]
  },
  {
   "cell_type": "code",
   "execution_count": 25,
   "metadata": {
    "id": "CCEKt4K2lsfQ"
   },
   "outputs": [
    {
     "name": "stdout",
     "output_type": "stream",
     "text": [
      "Max index: 4\n",
      "Min index: 0\n"
     ]
    }
   ],
   "source": [
    "# Find arg max\n",
    "print('Max index: {0}'.format(res.argmax()))\n",
    "\n",
    "# Find arg min\n",
    "print('Min index: {0}'.format(res.argmin()))"
   ]
  },
  {
   "cell_type": "markdown",
   "metadata": {
    "id": "hmeybz4uixy7"
   },
   "source": [
    "\n",
    "### 6. Створіть випадковий тензор форми `(1, 1, 1, 10)`. Потім з нього створіть новий тензор, у якого вилучено всі одиничні розмірності. При створенні тензору встановіть seed рівним `7`. Надрукуйте перший і другий тензори і їхню форму."
   ]
  },
  {
   "cell_type": "code",
   "execution_count": 33,
   "metadata": {
    "id": "TQ9zbRzVl1jV"
   },
   "outputs": [
    {
     "name": "stdout",
     "output_type": "stream",
     "text": [
      "torch.Size([1, 1, 1, 10])\n",
      "torch.Size([10])\n"
     ]
    }
   ],
   "source": [
    "# Set seed\n",
    "torch.manual_seed(111)\n",
    "\n",
    "# Create random tensor\n",
    "t1 = torch.rand(size=(1,1,1,10))\n",
    "\n",
    "# Remove single dimensions\n",
    "r1_squeezed = t1.squeeze()\n",
    "\n",
    "# Print out tensors and their shapes\n",
    "print(t1.shape)\n",
    "print(r1_squeezed.shape)"
   ]
  }
 ],
 "metadata": {
  "accelerator": "GPU",
  "colab": {
   "collapsed_sections": [],
   "name": "00_pytorch_fundamentals_exercises.ipynb",
   "provenance": []
  },
  "kernelspec": {
   "display_name": "pytorch",
   "language": "python",
   "name": "pytorch"
  },
  "language_info": {
   "codemirror_mode": {
    "name": "ipython",
    "version": 3
   },
   "file_extension": ".py",
   "mimetype": "text/x-python",
   "name": "python",
   "nbconvert_exporter": "python",
   "pygments_lexer": "ipython3",
   "version": "3.10.11"
  }
 },
 "nbformat": 4,
 "nbformat_minor": 4
}
