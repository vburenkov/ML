{
 "cells": [
  {
   "cell_type": "code",
   "execution_count": 72,
   "id": "931a1b0d",
   "metadata": {},
   "outputs": [
    {
     "name": "stdout",
     "output_type": "stream",
     "text": [
      "PyTorch version: 2.0.1\n",
      "torchvision version: 0.15.2\n"
     ]
    }
   ],
   "source": [
    "import torch\n",
    "import os\n",
    "import torch.nn as nn\n",
    "import matplotlib.pyplot as plt\n",
    "import numpy as np\n",
    "import torchvision\n",
    "from torchvision import datasets\n",
    "from torchvision.transforms import ToTensor\n",
    "from torchvision.io import read_image\n",
    "import matplotlib.pyplot as plt\n",
    "from torch.utils.data import DataLoader\n",
    "from typing import List, Tuple, Dict \n",
    "\n",
    "print(f\"PyTorch version: {torch.__version__}\\ntorchvision version: {torchvision.__version__}\")"
   ]
  },
  {
   "cell_type": "code",
   "execution_count": 73,
   "id": "a62d8875",
   "metadata": {},
   "outputs": [],
   "source": [
    "img_class_name = {0:'clean', 1:'dirty'}\n",
    "img_class_name_inverse = {'clean':0, 'dirty':1}"
   ]
  },
  {
   "cell_type": "code",
   "execution_count": 74,
   "id": "61794fd0",
   "metadata": {},
   "outputs": [],
   "source": [
    "img_partition = {0:'train', 1:'test', 2:'hidden'}\n",
    "img_partition_inverse = {'train':0, 'test':1, 'hidden':2}"
   ]
  },
  {
   "cell_type": "code",
   "execution_count": 75,
   "id": "0cf582a4",
   "metadata": {},
   "outputs": [],
   "source": [
    "class CudaHelper:\n",
    "    def get_device():\n",
    "        device = \"cuda\" if torch.cuda.is_available() else \"cpu\"\n",
    "        return device"
   ]
  },
  {
   "cell_type": "code",
   "execution_count": 76,
   "id": "c9efa997",
   "metadata": {},
   "outputs": [],
   "source": [
    "class ImageItem:\n",
    "    def __init__(self, image:torch.Tensor, image_class:int, image_partition:int):\n",
    "        self.image = image\n",
    "        self.image_class = image_class\n",
    "        self.image_partition = image_partition\n",
    "    \n",
    "    def stringify(self):\n",
    "        return f'{class_name[self.image_class]}; Class int: {self.image_class}'"
   ]
  },
  {
   "cell_type": "code",
   "execution_count": 77,
   "id": "7f8196b9",
   "metadata": {},
   "outputs": [],
   "source": [
    "class ImageHelper:\n",
    "    \n",
    "    def plot_img(img:ImageItem):\n",
    "        plt.imshow(img.image.squeeze(), cmap='gray')\n",
    "        plt.title(f'{img.stringify()}')\n",
    "    \n",
    "    def do_load(data_dir:str, partition:str, class_name:str) -> List[ImageItem]:\n",
    "        all_files = os.listdir(data_dir)\n",
    "        all_images = []\n",
    "\n",
    "        for f in all_files:\n",
    "            full_path = os.path.join(data_dir, f)\n",
    "            img_tensor = read_image(full_path).to(CudaHelper.get_device())\n",
    "            ii = ImageItem(img_tensor, img_class_name_inverse[class_name], img_partition_inverse[partition])\n",
    "            all_images.append(ii)\n",
    "        \n",
    "        return all_images\n",
    "    \n",
    "    def load_images(base_dir:str, partition:str) -> List[ImageItem]:        \n",
    "        cleans = ImageHelper.do_load(os.path.join(base_dir, 'clean'), partition, 'clean')\n",
    "        dirtys = ImageHelper.do_load(os.path.join(base_dir, 'dirty'), partition, 'dirty')\n",
    "        return cleans, dirtys"
   ]
  },
  {
   "cell_type": "code",
   "execution_count": 78,
   "id": "1222fe9a",
   "metadata": {},
   "outputs": [],
   "source": [
    "main_dir = 'C:\\\\Users\\\\Valentine\\\\Downloads\\\\NeuralNetworks\\\\plates\\\\plates\\\\train'\n",
    "clean_train, dirty_train = ImageHelper.load_images(main_dir, 'train')\n",
    "clean_test, dirty_test = ImageHelper.load_images(main_dir, 'test')\n",
    "clean_hidden, dirty_hidden = ImageHelper.load_images(main_dir, 'hidden')"
   ]
  },
  {
   "cell_type": "code",
   "execution_count": null,
   "id": "c371fe1e",
   "metadata": {},
   "outputs": [],
   "source": []
  },
  {
   "cell_type": "code",
   "execution_count": null,
   "id": "41b62abb",
   "metadata": {},
   "outputs": [],
   "source": []
  },
  {
   "cell_type": "code",
   "execution_count": null,
   "id": "44f6a78e",
   "metadata": {},
   "outputs": [],
   "source": []
  },
  {
   "cell_type": "code",
   "execution_count": null,
   "id": "8ca480b9",
   "metadata": {},
   "outputs": [],
   "source": []
  },
  {
   "cell_type": "code",
   "execution_count": null,
   "id": "10516874",
   "metadata": {},
   "outputs": [],
   "source": []
  }
 ],
 "metadata": {
  "kernelspec": {
   "display_name": "pytorch",
   "language": "python",
   "name": "pytorch"
  },
  "language_info": {
   "codemirror_mode": {
    "name": "ipython",
    "version": 3
   },
   "file_extension": ".py",
   "mimetype": "text/x-python",
   "name": "python",
   "nbconvert_exporter": "python",
   "pygments_lexer": "ipython3",
   "version": "3.10.11"
  }
 },
 "nbformat": 4,
 "nbformat_minor": 5
}
