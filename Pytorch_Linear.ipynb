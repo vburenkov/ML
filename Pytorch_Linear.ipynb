{
 "cells": [
  {
   "cell_type": "code",
   "execution_count": 1,
   "id": "fb947bae",
   "metadata": {},
   "outputs": [],
   "source": [
    "import torch\n",
    "import torch.nn as nn\n",
    "import matplotlib.pyplot as plt\n",
    "import numpy as np"
   ]
  },
  {
   "cell_type": "code",
   "execution_count": 2,
   "id": "314388d5",
   "metadata": {},
   "outputs": [
    {
     "name": "stdout",
     "output_type": "stream",
     "text": [
      "Using device: cuda\n"
     ]
    }
   ],
   "source": [
    "device = \"cuda\" if torch.cuda.is_available() else \"cpu\"\n",
    "print(f\"Using device: {device}\")"
   ]
  },
  {
   "cell_type": "code",
   "execution_count": 3,
   "id": "c416ea7e",
   "metadata": {},
   "outputs": [],
   "source": [
    "x = torch.tensor(1.0, requires_grad = True, device = device)\n",
    "y = torch.tensor(2.0, requires_grad = True, device = device)\n",
    "z = torch.tensor(4.0, requires_grad = True, device = device)"
   ]
  },
  {
   "cell_type": "code",
   "execution_count": 4,
   "id": "10d2fe7d",
   "metadata": {},
   "outputs": [],
   "source": [
    "r = ((x*x + y*y)*(z*z))"
   ]
  },
  {
   "cell_type": "code",
   "execution_count": 5,
   "id": "8fd5c7a2",
   "metadata": {},
   "outputs": [],
   "source": [
    "r.backward()"
   ]
  },
  {
   "cell_type": "code",
   "execution_count": 6,
   "id": "388042c1",
   "metadata": {},
   "outputs": [
    {
     "name": "stdout",
     "output_type": "stream",
     "text": [
      "X: 32.0, Y: 64.0, Z: 40.0\n"
     ]
    }
   ],
   "source": [
    "print('X: {0}, Y: {1}, Z: {2}'.format(x.grad, y.grad, z.grad))"
   ]
  },
  {
   "cell_type": "code",
   "execution_count": 7,
   "id": "5a32c059",
   "metadata": {},
   "outputs": [],
   "source": [
    "# https://www.deeplearningwizard.com/deep_learning/practical_pytorch/pytorch_linear_regression/"
   ]
  },
  {
   "cell_type": "code",
   "execution_count": 8,
   "id": "d9047b6e",
   "metadata": {},
   "outputs": [],
   "source": [
    "class LinearModel(nn.Module):\n",
    "    def __init__(self, input_size, output_size):\n",
    "        super().__init__()\n",
    "        self.linear = nn.Linear(input_size, output_size)\n",
    "        \n",
    "    def forward(self, x):\n",
    "        pred = self.linear(x)\n",
    "        return pred\n",
    "    \n",
    "    def get_model_params(self):\n",
    "        [w, b] = self.parameters()\n",
    "        return (w[0][0].item(), b[0].item())"
   ]
  },
  {
   "cell_type": "code",
   "execution_count": 9,
   "id": "cb931fbc",
   "metadata": {},
   "outputs": [],
   "source": [
    "def set_seed(seed):\n",
    "    torch.manual_seed(seed)\n",
    "    if torch.cuda.is_available(): # GPU operation have separate seed\n",
    "        torch.cuda.manual_seed(seed)\n",
    "        torch.cuda.manual_seed_all(seed)"
   ]
  },
  {
   "cell_type": "code",
   "execution_count": 10,
   "id": "52f974a0",
   "metadata": {},
   "outputs": [],
   "source": [
    "class ModelPlotter():\n",
    "    \n",
    "    def __init__(self, model:LinearModel, data_x, data_y, from_x, to_x):\n",
    "        self.model = model\n",
    "        self.X = data_x\n",
    "        self.y = data_y\n",
    "        self.from_x = from_x\n",
    "        self.to_x = to_x\n",
    "\n",
    "    def plot_fit(self):\n",
    "        \n",
    "        # data\n",
    "        plt.plot(self.X, self.y, 'o')\n",
    "        \n",
    "        # model\n",
    "        w1, b1 = self.model.get_model_params()\n",
    "        x1 = np.array([self.from_x, self.to_x])\n",
    "        y1 = w1*x1 + b1\n",
    "        plt.plot(x1, y1, 'r')\n",
    "        \n",
    "        plt.show()"
   ]
  },
  {
   "cell_type": "code",
   "execution_count": 11,
   "id": "d7d2abb9",
   "metadata": {},
   "outputs": [],
   "source": [
    "class DataGenerator():\n",
    "    \n",
    "    def generate_data(size_data):\n",
    "        X = np.random.rand(size_data)*10\n",
    "        Y = X + 2* np.random.rand(size_data)\n",
    "        return X, Y\n",
    "\n",
    "    def generate_data_tensor(size_data):\n",
    "        X = torch.randn(size_data) * 10\n",
    "        Y = X + 2 * torch.randn(size_data)\n",
    "        return X, Y"
   ]
  },
  {
   "cell_type": "code",
   "execution_count": 12,
   "id": "1110e7cd",
   "metadata": {},
   "outputs": [],
   "source": [
    "def split_train_test_val(X, y, device, train_ratio, val_ratio):\n",
    "    \n",
    "    train_split = int(train_ratio * len(X)) \n",
    "    X_train, y_train = X[:train_split], y[:train_split]\n",
    "    X_test, y_test = X[train_split:], y[train_split:]\n",
    "    \n",
    "    # Create train/valid split\n",
    "    val_split = int(val_ratio * len(X_train)) \n",
    "    idx = list(range(len(X_train)))\n",
    "    train_idx, val_idx = torch.utils.data.random_split(idx, [train_split - val_split, val_split])\n",
    "    X_val = X_train[val_idx].clone()\n",
    "    y_val = y_train[val_idx].clone()\n",
    "    X_train = X_train[train_idx].clone()\n",
    "    y_train = y_train[train_idx].clone()\n",
    "    \n",
    "    X_train = X_train.reshape(X_train.shape[0], 1).to(device)\n",
    "    y_train = y_train.reshape(y_train.shape[0], 1).to(device)\n",
    "    \n",
    "    X_test = X_test.reshape(X_test.shape[0], 1).to(device)\n",
    "    y_test = y_test.reshape(y_test.shape[0], 1).to(device)\n",
    "    \n",
    "    X_val = X_val.reshape(X_val.shape[0], 1).to(device)\n",
    "    y_val = y_val.reshape(y_val.shape[0], 1).to(device)\n",
    "\n",
    "    return X_train, y_train, X_val, y_val, X_test, y_test"
   ]
  },
  {
   "cell_type": "code",
   "execution_count": 13,
   "id": "368c8c9b",
   "metadata": {},
   "outputs": [
    {
     "name": "stdout",
     "output_type": "stream",
     "text": [
      "Epoch: 0 | MAE Train Loss: 7.328915119171143\n",
      "Epoch: 1 | MAE Train Loss: 6.713209629058838\n",
      "Epoch: 2 | MAE Train Loss: 5.493234157562256\n",
      "Epoch: 3 | MAE Train Loss: 3.7373721599578857\n",
      "Epoch: 4 | MAE Train Loss: 1.9238580465316772\n",
      "Epoch: 5 | MAE Train Loss: 2.5500247478485107\n",
      "Epoch: 6 | MAE Train Loss: 4.500762939453125\n",
      "Epoch: 7 | MAE Train Loss: 6.100043773651123\n",
      "Epoch: 8 | MAE Train Loss: 7.139211177825928\n",
      "Epoch: 9 | MAE Train Loss: 7.575856685638428\n",
      "Epoch: 10 | MAE Train Loss: 7.399232864379883\n",
      "Epoch: 11 | MAE Train Loss: 6.612688064575195\n",
      "Epoch: 12 | MAE Train Loss: 5.240571975708008\n",
      "Epoch: 13 | MAE Train Loss: 3.3862228393554688\n",
      "Epoch: 14 | MAE Train Loss: 1.7384544610977173\n",
      "Epoch: 15 | MAE Train Loss: 2.913416624069214\n",
      "Epoch: 16 | MAE Train Loss: 4.88928747177124\n",
      "Epoch: 17 | MAE Train Loss: 6.413463115692139\n",
      "Epoch: 18 | MAE Train Loss: 7.346829891204834\n",
      "Epoch: 19 | MAE Train Loss: 7.664814472198486\n",
      "Epoch: 20 | MAE Train Loss: 7.36461877822876\n",
      "Epoch: 21 | MAE Train Loss: 6.448336601257324\n",
      "Epoch: 22 | MAE Train Loss: 4.938978672027588\n",
      "Epoch: 23 | MAE Train Loss: 2.961076259613037\n",
      "Epoch: 24 | MAE Train Loss: 1.7009732723236084\n",
      "Epoch: 25 | MAE Train Loss: 3.3118555545806885\n",
      "Epoch: 26 | MAE Train Loss: 5.188407897949219\n",
      "Epoch: 27 | MAE Train Loss: 6.575092315673828\n",
      "Epoch: 28 | MAE Train Loss: 7.375986576080322\n",
      "Epoch: 29 | MAE Train Loss: 7.567897319793701\n",
      "Epoch: 30 | MAE Train Loss: 7.143090724945068\n",
      "Epoch: 31 | MAE Train Loss: 6.1151957511901855\n",
      "Epoch: 32 | MAE Train Loss: 4.518580436706543\n",
      "Epoch: 33 | MAE Train Loss: 2.5376439094543457\n",
      "Epoch: 34 | MAE Train Loss: 1.854416012763977\n",
      "Epoch: 35 | MAE Train Loss: 3.6846485137939453\n",
      "Epoch: 36 | MAE Train Loss: 5.4561662673950195\n",
      "Epoch: 37 | MAE Train Loss: 6.680482864379883\n",
      "Epoch: 38 | MAE Train Loss: 7.300560474395752\n",
      "Epoch: 39 | MAE Train Loss: 7.301249027252197\n",
      "Epoch: 40 | MAE Train Loss: 6.682660102844238\n",
      "Epoch: 41 | MAE Train Loss: 5.460186004638672\n",
      "Epoch: 42 | MAE Train Loss: 3.688166379928589\n",
      "Epoch: 43 | MAE Train Loss: 1.8545926809310913\n",
      "Epoch: 44 | MAE Train Loss: 2.5253303050994873\n",
      "Epoch: 45 | MAE Train Loss: 4.5148725509643555\n",
      "Epoch: 46 | MAE Train Loss: 6.108386516571045\n",
      "Epoch: 47 | MAE Train Loss: 7.139306545257568\n",
      "Epoch: 48 | MAE Train Loss: 7.564933776855469\n",
      "Epoch: 49 | MAE Train Loss: 7.377861976623535\n",
      "Epoch: 50 | MAE Train Loss: 6.58085298538208\n",
      "Epoch: 51 | MAE Train Loss: 5.200028419494629\n",
      "Epoch: 52 | MAE Train Loss: 3.3083677291870117\n",
      "Epoch: 53 | MAE Train Loss: 1.6843539476394653\n",
      "Epoch: 54 | MAE Train Loss: 2.95664644241333\n",
      "Epoch: 55 | MAE Train Loss: 4.948282718658447\n",
      "Epoch: 56 | MAE Train Loss: 6.47147274017334\n",
      "Epoch: 57 | MAE Train Loss: 7.400705337524414\n",
      "Epoch: 58 | MAE Train Loss: 7.71319055557251\n",
      "Epoch: 59 | MAE Train Loss: 7.402346134185791\n",
      "Epoch: 60 | MAE Train Loss: 6.4748406410217285\n",
      "Epoch: 61 | MAE Train Loss: 4.955846786499023\n",
      "Epoch: 62 | MAE Train Loss: 2.973121404647827\n",
      "Epoch: 63 | MAE Train Loss: 1.7008236646652222\n",
      "Epoch: 64 | MAE Train Loss: 3.326664686203003\n",
      "Epoch: 65 | MAE Train Loss: 5.227719783782959\n",
      "Epoch: 66 | MAE Train Loss: 6.6229777336120605\n",
      "Epoch: 67 | MAE Train Loss: 7.437875270843506\n",
      "Epoch: 68 | MAE Train Loss: 7.642047882080078\n",
      "Epoch: 69 | MAE Train Loss: 7.2312445640563965\n",
      "Epoch: 70 | MAE Train Loss: 6.217852592468262\n",
      "Epoch: 71 | MAE Train Loss: 4.635862827301025\n",
      "Epoch: 72 | MAE Train Loss: 2.642916679382324\n",
      "Epoch: 73 | MAE Train Loss: 1.8430129289627075\n",
      "Epoch: 74 | MAE Train Loss: 3.6506705284118652\n",
      "Epoch: 75 | MAE Train Loss: 5.449302673339844\n",
      "Epoch: 76 | MAE Train Loss: 6.715295791625977\n",
      "Epoch: 77 | MAE Train Loss: 7.381519794464111\n",
      "Epoch: 78 | MAE Train Loss: 7.4303364753723145\n",
      "Epoch: 79 | MAE Train Loss: 6.861327171325684\n",
      "Epoch: 80 | MAE Train Loss: 5.686927318572998\n",
      "Epoch: 81 | MAE Train Loss: 3.9601521492004395\n",
      "Epoch: 82 | MAE Train Loss: 2.0600740909576416\n",
      "Epoch: 83 | MAE Train Loss: 2.3439114093780518\n",
      "Epoch: 84 | MAE Train Loss: 4.324496269226074\n",
      "Epoch: 85 | MAE Train Loss: 5.970739841461182\n",
      "Epoch: 86 | MAE Train Loss: 7.056332111358643\n",
      "Epoch: 87 | MAE Train Loss: 7.5444416999816895\n",
      "Epoch: 88 | MAE Train Loss: 7.418335914611816\n",
      "Epoch: 89 | MAE Train Loss: 6.681394577026367\n",
      "Epoch: 90 | MAE Train Loss: 5.358848571777344\n",
      "Epoch: 91 | MAE Train Loss: 3.5158159732818604\n",
      "Epoch: 92 | MAE Train Loss: 1.770943522453308\n",
      "Epoch: 93 | MAE Train Loss: 2.7753708362579346\n",
      "Epoch: 94 | MAE Train Loss: 4.768270015716553\n",
      "Epoch: 95 | MAE Train Loss: 6.337268352508545\n",
      "Epoch: 96 | MAE Train Loss: 7.319737434387207\n",
      "Epoch: 97 | MAE Train Loss: 7.687857627868652\n",
      "Epoch: 98 | MAE Train Loss: 7.433381080627441\n",
      "Epoch: 99 | MAE Train Loss: 6.561612129211426\n"
     ]
    },
    {
     "data": {
      "image/png": "[encoded data removed]",
      "text/plain": [
       "<Figure size 640x480 with 1 Axes>"
      ]
     },
     "metadata": {},
     "output_type": "display_data"
    }
   ],
   "source": [
    "set_seed(42)\n",
    "\n",
    "data_size = 1000\n",
    "epochs = 100\n",
    "use_validation_set = False\n",
    "\n",
    "# Create empty loss lists to track values\n",
    "train_loss_values = []\n",
    "val_loss_values = []\n",
    "epoch_count = []\n",
    "\n",
    "# generate and split data\n",
    "data = DataGenerator.generate_data_tensor(data_size)\n",
    "X_train, y_train, X_test, y_test, X_val, y_val = split_train_test_val(data[0], data[1], device, 1, 0.01)\n",
    "\n",
    "model = LinearModel(1,1)\n",
    "model.to(device)\n",
    "plotter = ModelPlotter(model, data[0].numpy(), data[1].numpy(), -10, 10)\n",
    "\n",
    "learning_rate = 0.01\n",
    "#loss_fn = nn.MSELoss()\n",
    "loss_fn = nn.L1Loss()\n",
    "optimizer = torch.optim.SGD(model.parameters(), lr=learning_rate)\n",
    "\n",
    "for epoch in range(epochs):\n",
    "    \n",
    "    # set train mode\n",
    "    model.train()\n",
    "    \n",
    "    # make prediction\n",
    "    y_pred = model(X_train)\n",
    "    \n",
    "    # calculate loss\n",
    "    loss = loss_fn(y_pred, y_train)\n",
    "    \n",
    "    # back propogate\n",
    "    loss_fn.zero_grad()\n",
    "    loss.backward()\n",
    "    optimizer.step()\n",
    "    \n",
    "    # set model to eval mode\n",
    "    model.eval()\n",
    "    \n",
    "    if use_validation_set == False: print(f\"Epoch: {epoch} | MAE Train Loss: {loss}\")\n",
    "    \n",
    "    if use_validation_set == True:\n",
    "        with torch.inference_mode():\n",
    "            # calculate loss on validation set\n",
    "            val_pred = model(X_val)\n",
    "            val_loss = loss_fn(val_pred, y_val.type(torch.float)) \n",
    "            # print losses\n",
    "            if epoch % 5 == 0:\n",
    "                epoch_count.append(epoch)\n",
    "                train_loss_values.append(loss.cpu().detach().numpy())\n",
    "                val_loss_values.append(val_loss.cpu().detach().numpy())\n",
    "                print(f\"Epoch: {epoch} | MAE Train Loss: {loss} | MAE Val Loss: {val_loss}\")\n",
    "                  \n",
    "plotter.plot_fit()"
   ]
  },
  {
   "cell_type": "code",
   "execution_count": 14,
   "id": "ee167e25",
   "metadata": {},
   "outputs": [
    {
     "data": {
      "image/png": "[encoded data removed]",
      "text/plain": [
       "<Figure size 640x480 with 1 Axes>"
      ]
     },
     "metadata": {},
     "output_type": "display_data"
    }
   ],
   "source": [
    "plt.plot(epoch_count, train_loss_values, label=\"Train loss\")\n",
    "plt.plot(epoch_count, val_loss_values, label=\"Validating loss\")\n",
    "plt.title(\"Training and validating loss curves\")\n",
    "plt.ylabel(\"Loss\")\n",
    "plt.xlabel(\"Epochs\")\n",
    "plt.legend();"
   ]
  }
 ],
 "metadata": {
  "kernelspec": {
   "display_name": "pytorch",
   "language": "python",
   "name": "pytorch"
  },
  "language_info": {
   "codemirror_mode": {
    "name": "ipython",
    "version": 3
   },
   "file_extension": ".py",
   "mimetype": "text/x-python",
   "name": "python",
   "nbconvert_exporter": "python",
   "pygments_lexer": "ipython3",
   "version": "3.10.11"
  }
 },
 "nbformat": 4,
 "nbformat_minor": 5
}
