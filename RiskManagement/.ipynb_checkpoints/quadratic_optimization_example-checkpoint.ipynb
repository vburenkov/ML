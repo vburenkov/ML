{
 "cells": [
  {
   "cell_type": "markdown",
   "metadata": {},
   "source": [
    "# Create and optimize a quadratic optimization problem in CVXPY"
   ]
  },
  {
   "cell_type": "markdown",
   "metadata": {},
   "source": [
    "### Quadratic optimization problem"
   ]
  },
  {
   "cell_type": "markdown",
   "metadata": {},
   "source": [
    "\\begin{equation}\n",
    "\\begin{array}{rl}\n",
    "\\displaystyle \\mbox{max}_{x} & x_1 + 2 x_2 + 3 x_3 - 0.5 ( 33 x_1^2 + \\\\\n",
    "& 22 x_2^2 + 11 x_3^2 -  12 x_1 x_2 - 23 x_2 x_3 ) \\\\\n",
    "{\\rm s.t.} & - x_1 + x_2 + x_3 \\leq 20 \\\\\n",
    "& x_1 - 3 x_2 + x_3 \\leq 30 \\\\\n",
    "& 0 \\leq x_1 \\leq 40 \\\\\n",
    "& x_2 \\geq 0,~ x_3 \\geq 0\n",
    "\\end{array}\n",
    "\\end{equation}"
   ]
  },
  {
   "cell_type": "markdown",
   "metadata": {},
   "source": [
    "### Solve quadratic optimization model using CVXPY modeling environment\n",
    "\n",
    "CVXPY is a Python-embedded modeling language for convex optimization problems. It automatically transforms the problem into standard form, calls a solver, and unpacks the results.\n",
    "\n",
    "CVXPY can be installed with `conda install -c conda-forge cvxpy` or `pip install cvxpy`."
   ]
  },
  {
   "cell_type": "code",
   "execution_count": 2,
   "metadata": {},
   "outputs": [
    {
     "name": "stdout",
     "output_type": "stream",
     "text": [
      "Requirement already satisfied: cvxpy in c:\\users\\valentine\\anaconda3\\lib\\site-packages (1.3.1)\n",
      "Requirement already satisfied: setuptools>65.5.1 in c:\\users\\valentine\\anaconda3\\lib\\site-packages (from cvxpy) (65.6.3)\n",
      "Requirement already satisfied: ecos>=2 in c:\\users\\valentine\\anaconda3\\lib\\site-packages (from cvxpy) (2.0.11)\n",
      "Requirement already satisfied: osqp>=0.4.1 in c:\\users\\valentine\\anaconda3\\lib\\site-packages (from cvxpy) (0.6.2.post0)\n",
      "Requirement already satisfied: scs>=1.1.6 in c:\\users\\valentine\\anaconda3\\lib\\site-packages (from cvxpy) (3.2.3)\n",
      "Requirement already satisfied: scipy>=1.1.0 in c:\\users\\valentine\\anaconda3\\lib\\site-packages (from cvxpy) (1.10.0)\n",
      "Requirement already satisfied: numpy>=1.15 in c:\\users\\valentine\\anaconda3\\lib\\site-packages (from cvxpy) (1.23.5)\n",
      "Requirement already satisfied: qdldl in c:\\users\\valentine\\anaconda3\\lib\\site-packages (from osqp>=0.4.1->cvxpy) (0.1.5.post2)\n"
     ]
    }
   ],
   "source": [
    "#!pip install cvxpy"
   ]
  },
  {
   "cell_type": "code",
   "execution_count": 4,
   "metadata": {},
   "outputs": [],
   "source": [
    "import cvxpy as cp\n",
    "import numpy as np"
   ]
  },
  {
   "cell_type": "code",
   "execution_count": 5,
   "metadata": {},
   "outputs": [
    {
     "name": "stdout",
     "output_type": "stream",
     "text": [
      "===============================================================================\n",
      "                                     CVXPY                                     \n",
      "                                     v1.3.1                                    \n",
      "===============================================================================\n",
      "(CVXPY) May 26 06:58:48 PM: Your problem has 3 variables, 3 constraints, and 0 parameters.\n",
      "(CVXPY) May 26 06:58:48 PM: It is compliant with the following grammars: DCP, DQCP\n",
      "(CVXPY) May 26 06:58:48 PM: (If you need to solve this problem multiple times, but with different data, consider using parameters.)\n",
      "(CVXPY) May 26 06:58:48 PM: CVXPY will first compile your problem; then, it will invoke a numerical solver to obtain a solution.\n",
      "-------------------------------------------------------------------------------\n",
      "                                  Compilation                                  \n",
      "-------------------------------------------------------------------------------\n",
      "(CVXPY) May 26 06:58:48 PM: Compiling problem (target solver=GUROBI).\n",
      "(CVXPY) May 26 06:58:48 PM: Reduction chain: FlipObjective -> CvxAttr2Constr -> Qp2SymbolicQp -> QpMatrixStuffing -> GUROBI\n",
      "(CVXPY) May 26 06:58:48 PM: Applying reduction FlipObjective\n",
      "(CVXPY) May 26 06:58:48 PM: Applying reduction CvxAttr2Constr\n",
      "(CVXPY) May 26 06:58:48 PM: Applying reduction Qp2SymbolicQp\n",
      "(CVXPY) May 26 06:58:48 PM: Applying reduction QpMatrixStuffing\n",
      "(CVXPY) May 26 06:58:48 PM: Applying reduction GUROBI\n",
      "(CVXPY) May 26 06:58:48 PM: Finished problem compilation (took 1.703e-02 seconds).\n",
      "-------------------------------------------------------------------------------\n",
      "                                Numerical solver                               \n",
      "-------------------------------------------------------------------------------\n",
      "(CVXPY) May 26 06:58:48 PM: Invoking solver GUROBI  to obtain a solution.\n",
      "Set parameter QCPDual to value 1\n",
      "Gurobi Optimizer version 10.0.1 build v10.0.1rc0 (win64)\n",
      "\n",
      "CPU model: Intel(R) Core(TM) i7-1065G7 CPU @ 1.30GHz, instruction set [SSE2|AVX|AVX2|AVX512]\n",
      "Thread count: 4 physical cores, 8 logical processors, using up to 8 threads\n",
      "\n",
      "Optimize a model with 8 rows, 3 columns and 12 nonzeros\n",
      "Model fingerprint: 0x191011a6\n",
      "Model has 5 quadratic objective terms\n",
      "Coefficient statistics:\n",
      "  Matrix range     [1e+00, 3e+00]\n",
      "  Objective range  [1e+00, 3e+00]\n",
      "  QObjective range [1e+01, 3e+01]\n",
      "  Bounds range     [0e+00, 0e+00]\n",
      "  RHS range        [2e+01, 1e+100]\n",
      "Warning: Model contains large rhs\n",
      "         Consider reformulating model or setting NumericFocus parameter\n",
      "         to avoid numerical issues.\n",
      "Presolve removed 6 rows and 0 columns\n",
      "Presolve time: 0.00s\n",
      "Presolved: 2 rows, 3 columns, 6 nonzeros\n",
      "Presolved model has 5 quadratic objective terms\n",
      "Ordering time: 0.00s\n",
      "\n",
      "Barrier statistics:\n",
      " Free vars  : 2\n",
      " AA' NZ     : 6.000e+00\n",
      " Factor NZ  : 1.000e+01\n",
      " Factor Ops : 3.000e+01 (less than 1 second per iteration)\n",
      " Threads    : 1\n",
      "\n",
      "                  Objective                Residual\n",
      "Iter       Primal          Dual         Primal    Dual     Compl     Time\n",
      "   0   1.39416747e+05 -1.56187010e+05  9.90e+02 2.00e+00  1.00e+06     0s\n",
      "   1   9.43395180e+04 -1.16975351e+05  6.00e+01 1.27e-08  9.11e+04     0s\n",
      "   2   1.17444799e+04 -4.45437632e+04  6.00e-05 2.84e-14  9.38e+03     0s\n",
      "   3   1.46339250e+03 -9.57324068e+03  6.00e-11 1.07e-14  1.84e+03     0s\n",
      "   4   2.98257941e+02 -5.56480627e+02  1.77e-12 1.78e-15  1.42e+02     0s\n",
      "   5   3.77300529e+01 -2.48671934e+02  6.66e-16 4.44e-16  4.77e+01     0s\n",
      "   6   2.99048415e+00 -1.37697963e+01  4.44e-16 4.88e-15  2.79e+00     0s\n",
      "   7  -1.68804826e+00 -3.83720681e+00  1.67e-16 4.44e-16  3.58e-01     0s\n",
      "   8  -2.01033598e+00 -2.16679909e+00  2.78e-17 1.22e-15  2.61e-02     0s\n",
      "   9  -2.01561529e+00 -2.01701951e+00  4.16e-17 3.33e-16  2.34e-04     0s\n",
      "  10  -2.01561652e+00 -2.01561793e+00  9.02e-16 5.55e-17  2.34e-07     0s\n",
      "  11  -2.01561652e+00 -2.01561652e+00  2.78e-16 2.22e-16  2.34e-10     0s\n",
      "\n",
      "Barrier solved model in 11 iterations and 0.01 seconds (0.00 work units)\n",
      "Optimal objective -2.01561652e+00\n",
      "\n",
      "-------------------------------------------------------------------------------\n",
      "                                    Summary                                    \n",
      "-------------------------------------------------------------------------------\n",
      "(CVXPY) May 26 06:58:48 PM: Problem status: optimal\n",
      "(CVXPY) May 26 06:58:48 PM: Optimal value: 2.016e+00\n",
      "(CVXPY) May 26 06:58:48 PM: Compilation took 1.703e-02 seconds\n",
      "(CVXPY) May 26 06:58:48 PM: Solver (including time spent in interface) took 2.396e-02 seconds\n",
      "\n",
      "Solution status:  optimal\n",
      "Solution optimal value:  2.0156165232891583\n",
      "Solution x: \n",
      "[0.13911493 0.59846547 0.89839572]\n",
      "A dual solution corresponding to the inequality constraints: \n",
      "[2.71491067e-13 1.69896310e-13]\n"
     ]
    }
   ],
   "source": [
    "Q = np.array([[-33.0, 6.0, 0.0], [6.0, -22.0, 11.5], [0., 11.5, -11.0]])\n",
    "c = np.array([1., 2., 3.])\n",
    "A = np.array([[-1., 1., 1.], [1., -3., 1.]])\n",
    "b = np.array([20., 30.])\n",
    "ub = np.array([40., np.inf, np.inf])\n",
    "x = cp.Variable(3)\n",
    "prob = cp.Problem(cp.Maximize((1/2)*cp.quad_form(x, Q) + c.T@x),\n",
    "                 [A@x <= b,\n",
    "                  x >= 0, x <= ub])\n",
    "#prob = cp.Problem(cp.Maximize((1/2)*cp.quad_form(x, Q) + c.T@x),\n",
    "#                 [A@x <= b,\n",
    "#                  x >= 0, x[0] <= 40.])\n",
    "prob.solve(verbose=True)\n",
    "\n",
    "# Print result.\n",
    "print(\"\\nSolution status: \", prob.status)\n",
    "print(\"Solution optimal value: \", prob.value)\n",
    "print(\"Solution x: \")\n",
    "print(x.value)\n",
    "print(\"A dual solution corresponding to the inequality constraints: \")\n",
    "print(prob.constraints[0].dual_value)"
   ]
  }
 ],
 "metadata": {
  "anaconda-cloud": {},
  "kernelspec": {
   "display_name": "Python 3 (ipykernel)",
   "language": "python",
   "name": "python3"
  },
  "language_info": {
   "codemirror_mode": {
    "name": "ipython",
    "version": 3
   },
   "file_extension": ".py",
   "mimetype": "text/x-python",
   "name": "python",
   "nbconvert_exporter": "python",
   "pygments_lexer": "ipython3",
   "version": "3.10.9"
  }
 },
 "nbformat": 4,
 "nbformat_minor": 1
}
