{
 "cells": [
  {
   "cell_type": "markdown",
   "metadata": {
    "id": "5_Q-C5xJ2L3z"
   },
   "source": [
    "# Cardinality constrained portfolio optimization"
   ]
  },
  {
   "cell_type": "markdown",
   "metadata": {
    "id": "GRkcGh3E2L34"
   },
   "source": [
    "### Import libraries"
   ]
  },
  {
   "cell_type": "code",
   "execution_count": 1,
   "metadata": {
    "id": "QmUOYSRm2L34"
   },
   "outputs": [
    {
     "name": "stdout",
     "output_type": "stream",
     "text": [
      "(CVXPY) Jun 04 01:49:36 AM: Encountered unexpected exception importing solver OSQP:\n",
      "ImportError('DLL load failed while importing qdldl: The specified module could not be found.')\n"
     ]
    }
   ],
   "source": [
    "import cvxpy as cp\n",
    "import numpy as np\n",
    "import matplotlib.pyplot as plt\n",
    "%matplotlib inline"
   ]
  },
  {
   "cell_type": "markdown",
   "metadata": {},
   "source": [
    "SCIP solver can be installed with `conda install -c conda-forge pyscipopt` or `pip install pyscipopt`."
   ]
  },
  {
   "cell_type": "code",
   "execution_count": 2,
   "metadata": {},
   "outputs": [
    {
     "ename": "ModuleNotFoundError",
     "evalue": "No module named 'pyscipopt'",
     "output_type": "error",
     "traceback": [
      "\u001b[1;31m---------------------------------------------------------------------------\u001b[0m",
      "\u001b[1;31mModuleNotFoundError\u001b[0m                       Traceback (most recent call last)",
      "Cell \u001b[1;32mIn[2], line 1\u001b[0m\n\u001b[1;32m----> 1\u001b[0m \u001b[38;5;28;01mfrom\u001b[39;00m \u001b[38;5;21;01mpyscipopt\u001b[39;00m\u001b[38;5;21;01m.\u001b[39;00m\u001b[38;5;21;01mscip\u001b[39;00m \u001b[38;5;28;01mimport\u001b[39;00m Model\n",
      "\u001b[1;31mModuleNotFoundError\u001b[0m: No module named 'pyscipopt'"
     ]
    }
   ],
   "source": [
    "from pyscipopt.scip import Model"
   ]
  },
  {
   "cell_type": "code",
   "execution_count": null,
   "metadata": {
    "id": "z43-Epeo2L35"
   },
   "outputs": [],
   "source": [
    "np.random.seed(940932)"
   ]
  },
  {
   "cell_type": "code",
   "execution_count": null,
   "metadata": {},
   "outputs": [],
   "source": [
    "print(cp.installed_solvers())"
   ]
  },
  {
   "cell_type": "markdown",
   "metadata": {
    "id": "1y2bpAD42L35"
   },
   "source": [
    "### Generate random data for 10 stocks"
   ]
  },
  {
   "cell_type": "code",
   "execution_count": null,
   "metadata": {
    "id": "Y6CjHRto2L35"
   },
   "outputs": [],
   "source": [
    "# Random data for 10 stocks\n",
    "n = 10\n",
    "Q = np.random.random((n,n))\n",
    "Q = np.dot(Q,Q.T)/1000\n",
    "# Q\n",
    "mu = np.random.rand(n) / 100\n",
    "# mu"
   ]
  },
  {
   "cell_type": "markdown",
   "metadata": {
    "id": "lipBp_-92L35"
   },
   "source": [
    "### Cardinality constrained mean-variance optimization problem"
   ]
  },
  {
   "cell_type": "markdown",
   "metadata": {
    "id": "aIGhVTNv2L36"
   },
   "source": [
    "\\begin{equation}\n",
    " \\begin{array}{rll}\n",
    "  \\displaystyle \\min_{w,z} & w^T Q w \\\\\n",
    "  \\mbox{s.t.} & \\sum_{i=1}^n w_i = 1 \\\\\n",
    "  & \\sum_{i=1}^n z_i = K \\\\\n",
    "  & l \\cdot z \\leq w \\leq u \\cdot z \\\\\n",
    "  & z = \\{0,1\\}\n",
    " \\end{array}\n",
    "\\end{equation}"
   ]
  },
  {
   "cell_type": "markdown",
   "metadata": {
    "id": "OXdAzip42L36"
   },
   "source": [
    "### Define and solve model using CVXPY modeling environment"
   ]
  },
  {
   "cell_type": "markdown",
   "metadata": {
    "id": "8Dg5h8l82L36"
   },
   "source": [
    "Compute minimum variance portfolio with cardinality $K=2$"
   ]
  },
  {
   "cell_type": "code",
   "execution_count": null,
   "metadata": {
    "colab": {
     "base_uri": "https://localhost:8080/"
    },
    "id": "2WcP3ELW2L36",
    "outputId": "74a0ccfa-37d8-4920-d685-14c53e4d6267"
   },
   "outputs": [],
   "source": [
    "w = cp.Variable(n)\n",
    "z = cp.Variable(n, boolean=True)\n",
    "K = cp.Parameter()\n",
    "K.value = 2\n",
    "prob = cp.Problem(cp.Minimize(cp.quad_form(w, Q)),\n",
    "                 [sum(w) == 1,\n",
    "                  sum(z) == K,\n",
    "                  w - z <= 0,\n",
    "                  w >= 0])\n",
    "prob.solve(solver='SCIP', verbose=True)\n",
    "\n",
    "print(\"\\nSolution status: \", prob.status)\n",
    "print(\"Solution optimal value: \", prob.value)\n",
    "print(\"Solution w: \")\n",
    "print(w.value)"
   ]
  },
  {
   "cell_type": "code",
   "execution_count": null,
   "metadata": {
    "colab": {
     "base_uri": "https://localhost:8080/"
    },
    "id": "eq1tzq0M2L37",
    "outputId": "22a5f684-0354-43f6-dab6-92082eceddc9"
   },
   "outputs": [],
   "source": [
    "w_minVar = w.value\n",
    "var_minVar = np.dot(w_minVar, np.dot(Q, w_minVar))\n",
    "print(\"Minimum variance portfolio with cardinality K=2:\\n\")\n",
    "print(\"Solution status =\", prob.status)\n",
    "print(\"Solution value =\", prob.value)\n",
    "print(\"Variance       =\", var_minVar)\n",
    "print(\"Standard deviation =\", np.sqrt(var_minVar))"
   ]
  },
  {
   "cell_type": "markdown",
   "metadata": {
    "id": "g-054FRC2L37"
   },
   "source": [
    "Compute minimum variance portfolios with cardinality $K=1,2,...,10$"
   ]
  },
  {
   "cell_type": "code",
   "execution_count": null,
   "metadata": {
    "id": "lfQy5y-72L38"
   },
   "outputs": [],
   "source": [
    "w_cardP = []\n",
    "var_cardP = []\n",
    "p_cardP = []\n",
    "for card in range(1,n+1):\n",
    "    K.value = card\n",
    "    p_cardP.append(card)\n",
    "    prob.solve(verbose=False)\n",
    "    w_cardP.append(w.value)\n",
    "    var_cardP.append(np.dot(w.value, np.dot(Q, w.value)))"
   ]
  },
  {
   "cell_type": "code",
   "execution_count": null,
   "metadata": {
    "colab": {
     "base_uri": "https://localhost:8080/",
     "height": 404
    },
    "id": "q_hOAImV2L38",
    "outputId": "b9006567-c963-455b-e101-d568ca848a4e"
   },
   "outputs": [],
   "source": [
    "fig=plt.figure(figsize=(8,4), dpi= 100, facecolor='w', edgecolor='k')\n",
    "ax = plt.gca()\n",
    "ax.plot(p_cardP, np.sqrt(var_cardP), 'bo')\n",
    "\n",
    "ax.set_xlim([0,n+1])\n",
    "ax.set_xlabel('Portfolio cardinality')\n",
    "ax.set_ylabel('Portfolio standard deviation')\n",
    "plt.title('Minimum Variance Portfolios with Cardinality Constraint')\n",
    "ax.grid()\n",
    "plt.show()"
   ]
  },
  {
   "cell_type": "code",
   "execution_count": null,
   "metadata": {
    "colab": {
     "base_uri": "https://localhost:8080/"
    },
    "id": "hH7SuWDC2L38",
    "outputId": "703f871a-99e7-486b-c25c-1fee365daac6"
   },
   "outputs": [],
   "source": [
    "w_cardP"
   ]
  }
 ],
 "metadata": {
  "anaconda-cloud": {},
  "colab": {
   "collapsed_sections": [],
   "name": "card_constr_optim.ipynb",
   "provenance": []
  },
  "kernelspec": {
   "display_name": "Python 3 (ipykernel)",
   "language": "python",
   "name": "python3"
  },
  "language_info": {
   "codemirror_mode": {
    "name": "ipython",
    "version": 3
   },
   "file_extension": ".py",
   "mimetype": "text/x-python",
   "name": "python",
   "nbconvert_exporter": "python",
   "pygments_lexer": "ipython3",
   "version": "3.10.9"
  }
 },
 "nbformat": 4,
 "nbformat_minor": 1
}
