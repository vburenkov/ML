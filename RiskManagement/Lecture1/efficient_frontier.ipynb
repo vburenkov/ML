{
 "cells": [
  {
   "cell_type": "markdown",
   "metadata": {},
   "source": [
    "# Mean-variance portfolio selection"
   ]
  },
  {
   "cell_type": "markdown",
   "metadata": {},
   "source": [
    "### Import libraries"
   ]
  },
  {
   "cell_type": "code",
   "execution_count": 1,
   "metadata": {},
   "outputs": [
    {
     "name": "stdout",
     "output_type": "stream",
     "text": [
      "(CVXPY) Jun 04 01:51:58 AM: Encountered unexpected exception importing solver OSQP:\n",
      "ImportError('DLL load failed while importing qdldl: The specified module could not be found.')\n"
     ]
    }
   ],
   "source": [
    "import cvxpy as cp\n",
    "import numpy as np\n",
    "import matplotlib.pyplot as plt\n",
    "%matplotlib inline"
   ]
  },
  {
   "cell_type": "code",
   "execution_count": 2,
   "metadata": {},
   "outputs": [],
   "source": [
    "np.random.seed(978351)"
   ]
  },
  {
   "cell_type": "markdown",
   "metadata": {},
   "source": [
    "### Generate random data for 10 stocks"
   ]
  },
  {
   "cell_type": "code",
   "execution_count": 3,
   "metadata": {},
   "outputs": [],
   "source": [
    "# Random data for 10 stocks\n",
    "n = 10\n",
    "Q = np.random.random((n,n))\n",
    "Q = np.dot(Q,Q.T)/1000\n",
    "# Q\n",
    "mu = np.random.rand(n) / 100\n",
    "# mu"
   ]
  },
  {
   "cell_type": "markdown",
   "metadata": {},
   "source": [
    "### Step 1 - compute minimum variance portfolio"
   ]
  },
  {
   "cell_type": "markdown",
   "metadata": {},
   "source": [
    "\\begin{equation}\n",
    "\\begin{array}{rl}\n",
    "\\displaystyle \\min_{w} & w^TQw \\\\\n",
    "{\\rm s.t.} & \\sum_i w_i = 1\\\\\n",
    "& w \\geq 0\n",
    "\\end{array}\n",
    "\\end{equation}"
   ]
  },
  {
   "cell_type": "code",
   "execution_count": 4,
   "metadata": {},
   "outputs": [
    {
     "name": "stdout",
     "output_type": "stream",
     "text": [
      "===============================================================================\n",
      "                                     CVXPY                                     \n",
      "                                     v1.3.1                                    \n",
      "===============================================================================\n",
      "(CVXPY) Jun 04 01:51:59 AM: Your problem has 10 variables, 2 constraints, and 0 parameters.\n",
      "(CVXPY) Jun 04 01:51:59 AM: It is compliant with the following grammars: DCP, DQCP\n",
      "(CVXPY) Jun 04 01:51:59 AM: (If you need to solve this problem multiple times, but with different data, consider using parameters.)\n",
      "(CVXPY) Jun 04 01:51:59 AM: CVXPY will first compile your problem; then, it will invoke a numerical solver to obtain a solution.\n",
      "-------------------------------------------------------------------------------\n",
      "                                  Compilation                                  \n",
      "-------------------------------------------------------------------------------\n",
      "(CVXPY) Jun 04 01:51:59 AM: Compiling problem (target solver=ECOS).\n",
      "(CVXPY) Jun 04 01:51:59 AM: Reduction chain: Dcp2Cone -> CvxAttr2Constr -> ConeMatrixStuffing -> ECOS\n",
      "(CVXPY) Jun 04 01:51:59 AM: Applying reduction Dcp2Cone\n",
      "(CVXPY) Jun 04 01:51:59 AM: Applying reduction CvxAttr2Constr\n",
      "(CVXPY) Jun 04 01:51:59 AM: Applying reduction ConeMatrixStuffing\n",
      "(CVXPY) Jun 04 01:51:59 AM: Applying reduction ECOS\n",
      "(CVXPY) Jun 04 01:51:59 AM: Finished problem compilation (took 1.562e-02 seconds).\n",
      "-------------------------------------------------------------------------------\n",
      "                                Numerical solver                               \n",
      "-------------------------------------------------------------------------------\n",
      "(CVXPY) Jun 04 01:51:59 AM: Invoking solver ECOS  to obtain a solution.\n",
      "-------------------------------------------------------------------------------\n",
      "                                    Summary                                    \n",
      "-------------------------------------------------------------------------------\n",
      "(CVXPY) Jun 04 01:51:59 AM: Problem status: optimal\n",
      "(CVXPY) Jun 04 01:51:59 AM: Optimal value: 1.899e-03\n",
      "(CVXPY) Jun 04 01:51:59 AM: Compilation took 1.562e-02 seconds\n",
      "(CVXPY) Jun 04 01:51:59 AM: Solver (including time spent in interface) took 0.000e+00 seconds\n",
      "\n",
      "Solution status:  optimal\n",
      "Solution optimal value:  0.001899092421238713\n",
      "Solution w: \n",
      "[2.80488865e-08 4.02061101e-01 2.12877413e-01 4.18912413e-09\n",
      " 2.23130372e-09 1.28868094e-09 1.23222199e-09 3.85061441e-01\n",
      " 4.97059503e-09 2.91682889e-09]\n"
     ]
    }
   ],
   "source": [
    "w1 = cp.Variable(n)\n",
    "prob1 = cp.Problem(cp.Minimize(cp.quad_form(w1, Q)),\n",
    "                 [sum(w1) == 1,\n",
    "                  w1 >= 0])\n",
    "prob1.solve(verbose=True)\n",
    "\n",
    "# Print results\n",
    "print(\"\\nSolution status: \", prob1.status)\n",
    "print(\"Solution optimal value: \", prob1.value)\n",
    "print(\"Solution w: \")\n",
    "print(w1.value)"
   ]
  },
  {
   "cell_type": "code",
   "execution_count": 5,
   "metadata": {},
   "outputs": [
    {
     "data": {
      "text/plain": [
       "True"
      ]
     },
     "execution_count": 5,
     "metadata": {},
     "output_type": "execute_result"
    }
   ],
   "source": [
    "# Check constraint\n",
    "np.allclose(np.sum(w1.value),1)"
   ]
  },
  {
   "cell_type": "code",
   "execution_count": 6,
   "metadata": {},
   "outputs": [
    {
     "name": "stdout",
     "output_type": "stream",
     "text": [
      "Minimum variance portfolio:\n",
      "\n",
      "   Solution status = optimal\n",
      "    Solution value = 0.001899092421238713\n",
      "          Variance = 0.001899092421238713\n",
      "   Expected return = 0.0032675054589301417\n",
      "Standard deviation = 0.043578577549510646\n"
     ]
    }
   ],
   "source": [
    "w_minVar = w1.value\n",
    "var_minVar = np.dot(w_minVar, np.dot(Q, w_minVar))\n",
    "ret_minVar = np.dot(mu, w_minVar)\n",
    "print(\"Minimum variance portfolio:\\n\")\n",
    "print(\"   Solution status =\", prob1.status)\n",
    "print(\"    Solution value =\", prob1.value)\n",
    "print(\"          Variance =\", var_minVar)\n",
    "print(\"   Expected return =\", ret_minVar)\n",
    "print(\"Standard deviation =\", np.sqrt(var_minVar))"
   ]
  },
  {
   "cell_type": "markdown",
   "metadata": {},
   "source": [
    "### Step 2 - compute maximum return portfolio"
   ]
  },
  {
   "cell_type": "markdown",
   "metadata": {},
   "source": [
    "\\begin{equation}\n",
    "\\begin{array}{rl}\n",
    "\\displaystyle \\max_{w} & \\mu^Tw \\\\\n",
    "{\\rm s.t.} & \\sum_i w_i = 1\\\\\n",
    "& w \\geq 0\n",
    "\\end{array}\n",
    "\\end{equation}"
   ]
  },
  {
   "cell_type": "code",
   "execution_count": 7,
   "metadata": {},
   "outputs": [
    {
     "name": "stdout",
     "output_type": "stream",
     "text": [
      "===============================================================================\n",
      "                                     CVXPY                                     \n",
      "                                     v1.3.1                                    \n",
      "===============================================================================\n",
      "(CVXPY) Jun 04 01:51:59 AM: Your problem has 10 variables, 2 constraints, and 0 parameters.\n",
      "(CVXPY) Jun 04 01:51:59 AM: It is compliant with the following grammars: DCP, DQCP\n",
      "(CVXPY) Jun 04 01:51:59 AM: (If you need to solve this problem multiple times, but with different data, consider using parameters.)\n",
      "(CVXPY) Jun 04 01:51:59 AM: CVXPY will first compile your problem; then, it will invoke a numerical solver to obtain a solution.\n",
      "-------------------------------------------------------------------------------\n",
      "                                  Compilation                                  \n",
      "-------------------------------------------------------------------------------\n",
      "(CVXPY) Jun 04 01:51:59 AM: Compiling problem (target solver=ECOS).\n",
      "(CVXPY) Jun 04 01:51:59 AM: Reduction chain: FlipObjective -> Dcp2Cone -> CvxAttr2Constr -> ConeMatrixStuffing -> ECOS\n",
      "(CVXPY) Jun 04 01:51:59 AM: Applying reduction FlipObjective\n",
      "(CVXPY) Jun 04 01:51:59 AM: Applying reduction Dcp2Cone\n",
      "(CVXPY) Jun 04 01:51:59 AM: Applying reduction CvxAttr2Constr\n",
      "(CVXPY) Jun 04 01:51:59 AM: Applying reduction ConeMatrixStuffing\n",
      "(CVXPY) Jun 04 01:51:59 AM: Applying reduction ECOS\n",
      "(CVXPY) Jun 04 01:51:59 AM: Finished problem compilation (took 1.563e-02 seconds).\n",
      "-------------------------------------------------------------------------------\n",
      "                                Numerical solver                               \n",
      "-------------------------------------------------------------------------------\n",
      "(CVXPY) Jun 04 01:51:59 AM: Invoking solver ECOS  to obtain a solution.\n",
      "-------------------------------------------------------------------------------\n",
      "                                    Summary                                    \n",
      "-------------------------------------------------------------------------------\n",
      "(CVXPY) Jun 04 01:51:59 AM: Problem status: optimal\n",
      "(CVXPY) Jun 04 01:51:59 AM: Optimal value: 8.935e-03\n",
      "(CVXPY) Jun 04 01:51:59 AM: Compilation took 1.563e-02 seconds\n",
      "(CVXPY) Jun 04 01:51:59 AM: Solver (including time spent in interface) took 0.000e+00 seconds\n",
      "\n",
      "Solution status:  optimal\n",
      "Solution optimal value:  0.008934923691822914\n",
      "Solution w: \n",
      "[5.92195886e-09 5.74678502e-09 3.42952593e-09 3.11870923e-09\n",
      " 5.91967975e-09 9.99999954e-01 9.06976763e-09 7.27168066e-09\n",
      " 2.63140981e-09 3.31438393e-09]\n"
     ]
    }
   ],
   "source": [
    "w2 = cp.Variable(n)\n",
    "prob2 = cp.Problem(cp.Maximize(mu.T@w2),\n",
    "                 [sum(w2) == 1,\n",
    "                  w2 >= 0])\n",
    "prob2.solve(verbose=True)\n",
    "\n",
    "# Print results\n",
    "print(\"\\nSolution status: \", prob2.status)\n",
    "print(\"Solution optimal value: \", prob2.value)\n",
    "print(\"Solution w: \")\n",
    "print(w2.value)"
   ]
  },
  {
   "cell_type": "code",
   "execution_count": 8,
   "metadata": {},
   "outputs": [
    {
     "name": "stdout",
     "output_type": "stream",
     "text": [
      "Maximum return portfolio:\n",
      "\n",
      "   Solution status = optimal\n",
      "    Solution value = 0.008934923691822914\n",
      "   Expected return = 0.008934923691822914\n",
      "          Variance = 0.00445041516526107\n",
      "Standard deviation = 0.06671143204324931\n"
     ]
    }
   ],
   "source": [
    "w_maxRet = w2.value\n",
    "var_maxRet = np.dot(w_maxRet, np.dot(Q, w_maxRet))\n",
    "ret_maxRet = np.dot(mu, w_maxRet)\n",
    "print(\"Maximum return portfolio:\\n\")\n",
    "print(\"   Solution status =\", prob2.status)\n",
    "print(\"    Solution value =\", prob2.value)\n",
    "print(\"   Expected return =\", ret_maxRet)\n",
    "print(\"          Variance =\", var_maxRet)\n",
    "print(\"Standard deviation =\", np.sqrt(var_maxRet))"
   ]
  },
  {
   "cell_type": "markdown",
   "metadata": {},
   "source": [
    "### Step 3 - compute mean-variance efficient frontier"
   ]
  },
  {
   "cell_type": "markdown",
   "metadata": {},
   "source": [
    "\\begin{equation}\n",
    "\\begin{array}{rl}\n",
    "\\displaystyle \\min_{w} & w^TQw \\\\\n",
    "{\\rm s.t.} & \\mu^Tw \\geq \\varepsilon \\\\\n",
    "&\\sum_i w_i = 1\\\\\n",
    "& w \\geq 0\n",
    "\\end{array}\n",
    "\\end{equation}\n",
    "\\begin{equation}\n",
    "\\varepsilon \\in [\\varepsilon_{R_{\\rm minVar}},\\varepsilon_{R_{\\rm maxRet}}]\n",
    "\\end{equation}"
   ]
  },
  {
   "cell_type": "code",
   "execution_count": 9,
   "metadata": {},
   "outputs": [
    {
     "data": {
      "text/plain": [
       "array([0.00326751, 0.00338317, 0.00349883, 0.00361449, 0.00373015,\n",
       "       0.00384581, 0.00396148, 0.00407714, 0.0041928 , 0.00430846,\n",
       "       0.00442412, 0.00453978, 0.00465544, 0.00477111, 0.00488677,\n",
       "       0.00500243, 0.00511809, 0.00523375, 0.00534941, 0.00546508,\n",
       "       0.00558074, 0.0056964 , 0.00581206, 0.00592772, 0.00604338,\n",
       "       0.00615905, 0.00627471, 0.00639037, 0.00650603, 0.00662169,\n",
       "       0.00673735, 0.00685301, 0.00696868, 0.00708434, 0.0072    ,\n",
       "       0.00731566, 0.00743132, 0.00754698, 0.00766265, 0.00777831,\n",
       "       0.00789397, 0.00800963, 0.00812529, 0.00824095, 0.00835662,\n",
       "       0.00847228, 0.00858794, 0.0087036 , 0.00881926, 0.00893492])"
      ]
     },
     "execution_count": 9,
     "metadata": {},
     "output_type": "execute_result"
    }
   ],
   "source": [
    "# Target returns\n",
    "targetRet = np.linspace(ret_minVar,ret_maxRet,50)\n",
    "targetRet"
   ]
  },
  {
   "cell_type": "code",
   "execution_count": 10,
   "metadata": {},
   "outputs": [
    {
     "name": "stdout",
     "output_type": "stream",
     "text": [
      "\n",
      "Solution status:  optimal\n",
      "Solution optimal value:  0.0018990924439691212\n",
      "Solution w: \n",
      "[2.85081296e-08 4.02043258e-01 2.12857366e-01 1.41033391e-08\n",
      " 5.64215476e-09 3.32096042e-09 3.00339645e-09 3.85099301e-01\n",
      " 1.16902262e-08 8.80329758e-09]\n"
     ]
    }
   ],
   "source": [
    "# Define optimization problem and compute one portfolio on efficient frontier\n",
    "w = cp.Variable(n)\n",
    "eps = cp.Parameter()\n",
    "eps.value = targetRet[0]\n",
    "prob3 = cp.Problem(cp.Minimize(cp.quad_form(w, Q)),\n",
    "                 [mu.T@w >= eps,\n",
    "                  sum(w) == 1,\n",
    "                  w >= 0])\n",
    "prob3.solve(verbose=False)\n",
    "\n",
    "# Print results\n",
    "print(\"\\nSolution status: \", prob3.status)\n",
    "print(\"Solution optimal value: \", prob3.value)\n",
    "print(\"Solution w: \")\n",
    "print(w.value)"
   ]
  },
  {
   "cell_type": "code",
   "execution_count": 11,
   "metadata": {},
   "outputs": [],
   "source": [
    "# Compute efficient frontier\n",
    "w_front = []\n",
    "var_front = []\n",
    "ret_front = []\n",
    "for epsilon in targetRet:\n",
    "    eps.value = epsilon\n",
    "    prob3.solve(verbose=False)\n",
    "    w_front.append(w.value)\n",
    "    var_front.append(np.dot(w.value, np.dot(Q, w.value)))\n",
    "    ret_front.append(np.dot(mu, w.value))"
   ]
  },
  {
   "cell_type": "markdown",
   "metadata": {},
   "source": [
    "Plot efficient frontier"
   ]
  },
  {
   "cell_type": "code",
   "execution_count": 12,
   "metadata": {},
   "outputs": [
    {
     "data": {
      "image/png": "[encoded data removed]",
      "text/plain": [
       "<Figure size 1000x500 with 1 Axes>"
      ]
     },
     "metadata": {},
     "output_type": "display_data"
    }
   ],
   "source": [
    "fig=plt.figure(figsize=(10,5), dpi= 100, facecolor='w', edgecolor='k')\n",
    "ax = plt.gca()\n",
    "    \n",
    "# Plot volatility versus expected return for minimum variance portfolio\n",
    "ax.scatter(x=np.sqrt(var_minVar), y=ret_minVar, marker='D', s=50,  color='DarkGreen', label='minimum variance portfolio')\n",
    "\n",
    "# Plot volatility versus expected return for maximum return portfolio\n",
    "ax.scatter(x=np.sqrt(var_maxRet), y=ret_maxRet,  marker='s', s=50, color='DarkMagenta', label='maximum return portfolio')\n",
    "\n",
    "# Plot efficient frontier\n",
    "ax.plot(np.sqrt(var_front), ret_front, 'k-', label='efficient frontier')\n",
    "\n",
    "# Plot volatility versus expected return for individual stocks\n",
    "ax.scatter(x=np.sqrt(np.diag(Q)), y=mu, color='Blue', label='individual stocks')\n",
    "\n",
    "# Format and display the final plot\n",
    "ax.axis([0.9*np.sqrt(var_minVar), 1.2*np.max(np.sqrt(np.diag(Q))), np.min(mu)-0.1*(np.max(mu)-np.min(mu)), 1.1*ret_maxRet])\n",
    "ax.set_xlabel('Volatility (Standard Deviation)')\n",
    "ax.set_ylabel('Expected Return')\n",
    "plt.title('Efficient Frontier')\n",
    "ax.legend(loc=\"lower right\")\n",
    "ax.grid()\n",
    "plt.show()"
   ]
  }
 ],
 "metadata": {
  "anaconda-cloud": {},
  "kernelspec": {
   "display_name": "Python 3 (ipykernel)",
   "language": "python",
   "name": "python3"
  },
  "language_info": {
   "codemirror_mode": {
    "name": "ipython",
    "version": 3
   },
   "file_extension": ".py",
   "mimetype": "text/x-python",
   "name": "python",
   "nbconvert_exporter": "python",
   "pygments_lexer": "ipython3",
   "version": "3.10.9"
  }
 },
 "nbformat": 4,
 "nbformat_minor": 1
}
