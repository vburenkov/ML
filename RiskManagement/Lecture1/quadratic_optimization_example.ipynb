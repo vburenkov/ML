{
 "cells": [
  {
   "cell_type": "markdown",
   "metadata": {},
   "source": [
    "# Create and optimize a quadratic optimization problem in CVXPY"
   ]
  },
  {
   "cell_type": "markdown",
   "metadata": {},
   "source": [
    "### Quadratic optimization problem"
   ]
  },
  {
   "cell_type": "markdown",
   "metadata": {},
   "source": [
    "\\begin{equation}\n",
    "\\begin{array}{rl}\n",
    "\\displaystyle \\mbox{max}_{x} & x_1 + 2 x_2 + 3 x_3 - 0.5 ( 33 x_1^2 + \\\\\n",
    "& 22 x_2^2 + 11 x_3^2 -  12 x_1 x_2 - 23 x_2 x_3 ) \\\\\n",
    "{\\rm s.t.} & - x_1 + x_2 + x_3 \\leq 20 \\\\\n",
    "& x_1 - 3 x_2 + x_3 \\leq 30 \\\\\n",
    "& 0 \\leq x_1 \\leq 40 \\\\\n",
    "& x_2 \\geq 0,~ x_3 \\geq 0\n",
    "\\end{array}\n",
    "\\end{equation}"
   ]
  },
  {
   "cell_type": "markdown",
   "metadata": {},
   "source": [
    "### Solve quadratic optimization model using CVXPY modeling environment\n",
    "\n",
    "CVXPY is a Python-embedded modeling language for convex optimization problems. It automatically transforms the problem into standard form, calls a solver, and unpacks the results.\n",
    "\n",
    "CVXPY can be installed with `conda install -c conda-forge cvxpy` or `pip install cvxpy`."
   ]
  },
  {
   "cell_type": "code",
   "execution_count": 3,
   "metadata": {},
   "outputs": [],
   "source": [
    "#!pip install cvxpy"
   ]
  },
  {
   "cell_type": "code",
   "execution_count": 4,
   "metadata": {},
   "outputs": [
    {
     "name": "stdout",
     "output_type": "stream",
     "text": [
      "(CVXPY) Jun 03 11:25:31 PM: Encountered unexpected exception importing solver OSQP:\n",
      "ImportError('DLL load failed while importing qdldl: The specified module could not be found.')\n"
     ]
    }
   ],
   "source": [
    "import cvxpy as cp\n",
    "import numpy as np"
   ]
  },
  {
   "cell_type": "code",
   "execution_count": 5,
   "metadata": {},
   "outputs": [
    {
     "name": "stdout",
     "output_type": "stream",
     "text": [
      "===============================================================================\n",
      "                                     CVXPY                                     \n",
      "                                     v1.3.1                                    \n",
      "===============================================================================\n",
      "(CVXPY) Jun 03 11:25:31 PM: Your problem has 3 variables, 3 constraints, and 0 parameters.\n",
      "(CVXPY) Jun 03 11:25:31 PM: It is compliant with the following grammars: DCP, DQCP\n",
      "(CVXPY) Jun 03 11:25:31 PM: (If you need to solve this problem multiple times, but with different data, consider using parameters.)\n",
      "(CVXPY) Jun 03 11:25:31 PM: CVXPY will first compile your problem; then, it will invoke a numerical solver to obtain a solution.\n",
      "-------------------------------------------------------------------------------\n",
      "                                  Compilation                                  \n",
      "-------------------------------------------------------------------------------\n",
      "(CVXPY) Jun 03 11:25:31 PM: Compiling problem (target solver=ECOS).\n",
      "(CVXPY) Jun 03 11:25:31 PM: Reduction chain: FlipObjective -> Dcp2Cone -> CvxAttr2Constr -> ConeMatrixStuffing -> ECOS\n",
      "(CVXPY) Jun 03 11:25:31 PM: Applying reduction FlipObjective\n",
      "(CVXPY) Jun 03 11:25:31 PM: Applying reduction Dcp2Cone\n",
      "(CVXPY) Jun 03 11:25:31 PM: Applying reduction CvxAttr2Constr\n",
      "(CVXPY) Jun 03 11:25:31 PM: Applying reduction ConeMatrixStuffing\n",
      "(CVXPY) Jun 03 11:25:31 PM: Applying reduction ECOS\n",
      "(CVXPY) Jun 03 11:25:31 PM: Finished problem compilation (took 1.040e-01 seconds).\n",
      "-------------------------------------------------------------------------------\n",
      "                                Numerical solver                               \n",
      "-------------------------------------------------------------------------------\n",
      "(CVXPY) Jun 03 11:25:31 PM: Invoking solver ECOS  to obtain a solution.\n",
      "-------------------------------------------------------------------------------\n",
      "                                    Summary                                    \n",
      "-------------------------------------------------------------------------------\n",
      "(CVXPY) Jun 03 11:25:31 PM: Problem status: optimal_inaccurate\n",
      "(CVXPY) Jun 03 11:25:31 PM: Optimal value: 8.066e-12\n",
      "(CVXPY) Jun 03 11:25:31 PM: Compilation took 1.040e-01 seconds\n",
      "(CVXPY) Jun 03 11:25:31 PM: Solver (including time spent in interface) took 9.995e-04 seconds\n",
      "\n",
      "Solution status:  optimal_inaccurate\n",
      "Solution optimal value:  8.065557313280715e-12\n",
      "Solution x: \n",
      "[8.26011322e-13 8.10862590e-13 1.87260694e-12]\n",
      "A dual solution corresponding to the inequality constraints: \n",
      "[59036.33015331 25564.31201982]\n"
     ]
    },
    {
     "name": "stderr",
     "output_type": "stream",
     "text": [
      "C:\\Users\\Valentine\\anaconda3\\lib\\site-packages\\cvxpy\\problems\\problem.py:1385: UserWarning: Solution may be inaccurate. Try another solver, adjusting the solver settings, or solve with verbose=True for more information.\n",
      "  warnings.warn(\n"
     ]
    }
   ],
   "source": [
    "Q = np.array([[-33.0, 6.0, 0.0], [6.0, -22.0, 11.5], [0., 11.5, -11.0]])\n",
    "c = np.array([1., 2., 3.])\n",
    "A = np.array([[-1., 1., 1.], [1., -3., 1.]])\n",
    "b = np.array([20., 30.])\n",
    "ub = np.array([40., np.inf, np.inf])\n",
    "x = cp.Variable(3)\n",
    "prob = cp.Problem(cp.Maximize((1/2)*cp.quad_form(x, Q) + c.T@x),\n",
    "                 [A@x <= b,\n",
    "                  x >= 0, x <= ub])\n",
    "#prob = cp.Problem(cp.Maximize((1/2)*cp.quad_form(x, Q) + c.T@x),\n",
    "#                 [A@x <= b,\n",
    "#                  x >= 0, x[0] <= 40.])\n",
    "prob.solve(verbose=True)\n",
    "\n",
    "# Print result.\n",
    "print(\"\\nSolution status: \", prob.status)\n",
    "print(\"Solution optimal value: \", prob.value)\n",
    "print(\"Solution x: \")\n",
    "print(x.value)\n",
    "print(\"A dual solution corresponding to the inequality constraints: \")\n",
    "print(prob.constraints[0].dual_value)"
   ]
  },
  {
   "cell_type": "code",
   "execution_count": null,
   "metadata": {},
   "outputs": [],
   "source": []
  }
 ],
 "metadata": {
  "anaconda-cloud": {},
  "kernelspec": {
   "display_name": "Python 3 (ipykernel)",
   "language": "python",
   "name": "python3"
  },
  "language_info": {
   "codemirror_mode": {
    "name": "ipython",
    "version": 3
   },
   "file_extension": ".py",
   "mimetype": "text/x-python",
   "name": "python",
   "nbconvert_exporter": "python",
   "pygments_lexer": "ipython3",
   "version": "3.10.9"
  }
 },
 "nbformat": 4,
 "nbformat_minor": 1
}
