{
 "cells": [
  {
   "cell_type": "markdown",
   "metadata": {
    "id": "5_Q-C5xJ2L3z"
   },
   "source": [
    "# Cardinality constrained portfolio optimization"
   ]
  },
  {
   "cell_type": "markdown",
   "metadata": {
    "id": "GRkcGh3E2L34"
   },
   "source": [
    "### Import libraries"
   ]
  },
  {
   "cell_type": "code",
   "execution_count": 2,
   "metadata": {
    "id": "QmUOYSRm2L34"
   },
   "outputs": [],
   "source": [
    "import cvxpy as cp\n",
    "import numpy as np\n",
    "import matplotlib.pyplot as plt\n",
    "%matplotlib inline"
   ]
  },
  {
   "cell_type": "markdown",
   "metadata": {},
   "source": [
    "SCIP solver can be installed with `conda install -c conda-forge pyscipopt` or `pip install pyscipopt`."
   ]
  },
  {
   "cell_type": "code",
   "execution_count": 3,
   "metadata": {},
   "outputs": [],
   "source": [
    "from pyscipopt.scip import Model"
   ]
  },
  {
   "cell_type": "code",
   "execution_count": 4,
   "metadata": {
    "id": "z43-Epeo2L35"
   },
   "outputs": [],
   "source": [
    "np.random.seed(940932)"
   ]
  },
  {
   "cell_type": "code",
   "execution_count": 6,
   "metadata": {},
   "outputs": [
    {
     "name": "stdout",
     "output_type": "stream",
     "text": [
      "(CVXPY) May 26 06:59:09 PM: Encountered unexpected exception importing solver OSQP:\n",
      "ImportError('DLL load failed while importing qdldl: The specified module could not be found.')\n",
      "['CPLEX', 'ECOS', 'ECOS_BB', 'GUROBI', 'SCIP', 'SCIPY', 'SCS']\n"
     ]
    }
   ],
   "source": [
    "print(cp.installed_solvers())"
   ]
  },
  {
   "cell_type": "markdown",
   "metadata": {
    "id": "1y2bpAD42L35"
   },
   "source": [
    "### Generate random data for 10 stocks"
   ]
  },
  {
   "cell_type": "code",
   "execution_count": 7,
   "metadata": {
    "id": "Y6CjHRto2L35"
   },
   "outputs": [],
   "source": [
    "# Random data for 10 stocks\n",
    "n = 10\n",
    "Q = np.random.random((n,n))\n",
    "Q = np.dot(Q,Q.T)/1000\n",
    "# Q\n",
    "mu = np.random.rand(n) / 100\n",
    "# mu"
   ]
  },
  {
   "cell_type": "markdown",
   "metadata": {
    "id": "lipBp_-92L35"
   },
   "source": [
    "### Cardinality constrained mean-variance optimization problem"
   ]
  },
  {
   "cell_type": "markdown",
   "metadata": {
    "id": "aIGhVTNv2L36"
   },
   "source": [
    "\\begin{equation}\n",
    " \\begin{array}{rll}\n",
    "  \\displaystyle \\min_{w,z} & w^T Q w \\\\\n",
    "  \\mbox{s.t.} & \\sum_{i=1}^n w_i = 1 \\\\\n",
    "  & \\sum_{i=1}^n z_i = K \\\\\n",
    "  & l \\cdot z \\leq w \\leq u \\cdot z \\\\\n",
    "  & z = \\{0,1\\}\n",
    " \\end{array}\n",
    "\\end{equation}"
   ]
  },
  {
   "cell_type": "markdown",
   "metadata": {
    "id": "OXdAzip42L36"
   },
   "source": [
    "### Define and solve model using CVXPY modeling environment"
   ]
  },
  {
   "cell_type": "markdown",
   "metadata": {
    "id": "8Dg5h8l82L36"
   },
   "source": [
    "Compute minimum variance portfolio with cardinality $K=2$"
   ]
  },
  {
   "cell_type": "code",
   "execution_count": 8,
   "metadata": {
    "colab": {
     "base_uri": "https://localhost:8080/"
    },
    "id": "2WcP3ELW2L36",
    "outputId": "74a0ccfa-37d8-4920-d685-14c53e4d6267"
   },
   "outputs": [
    {
     "name": "stdout",
     "output_type": "stream",
     "text": [
      "===============================================================================\n",
      "                                     CVXPY                                     \n",
      "                                     v1.3.1                                    \n",
      "===============================================================================\n",
      "(CVXPY) May 26 06:59:24 PM: Your problem has 20 variables, 4 constraints, and 1 parameters.\n",
      "(CVXPY) May 26 06:59:24 PM: It is compliant with the following grammars: DCP, DQCP\n",
      "(CVXPY) May 26 06:59:24 PM: CVXPY will first compile your problem; then, it will invoke a numerical solver to obtain a solution.\n",
      "-------------------------------------------------------------------------------\n",
      "                                  Compilation                                  \n",
      "-------------------------------------------------------------------------------\n",
      "(CVXPY) May 26 06:59:24 PM: Compiling problem (target solver=SCIP).\n",
      "(CVXPY) May 26 06:59:24 PM: Reduction chain: Dcp2Cone -> CvxAttr2Constr -> ConeMatrixStuffing -> SCIP\n",
      "(CVXPY) May 26 06:59:24 PM: Applying reduction Dcp2Cone\n",
      "(CVXPY) May 26 06:59:24 PM: Applying reduction CvxAttr2Constr\n",
      "(CVXPY) May 26 06:59:24 PM: Applying reduction ConeMatrixStuffing\n",
      "(CVXPY) May 26 06:59:24 PM: Applying reduction SCIP\n",
      "(CVXPY) May 26 06:59:24 PM: Finished problem compilation (took 2.801e-02 seconds).\n",
      "(CVXPY) May 26 06:59:24 PM: (Subsequent compilations of this problem, using the same arguments, should take less time.)\n",
      "-------------------------------------------------------------------------------\n",
      "                                Numerical solver                               \n",
      "-------------------------------------------------------------------------------\n",
      "(CVXPY) May 26 06:59:24 PM: Invoking solver SCIP  to obtain a solution.\n",
      "-------------------------------------------------------------------------------\n",
      "                                    Summary                                    \n",
      "-------------------------------------------------------------------------------\n",
      "(CVXPY) May 26 06:59:25 PM: Problem status: optimal\n",
      "(CVXPY) May 26 06:59:25 PM: Optimal value: 2.010e-03\n",
      "(CVXPY) May 26 06:59:25 PM: Compilation took 2.801e-02 seconds\n",
      "(CVXPY) May 26 06:59:25 PM: Solver (including time spent in interface) took 4.828e-01 seconds\n",
      "\n",
      "Solution status:  optimal\n",
      "Solution optimal value:  0.0020103453840062424\n",
      "Solution w: \n",
      "[ 0.         -0.          0.          0.67120985  0.32879015  0.\n",
      " -0.          0.          0.         -0.        ]\n"
     ]
    }
   ],
   "source": [
    "w = cp.Variable(n)\n",
    "z = cp.Variable(n, boolean=True)\n",
    "K = cp.Parameter()\n",
    "K.value = 2\n",
    "prob = cp.Problem(cp.Minimize(cp.quad_form(w, Q)),\n",
    "                 [sum(w) == 1,\n",
    "                  sum(z) == K,\n",
    "                  w - z <= 0,\n",
    "                  w >= 0])\n",
    "prob.solve(solver='SCIP', verbose=True)\n",
    "\n",
    "print(\"\\nSolution status: \", prob.status)\n",
    "print(\"Solution optimal value: \", prob.value)\n",
    "print(\"Solution w: \")\n",
    "print(w.value)"
   ]
  },
  {
   "cell_type": "code",
   "execution_count": 9,
   "metadata": {
    "colab": {
     "base_uri": "https://localhost:8080/"
    },
    "id": "eq1tzq0M2L37",
    "outputId": "22a5f684-0354-43f6-dab6-92082eceddc9"
   },
   "outputs": [
    {
     "name": "stdout",
     "output_type": "stream",
     "text": [
      "Minimum variance portfolio with cardinality K=2:\n",
      "\n",
      "Solution status = optimal\n",
      "Solution value = 0.0020103453840062424\n",
      "Variance       = 0.0020103453840062424\n",
      "Standard deviation = 0.044836875270320105\n"
     ]
    }
   ],
   "source": [
    "w_minVar = w.value\n",
    "var_minVar = np.dot(w_minVar, np.dot(Q, w_minVar))\n",
    "print(\"Minimum variance portfolio with cardinality K=2:\\n\")\n",
    "print(\"Solution status =\", prob.status)\n",
    "print(\"Solution value =\", prob.value)\n",
    "print(\"Variance       =\", var_minVar)\n",
    "print(\"Standard deviation =\", np.sqrt(var_minVar))"
   ]
  },
  {
   "cell_type": "markdown",
   "metadata": {
    "id": "g-054FRC2L37"
   },
   "source": [
    "Compute minimum variance portfolios with cardinality $K=1,2,...,10$"
   ]
  },
  {
   "cell_type": "code",
   "execution_count": 10,
   "metadata": {
    "id": "lfQy5y-72L38"
   },
   "outputs": [
    {
     "name": "stdout",
     "output_type": "stream",
     "text": [
      "Set parameter Username\n",
      "Academic license - for non-commercial use only - expires 2023-11-11\n"
     ]
    }
   ],
   "source": [
    "w_cardP = []\n",
    "var_cardP = []\n",
    "p_cardP = []\n",
    "for card in range(1,n+1):\n",
    "    K.value = card\n",
    "    p_cardP.append(card)\n",
    "    prob.solve(verbose=False)\n",
    "    w_cardP.append(w.value)\n",
    "    var_cardP.append(np.dot(w.value, np.dot(Q, w.value)))"
   ]
  },
  {
   "cell_type": "code",
   "execution_count": 11,
   "metadata": {
    "colab": {
     "base_uri": "https://localhost:8080/",
     "height": 404
    },
    "id": "q_hOAImV2L38",
    "outputId": "b9006567-c963-455b-e101-d568ca848a4e"
   },
   "outputs": [
    {
     "data": {
      "image/png": "[encoded data removed]",
      "text/plain": [
       "<Figure size 800x400 with 1 Axes>"
      ]
     },
     "metadata": {},
     "output_type": "display_data"
    }
   ],
   "source": [
    "fig=plt.figure(figsize=(8,4), dpi= 100, facecolor='w', edgecolor='k')\n",
    "ax = plt.gca()\n",
    "ax.plot(p_cardP, np.sqrt(var_cardP), 'bo')\n",
    "\n",
    "ax.set_xlim([0,n+1])\n",
    "ax.set_xlabel('Portfolio cardinality')\n",
    "ax.set_ylabel('Portfolio standard deviation')\n",
    "plt.title('Minimum Variance Portfolios with Cardinality Constraint')\n",
    "ax.grid()\n",
    "plt.show()"
   ]
  },
  {
   "cell_type": "code",
   "execution_count": 12,
   "metadata": {
    "colab": {
     "base_uri": "https://localhost:8080/"
    },
    "id": "hH7SuWDC2L38",
    "outputId": "703f871a-99e7-486b-c25c-1fee365daac6"
   },
   "outputs": [
    {
     "data": {
      "text/plain": [
       "[array([0., 0., 0., 1., 0., 0., 0., 0., 0., 0.]),\n",
       " array([0.        , 0.        , 0.        , 0.67151809, 0.32848191,\n",
       "        0.        , 0.        , 0.        , 0.        , 0.        ]),\n",
       " array([0.        , 0.        , 0.        , 0.50808798, 0.27805418,\n",
       "        0.        , 0.21385784, 0.        , 0.        , 0.        ]),\n",
       " array([0.07658429, 0.        , 0.        , 0.51981324, 0.24055557,\n",
       "        0.        , 0.16304689, 0.        , 0.        , 0.        ]),\n",
       " array([0.07658429, 0.        , 0.        , 0.51981324, 0.24055557,\n",
       "        0.        , 0.16304689, 0.        , 0.        , 0.        ]),\n",
       " array([0.07658429, 0.        , 0.        , 0.51981324, 0.24055557,\n",
       "        0.        , 0.16304689, 0.        , 0.        , 0.        ]),\n",
       " array([0.07658429, 0.        , 0.        , 0.51981324, 0.24055557,\n",
       "        0.        , 0.16304689, 0.        , 0.        , 0.        ]),\n",
       " array([0.07658429, 0.        , 0.        , 0.51981324, 0.24055557,\n",
       "        0.        , 0.16304689, 0.        , 0.        , 0.        ]),\n",
       " array([0.07658429, 0.        , 0.        , 0.51981324, 0.24055557,\n",
       "        0.        , 0.16304689, 0.        , 0.        , 0.        ]),\n",
       " array([7.65946838e-02, 3.12112042e-06, 2.55624621e-06, 5.19812169e-01,\n",
       "        2.40546512e-01, 3.26993742e-07, 1.63037800e-01, 1.16489411e-06,\n",
       "        1.34568786e-06, 3.19412774e-07])]"
      ]
     },
     "execution_count": 12,
     "metadata": {},
     "output_type": "execute_result"
    }
   ],
   "source": [
    "w_cardP"
   ]
  }
 ],
 "metadata": {
  "anaconda-cloud": {},
  "colab": {
   "collapsed_sections": [],
   "name": "card_constr_optim.ipynb",
   "provenance": []
  },
  "kernelspec": {
   "display_name": "Python 3 (ipykernel)",
   "language": "python",
   "name": "python3"
  },
  "language_info": {
   "codemirror_mode": {
    "name": "ipython",
    "version": 3
   },
   "file_extension": ".py",
   "mimetype": "text/x-python",
   "name": "python",
   "nbconvert_exporter": "python",
   "pygments_lexer": "ipython3",
   "version": "3.9.16"
  }
 },
 "nbformat": 4,
 "nbformat_minor": 1
}
