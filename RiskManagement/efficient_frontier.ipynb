{
 "cells": [
  {
   "cell_type": "markdown",
   "metadata": {},
   "source": [
    "# Mean-variance portfolio selection"
   ]
  },
  {
   "cell_type": "markdown",
   "metadata": {},
   "source": [
    "### Import libraries"
   ]
  },
  {
   "cell_type": "code",
   "execution_count": 2,
   "metadata": {},
   "outputs": [],
   "source": [
    "import cvxpy as cp\n",
    "import numpy as np\n",
    "import matplotlib.pyplot as plt\n",
    "%matplotlib inline"
   ]
  },
  {
   "cell_type": "code",
   "execution_count": 3,
   "metadata": {},
   "outputs": [],
   "source": [
    "np.random.seed(978351)"
   ]
  },
  {
   "cell_type": "markdown",
   "metadata": {},
   "source": [
    "### Generate random data for 10 stocks"
   ]
  },
  {
   "cell_type": "code",
   "execution_count": 4,
   "metadata": {},
   "outputs": [],
   "source": [
    "# Random data for 10 stocks\n",
    "n = 10\n",
    "Q = np.random.random((n,n))\n",
    "Q = np.dot(Q,Q.T)/1000\n",
    "# Q\n",
    "mu = np.random.rand(n) / 100\n",
    "# mu"
   ]
  },
  {
   "cell_type": "markdown",
   "metadata": {},
   "source": [
    "### Step 1 - compute minimum variance portfolio"
   ]
  },
  {
   "cell_type": "markdown",
   "metadata": {},
   "source": [
    "\\begin{equation}\n",
    "\\begin{array}{rl}\n",
    "\\displaystyle \\min_{w} & w^TQw \\\\\n",
    "{\\rm s.t.} & \\sum_i w_i = 1\\\\\n",
    "& w \\geq 0\n",
    "\\end{array}\n",
    "\\end{equation}"
   ]
  },
  {
   "cell_type": "code",
   "execution_count": 5,
   "metadata": {},
   "outputs": [
    {
     "name": "stdout",
     "output_type": "stream",
     "text": [
      "===============================================================================\n",
      "                                     CVXPY                                     \n",
      "                                     v1.3.1                                    \n",
      "===============================================================================\n",
      "(CVXPY) May 26 07:00:08 PM: Your problem has 10 variables, 2 constraints, and 0 parameters.\n",
      "(CVXPY) May 26 07:00:09 PM: It is compliant with the following grammars: DCP, DQCP\n",
      "(CVXPY) May 26 07:00:09 PM: (If you need to solve this problem multiple times, but with different data, consider using parameters.)\n",
      "(CVXPY) May 26 07:00:09 PM: CVXPY will first compile your problem; then, it will invoke a numerical solver to obtain a solution.\n",
      "-------------------------------------------------------------------------------\n",
      "                                  Compilation                                  \n",
      "-------------------------------------------------------------------------------\n",
      "(CVXPY) May 26 07:00:09 PM: Compiling problem (target solver=GUROBI).\n",
      "(CVXPY) May 26 07:00:09 PM: Reduction chain: CvxAttr2Constr -> Qp2SymbolicQp -> QpMatrixStuffing -> GUROBI\n",
      "(CVXPY) May 26 07:00:09 PM: Applying reduction CvxAttr2Constr\n",
      "(CVXPY) May 26 07:00:09 PM: Applying reduction Qp2SymbolicQp\n",
      "(CVXPY) May 26 07:00:09 PM: Applying reduction QpMatrixStuffing\n",
      "(CVXPY) May 26 07:00:09 PM: Applying reduction GUROBI\n",
      "(CVXPY) May 26 07:00:09 PM: Finished problem compilation (took 1.500e-02 seconds).\n",
      "-------------------------------------------------------------------------------\n",
      "                                Numerical solver                               \n",
      "-------------------------------------------------------------------------------\n",
      "(CVXPY) May 26 07:00:09 PM: Invoking solver GUROBI  to obtain a solution.\n",
      "Set parameter Username\n",
      "Academic license - for non-commercial use only - expires 2023-11-11\n",
      "Set parameter QCPDual to value 1\n",
      "Gurobi Optimizer version 10.0.1 build v10.0.1rc0 (win64)\n",
      "\n",
      "CPU model: Intel(R) Core(TM) i7-1065G7 CPU @ 1.30GHz, instruction set [SSE2|AVX|AVX2|AVX512]\n",
      "Thread count: 4 physical cores, 8 logical processors, using up to 8 threads\n",
      "\n",
      "Optimize a model with 11 rows, 10 columns and 20 nonzeros\n",
      "Model fingerprint: 0xcdaf10cb\n",
      "Model has 55 quadratic objective terms\n",
      "Coefficient statistics:\n",
      "  Matrix range     [1e+00, 1e+00]\n",
      "  Objective range  [0e+00, 0e+00]\n",
      "  QObjective range [5e-03, 2e-02]\n",
      "  Bounds range     [0e+00, 0e+00]\n",
      "  RHS range        [1e+00, 1e+00]\n",
      "Presolve removed 10 rows and 0 columns\n",
      "Presolve time: 0.01s\n",
      "Presolved: 1 rows, 10 columns, 10 nonzeros\n",
      "Presolved model has 55 quadratic objective terms\n",
      "Ordering time: 0.00s\n",
      "\n",
      "Barrier statistics:\n",
      " Free vars  : 9\n",
      " AA' NZ     : 4.500e+01\n",
      " Factor NZ  : 5.500e+01\n",
      " Factor Ops : 3.850e+02 (less than 1 second per iteration)\n",
      " Threads    : 1\n",
      "\n",
      "                  Objective                Residual\n",
      "Iter       Primal          Dual         Primal    Dual     Compl     Time\n",
      "   0   1.67062799e+05 -1.67062799e+05  5.25e+03 3.54e-08  1.00e+06     0s\n",
      "   1   6.82112043e+04 -6.82345715e+04  5.00e+02 3.37e-09  1.08e+05     0s\n",
      "   2   4.95828458e+01 -8.68831561e+01  1.42e+01 9.60e-11  3.38e+03     0s\n",
      "   3   2.22474836e-03 -3.69889334e+01  1.42e-05 6.55e-16  3.70e+00     0s\n",
      "   4   2.22502769e-03 -3.53086689e-02  2.22e-10 4.34e-19  3.75e-03     0s\n",
      "   5   2.21687169e-03  1.64276695e-03  2.56e-12 4.34e-19  5.74e-05     0s\n",
      "   6   1.98665119e-03  1.64627962e-03  6.94e-18 2.78e-17  3.40e-05     0s\n",
      "   7   1.92390913e-03  1.85778091e-03  3.47e-18 1.13e-17  6.61e-06     0s\n",
      "   8   1.89958366e-03  1.89903109e-03  5.20e-18 2.08e-17  5.53e-08     0s\n",
      "   9   1.89909289e-03  1.89909234e-03  5.72e-17 6.20e-17  5.50e-11     0s\n",
      "\n",
      "Barrier solved model in 9 iterations and 0.02 seconds (0.00 work units)\n",
      "Optimal objective 1.89909289e-03\n",
      "\n",
      "-------------------------------------------------------------------------------\n",
      "                                    Summary                                    \n",
      "-------------------------------------------------------------------------------\n",
      "(CVXPY) May 26 07:00:09 PM: Problem status: optimal\n",
      "(CVXPY) May 26 07:00:09 PM: Optimal value: 1.899e-03\n",
      "(CVXPY) May 26 07:00:09 PM: Compilation took 1.500e-02 seconds\n",
      "(CVXPY) May 26 07:00:09 PM: Solver (including time spent in interface) took 3.498e-02 seconds\n",
      "\n",
      "Solution status:  optimal\n",
      "Solution optimal value:  0.001899092892640435\n",
      "Solution w: \n",
      "[2.02336181e-06 4.02040514e-01 2.12889614e-01 3.94408216e-08\n",
      " 2.19802392e-08 2.79765379e-09 6.50080172e-09 3.85067693e-01\n",
      " 7.91435484e-08 5.92965361e-09]\n"
     ]
    }
   ],
   "source": [
    "w1 = cp.Variable(n)\n",
    "prob1 = cp.Problem(cp.Minimize(cp.quad_form(w1, Q)),\n",
    "                 [sum(w1) == 1,\n",
    "                  w1 >= 0])\n",
    "prob1.solve(verbose=True)\n",
    "\n",
    "# Print results\n",
    "print(\"\\nSolution status: \", prob1.status)\n",
    "print(\"Solution optimal value: \", prob1.value)\n",
    "print(\"Solution w: \")\n",
    "print(w1.value)"
   ]
  },
  {
   "cell_type": "code",
   "execution_count": 6,
   "metadata": {},
   "outputs": [
    {
     "data": {
      "text/plain": [
       "True"
      ]
     },
     "execution_count": 6,
     "metadata": {},
     "output_type": "execute_result"
    }
   ],
   "source": [
    "# Check constraint\n",
    "np.allclose(np.sum(w1.value),1)"
   ]
  },
  {
   "cell_type": "code",
   "execution_count": 7,
   "metadata": {},
   "outputs": [
    {
     "name": "stdout",
     "output_type": "stream",
     "text": [
      "Minimum variance portfolio:\n",
      "\n",
      "   Solution status = optimal\n",
      "    Solution value = 0.001899092892640435\n",
      "          Variance = 0.001899092892640435\n",
      "   Expected return = 0.00326747985972309\n",
      "Standard deviation = 0.04357858295815084\n"
     ]
    }
   ],
   "source": [
    "w_minVar = w1.value\n",
    "var_minVar = np.dot(w_minVar, np.dot(Q, w_minVar))\n",
    "ret_minVar = np.dot(mu, w_minVar)\n",
    "print(\"Minimum variance portfolio:\\n\")\n",
    "print(\"   Solution status =\", prob1.status)\n",
    "print(\"    Solution value =\", prob1.value)\n",
    "print(\"          Variance =\", var_minVar)\n",
    "print(\"   Expected return =\", ret_minVar)\n",
    "print(\"Standard deviation =\", np.sqrt(var_minVar))"
   ]
  },
  {
   "cell_type": "markdown",
   "metadata": {},
   "source": [
    "### Step 2 - compute maximum return portfolio"
   ]
  },
  {
   "cell_type": "markdown",
   "metadata": {},
   "source": [
    "\\begin{equation}\n",
    "\\begin{array}{rl}\n",
    "\\displaystyle \\max_{w} & \\mu^Tw \\\\\n",
    "{\\rm s.t.} & \\sum_i w_i = 1\\\\\n",
    "& w \\geq 0\n",
    "\\end{array}\n",
    "\\end{equation}"
   ]
  },
  {
   "cell_type": "code",
   "execution_count": 8,
   "metadata": {},
   "outputs": [
    {
     "name": "stdout",
     "output_type": "stream",
     "text": [
      "===============================================================================\n",
      "                                     CVXPY                                     \n",
      "                                     v1.3.1                                    \n",
      "===============================================================================\n",
      "(CVXPY) May 26 07:00:12 PM: Your problem has 10 variables, 2 constraints, and 0 parameters.\n",
      "(CVXPY) May 26 07:00:12 PM: It is compliant with the following grammars: DCP, DQCP\n",
      "(CVXPY) May 26 07:00:12 PM: (If you need to solve this problem multiple times, but with different data, consider using parameters.)\n",
      "(CVXPY) May 26 07:00:12 PM: CVXPY will first compile your problem; then, it will invoke a numerical solver to obtain a solution.\n",
      "-------------------------------------------------------------------------------\n",
      "                                  Compilation                                  \n",
      "-------------------------------------------------------------------------------\n",
      "(CVXPY) May 26 07:00:12 PM: Compiling problem (target solver=ECOS).\n",
      "(CVXPY) May 26 07:00:12 PM: Reduction chain: FlipObjective -> Dcp2Cone -> CvxAttr2Constr -> ConeMatrixStuffing -> ECOS\n",
      "(CVXPY) May 26 07:00:12 PM: Applying reduction FlipObjective\n",
      "(CVXPY) May 26 07:00:12 PM: Applying reduction Dcp2Cone\n",
      "(CVXPY) May 26 07:00:12 PM: Applying reduction CvxAttr2Constr\n",
      "(CVXPY) May 26 07:00:12 PM: Applying reduction ConeMatrixStuffing\n",
      "(CVXPY) May 26 07:00:12 PM: Applying reduction ECOS\n",
      "(CVXPY) May 26 07:00:12 PM: Finished problem compilation (took 1.364e-02 seconds).\n",
      "-------------------------------------------------------------------------------\n",
      "                                Numerical solver                               \n",
      "-------------------------------------------------------------------------------\n",
      "(CVXPY) May 26 07:00:12 PM: Invoking solver ECOS  to obtain a solution.\n",
      "-------------------------------------------------------------------------------\n",
      "                                    Summary                                    \n",
      "-------------------------------------------------------------------------------\n",
      "(CVXPY) May 26 07:00:12 PM: Problem status: optimal\n",
      "(CVXPY) May 26 07:00:12 PM: Optimal value: 8.935e-03\n",
      "(CVXPY) May 26 07:00:12 PM: Compilation took 1.364e-02 seconds\n",
      "(CVXPY) May 26 07:00:12 PM: Solver (including time spent in interface) took 6.952e-03 seconds\n",
      "\n",
      "Solution status:  optimal\n",
      "Solution optimal value:  0.008934923691822914\n",
      "Solution w: \n",
      "[5.92195886e-09 5.74678502e-09 3.42952593e-09 3.11870923e-09\n",
      " 5.91967975e-09 9.99999954e-01 9.06976763e-09 7.27168066e-09\n",
      " 2.63140981e-09 3.31438393e-09]\n"
     ]
    }
   ],
   "source": [
    "w2 = cp.Variable(n)\n",
    "prob2 = cp.Problem(cp.Maximize(mu.T@w2),\n",
    "                 [sum(w2) == 1,\n",
    "                  w2 >= 0])\n",
    "prob2.solve(verbose=True)\n",
    "\n",
    "# Print results\n",
    "print(\"\\nSolution status: \", prob2.status)\n",
    "print(\"Solution optimal value: \", prob2.value)\n",
    "print(\"Solution w: \")\n",
    "print(w2.value)"
   ]
  },
  {
   "cell_type": "code",
   "execution_count": 9,
   "metadata": {},
   "outputs": [
    {
     "name": "stdout",
     "output_type": "stream",
     "text": [
      "Maximum return portfolio:\n",
      "\n",
      "   Solution status = optimal\n",
      "    Solution value = 0.008934923691822914\n",
      "   Expected return = 0.008934923691822914\n",
      "          Variance = 0.00445041516526107\n",
      "Standard deviation = 0.06671143204324931\n"
     ]
    }
   ],
   "source": [
    "w_maxRet = w2.value\n",
    "var_maxRet = np.dot(w_maxRet, np.dot(Q, w_maxRet))\n",
    "ret_maxRet = np.dot(mu, w_maxRet)\n",
    "print(\"Maximum return portfolio:\\n\")\n",
    "print(\"   Solution status =\", prob2.status)\n",
    "print(\"    Solution value =\", prob2.value)\n",
    "print(\"   Expected return =\", ret_maxRet)\n",
    "print(\"          Variance =\", var_maxRet)\n",
    "print(\"Standard deviation =\", np.sqrt(var_maxRet))"
   ]
  },
  {
   "cell_type": "markdown",
   "metadata": {},
   "source": [
    "### Step 3 - compute mean-variance efficient frontier"
   ]
  },
  {
   "cell_type": "markdown",
   "metadata": {},
   "source": [
    "\\begin{equation}\n",
    "\\begin{array}{rl}\n",
    "\\displaystyle \\min_{w} & w^TQw \\\\\n",
    "{\\rm s.t.} & \\mu^Tw \\geq \\varepsilon \\\\\n",
    "&\\sum_i w_i = 1\\\\\n",
    "& w \\geq 0\n",
    "\\end{array}\n",
    "\\end{equation}\n",
    "\\begin{equation}\n",
    "\\varepsilon \\in [\\varepsilon_{R_{\\rm minVar}},\\varepsilon_{R_{\\rm maxRet}}]\n",
    "\\end{equation}"
   ]
  },
  {
   "cell_type": "code",
   "execution_count": 10,
   "metadata": {},
   "outputs": [
    {
     "data": {
      "text/plain": [
       "array([0.00326748, 0.00338314, 0.0034988 , 0.00361447, 0.00373013,\n",
       "       0.00384579, 0.00396145, 0.00407711, 0.00419278, 0.00430844,\n",
       "       0.0044241 , 0.00453976, 0.00465543, 0.00477109, 0.00488675,\n",
       "       0.00500241, 0.00511807, 0.00523374, 0.0053494 , 0.00546506,\n",
       "       0.00558072, 0.00569638, 0.00581205, 0.00592771, 0.00604337,\n",
       "       0.00615903, 0.00627469, 0.00639036, 0.00650602, 0.00662168,\n",
       "       0.00673734, 0.00685301, 0.00696867, 0.00708433, 0.00719999,\n",
       "       0.00731565, 0.00743132, 0.00754698, 0.00766264, 0.0077783 ,\n",
       "       0.00789396, 0.00800963, 0.00812529, 0.00824095, 0.00835661,\n",
       "       0.00847228, 0.00858794, 0.0087036 , 0.00881926, 0.00893492])"
      ]
     },
     "execution_count": 10,
     "metadata": {},
     "output_type": "execute_result"
    }
   ],
   "source": [
    "# Target returns\n",
    "targetRet = np.linspace(ret_minVar,ret_maxRet,50)\n",
    "targetRet"
   ]
  },
  {
   "cell_type": "code",
   "execution_count": 11,
   "metadata": {},
   "outputs": [
    {
     "name": "stdout",
     "output_type": "stream",
     "text": [
      "\n",
      "Solution status:  optimal\n",
      "Solution optimal value:  0.0018990938491357612\n",
      "Solution w: \n",
      "[1.18406417e-07 4.02103659e-01 2.12077452e-01 5.83792955e-08\n",
      " 2.31198757e-08 1.36713408e-08 1.24047926e-08 3.85818580e-01\n",
      " 4.75745086e-08 3.59451255e-08]\n"
     ]
    }
   ],
   "source": [
    "# Define optimization problem and compute one portfolio on efficient frontier\n",
    "w = cp.Variable(n)\n",
    "eps = cp.Parameter()\n",
    "eps.value = targetRet[0]\n",
    "prob3 = cp.Problem(cp.Minimize(cp.quad_form(w, Q)),\n",
    "                 [mu.T@w >= eps,\n",
    "                  sum(w) == 1,\n",
    "                  w >= 0])\n",
    "prob3.solve(verbose=False)\n",
    "\n",
    "# Print results\n",
    "print(\"\\nSolution status: \", prob3.status)\n",
    "print(\"Solution optimal value: \", prob3.value)\n",
    "print(\"Solution w: \")\n",
    "print(w.value)"
   ]
  },
  {
   "cell_type": "code",
   "execution_count": 12,
   "metadata": {},
   "outputs": [],
   "source": [
    "# Compute efficient frontier\n",
    "w_front = []\n",
    "var_front = []\n",
    "ret_front = []\n",
    "for epsilon in targetRet:\n",
    "    eps.value = epsilon\n",
    "    prob3.solve(verbose=False)\n",
    "    w_front.append(w.value)\n",
    "    var_front.append(np.dot(w.value, np.dot(Q, w.value)))\n",
    "    ret_front.append(np.dot(mu, w.value))"
   ]
  },
  {
   "cell_type": "markdown",
   "metadata": {},
   "source": [
    "Plot efficient frontier"
   ]
  },
  {
   "cell_type": "code",
   "execution_count": 13,
   "metadata": {},
   "outputs": [
    {
     "data": {
      "image/png": "[encoded data removed]",
      "text/plain": [
       "<Figure size 1000x500 with 1 Axes>"
      ]
     },
     "metadata": {},
     "output_type": "display_data"
    }
   ],
   "source": [
    "fig=plt.figure(figsize=(10,5), dpi= 100, facecolor='w', edgecolor='k')\n",
    "ax = plt.gca()\n",
    "    \n",
    "# Plot volatility versus expected return for minimum variance portfolio\n",
    "ax.scatter(x=np.sqrt(var_minVar), y=ret_minVar, marker='D', s=50,  color='DarkGreen', label='minimum variance portfolio')\n",
    "\n",
    "# Plot volatility versus expected return for maximum return portfolio\n",
    "ax.scatter(x=np.sqrt(var_maxRet), y=ret_maxRet,  marker='s', s=50, color='DarkMagenta', label='maximum return portfolio')\n",
    "\n",
    "# Plot efficient frontier\n",
    "ax.plot(np.sqrt(var_front), ret_front, 'k-', label='efficient frontier')\n",
    "\n",
    "# Plot volatility versus expected return for individual stocks\n",
    "ax.scatter(x=np.sqrt(np.diag(Q)), y=mu, color='Blue', label='individual stocks')\n",
    "\n",
    "# Format and display the final plot\n",
    "ax.axis([0.9*np.sqrt(var_minVar), 1.2*np.max(np.sqrt(np.diag(Q))), np.min(mu)-0.1*(np.max(mu)-np.min(mu)), 1.1*ret_maxRet])\n",
    "ax.set_xlabel('Volatility (Standard Deviation)')\n",
    "ax.set_ylabel('Expected Return')\n",
    "plt.title('Efficient Frontier')\n",
    "ax.legend(loc=\"lower right\")\n",
    "ax.grid()\n",
    "plt.show()"
   ]
  }
 ],
 "metadata": {
  "anaconda-cloud": {},
  "kernelspec": {
   "display_name": "Python 3 (ipykernel)",
   "language": "python",
   "name": "python3"
  },
  "language_info": {
   "codemirror_mode": {
    "name": "ipython",
    "version": 3
   },
   "file_extension": ".py",
   "mimetype": "text/x-python",
   "name": "python",
   "nbconvert_exporter": "python",
   "pygments_lexer": "ipython3",
   "version": "3.9.16"
  }
 },
 "nbformat": 4,
 "nbformat_minor": 1
}
