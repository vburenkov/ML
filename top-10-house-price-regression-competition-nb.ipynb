{
 "cells": [
  {
   "cell_type": "markdown",
   "id": "regional-problem",
   "metadata": {
    "papermill": {
     "duration": 0.043827,
     "end_time": "2021-04-27T18:43:22.528188",
     "exception": false,
     "start_time": "2021-04-27T18:43:22.484361",
     "status": "completed"
    },
    "tags": []
   },
   "source": [
    "# Getting Started"
   ]
  },
  {
   "cell_type": "code",
   "execution_count": 1,
   "id": "dying-thickness",
   "metadata": {
    "execution": {
     "iopub.execute_input": "2021-04-27T18:43:22.617778Z",
     "iopub.status.busy": "2021-04-27T18:43:22.616524Z",
     "iopub.status.idle": "2021-04-27T18:44:07.324962Z",
     "shell.execute_reply": "2021-04-27T18:44:07.324229Z"
    },
    "papermill": {
     "duration": 44.753442,
     "end_time": "2021-04-27T18:44:07.325130",
     "exception": false,
     "start_time": "2021-04-27T18:43:22.571688",
     "status": "completed"
    },
    "tags": []
   },
   "outputs": [
    {
     "name": "stdout",
     "output_type": "stream",
     "text": [
      "Defaulting to user installation because normal site-packages is not writeable\n",
      "Requirement already satisfied: pycaret in c:\\users\\valentine\\appdata\\roaming\\python\\python39\\site-packages (3.0.0)\n",
      "Requirement already satisfied: numpy<1.25,>=1.21 in c:\\programdata\\anaconda3\\lib\\site-packages (from pycaret) (1.21.5)\n",
      "Requirement already satisfied: pmdarima!=1.8.1,<3.0.0,>=1.8.0 in c:\\users\\valentine\\appdata\\roaming\\python\\python39\\site-packages (from pycaret) (2.0.2)\n",
      "Requirement already satisfied: kaleido>=0.2.1 in c:\\users\\valentine\\appdata\\roaming\\python\\python39\\site-packages (from pycaret) (0.2.1)\n",
      "Requirement already satisfied: ipython>=5.5.0 in c:\\programdata\\anaconda3\\lib\\site-packages (from pycaret) (8.2.0)\n",
      "Requirement already satisfied: pyod>=1.0.8 in c:\\users\\valentine\\appdata\\roaming\\python\\python39\\site-packages (from pycaret) (1.0.9)\n",
      "Requirement already satisfied: category-encoders>=2.4.0 in c:\\users\\valentine\\appdata\\roaming\\python\\python39\\site-packages (from pycaret) (2.6.0)\n",
      "Requirement already satisfied: lightgbm>=3.0.0 in c:\\users\\valentine\\appdata\\roaming\\python\\python39\\site-packages (from pycaret) (3.3.5)\n",
      "Requirement already satisfied: schemdraw>=0.14 in c:\\users\\valentine\\appdata\\roaming\\python\\python39\\site-packages (from pycaret) (0.16)\n",
      "Requirement already satisfied: nbformat>=4.2.0 in c:\\programdata\\anaconda3\\lib\\site-packages (from pycaret) (5.3.0)\n",
      "Requirement already satisfied: scikit-plot>=0.3.7 in c:\\users\\valentine\\appdata\\roaming\\python\\python39\\site-packages (from pycaret) (0.3.7)\n",
      "Requirement already satisfied: matplotlib>=3.3.0 in c:\\programdata\\anaconda3\\lib\\site-packages (from pycaret) (3.5.1)\n",
      "Requirement already satisfied: deprecation>=2.1.0 in c:\\users\\valentine\\appdata\\roaming\\python\\python39\\site-packages (from pycaret) (2.1.0)\n",
      "Requirement already satisfied: importlib-metadata>=4.12.0 in c:\\users\\valentine\\appdata\\roaming\\python\\python39\\site-packages (from pycaret) (6.6.0)\n",
      "Requirement already satisfied: yellowbrick>=1.4 in c:\\users\\valentine\\appdata\\roaming\\python\\python39\\site-packages (from pycaret) (1.5)\n",
      "Requirement already satisfied: imbalanced-learn>=0.8.1 in c:\\users\\valentine\\appdata\\roaming\\python\\python39\\site-packages (from pycaret) (0.10.1)\n",
      "Requirement already satisfied: plotly-resampler>=0.8.3.1 in c:\\users\\valentine\\appdata\\roaming\\python\\python39\\site-packages (from pycaret) (0.8.3.2)\n",
      "Requirement already satisfied: joblib>=1.2.0 in c:\\users\\valentine\\appdata\\roaming\\python\\python39\\site-packages (from pycaret) (1.2.0)\n",
      "Requirement already satisfied: markupsafe>=2.0.1 in c:\\programdata\\anaconda3\\lib\\site-packages (from pycaret) (2.0.1)\n",
      "Requirement already satisfied: tbats>=1.1.0 in c:\\users\\valentine\\appdata\\roaming\\python\\python39\\site-packages (from pycaret) (1.1.3)\n",
      "Requirement already satisfied: sktime>=0.16.1 in c:\\users\\valentine\\appdata\\roaming\\python\\python39\\site-packages (from pycaret) (0.17.1)\n",
      "Requirement already satisfied: pandas<1.6.0,>=1.3.0 in c:\\programdata\\anaconda3\\lib\\site-packages (from pycaret) (1.4.2)\n",
      "Requirement already satisfied: scikit-learn>=1.0 in c:\\programdata\\anaconda3\\lib\\site-packages (from pycaret) (1.0.2)\n",
      "Requirement already satisfied: ipywidgets>=7.6.5 in c:\\programdata\\anaconda3\\lib\\site-packages (from pycaret) (7.6.5)\n",
      "Requirement already satisfied: requests>=2.27.1 in c:\\programdata\\anaconda3\\lib\\site-packages (from pycaret) (2.27.1)\n",
      "Requirement already satisfied: psutil>=5.9.0 in c:\\users\\valentine\\appdata\\roaming\\python\\python39\\site-packages (from pycaret) (5.9.5)\n",
      "Requirement already satisfied: tqdm>=4.62.0 in c:\\programdata\\anaconda3\\lib\\site-packages (from pycaret) (4.64.0)\n",
      "Requirement already satisfied: xxhash in c:\\users\\valentine\\appdata\\roaming\\python\\python39\\site-packages (from pycaret) (3.2.0)\n",
      "Requirement already satisfied: plotly>=5.0.0 in c:\\programdata\\anaconda3\\lib\\site-packages (from pycaret) (5.6.0)\n",
      "Requirement already satisfied: statsmodels>=0.12.1 in c:\\programdata\\anaconda3\\lib\\site-packages (from pycaret) (0.13.2)\n",
      "Requirement already satisfied: scipy<2.0.0 in c:\\programdata\\anaconda3\\lib\\site-packages (from pycaret) (1.7.3)\n",
      "Requirement already satisfied: cloudpickle in c:\\programdata\\anaconda3\\lib\\site-packages (from pycaret) (2.0.0)\n",
      "Requirement already satisfied: numba>=0.55.0 in c:\\programdata\\anaconda3\\lib\\site-packages (from pycaret) (0.55.1)\n",
      "Requirement already satisfied: jinja2>=1.2 in c:\\programdata\\anaconda3\\lib\\site-packages (from pycaret) (2.11.3)\n",
      "Requirement already satisfied: patsy>=0.5.1 in c:\\programdata\\anaconda3\\lib\\site-packages (from category-encoders>=2.4.0->pycaret) (0.5.2)\n",
      "Requirement already satisfied: packaging in c:\\programdata\\anaconda3\\lib\\site-packages (from deprecation>=2.1.0->pycaret) (21.3)\n",
      "Requirement already satisfied: threadpoolctl>=2.0.0 in c:\\programdata\\anaconda3\\lib\\site-packages (from imbalanced-learn>=0.8.1->pycaret) (2.2.0)\n",
      "Requirement already satisfied: zipp>=0.5 in c:\\programdata\\anaconda3\\lib\\site-packages (from importlib-metadata>=4.12.0->pycaret) (3.7.0)\n",
      "Requirement already satisfied: jedi>=0.16 in c:\\programdata\\anaconda3\\lib\\site-packages (from ipython>=5.5.0->pycaret) (0.18.1)\n",
      "Requirement already satisfied: colorama in c:\\programdata\\anaconda3\\lib\\site-packages (from ipython>=5.5.0->pycaret) (0.4.4)\n",
      "Requirement already satisfied: prompt-toolkit!=3.0.0,!=3.0.1,<3.1.0,>=2.0.0 in c:\\programdata\\anaconda3\\lib\\site-packages (from ipython>=5.5.0->pycaret) (3.0.20)\n",
      "Requirement already satisfied: pickleshare in c:\\programdata\\anaconda3\\lib\\site-packages (from ipython>=5.5.0->pycaret) (0.7.5)\n",
      "Requirement already satisfied: setuptools>=18.5 in c:\\programdata\\anaconda3\\lib\\site-packages (from ipython>=5.5.0->pycaret) (61.2.0)\n",
      "Requirement already satisfied: pygments>=2.4.0 in c:\\programdata\\anaconda3\\lib\\site-packages (from ipython>=5.5.0->pycaret) (2.11.2)\n",
      "Requirement already satisfied: backcall in c:\\programdata\\anaconda3\\lib\\site-packages (from ipython>=5.5.0->pycaret) (0.2.0)\n",
      "Requirement already satisfied: stack-data in c:\\programdata\\anaconda3\\lib\\site-packages (from ipython>=5.5.0->pycaret) (0.2.0)\n",
      "Requirement already satisfied: traitlets>=5 in c:\\programdata\\anaconda3\\lib\\site-packages (from ipython>=5.5.0->pycaret) (5.1.1)\n",
      "Requirement already satisfied: matplotlib-inline in c:\\programdata\\anaconda3\\lib\\site-packages (from ipython>=5.5.0->pycaret) (0.1.2)\n",
      "Requirement already satisfied: decorator in c:\\programdata\\anaconda3\\lib\\site-packages (from ipython>=5.5.0->pycaret) (5.1.1)\n",
      "Requirement already satisfied: ipykernel>=4.5.1 in c:\\programdata\\anaconda3\\lib\\site-packages (from ipywidgets>=7.6.5->pycaret) (6.9.1)\n",
      "Requirement already satisfied: jupyterlab-widgets>=1.0.0 in c:\\programdata\\anaconda3\\lib\\site-packages (from ipywidgets>=7.6.5->pycaret) (1.0.0)\n",
      "Requirement already satisfied: widgetsnbextension~=3.5.0 in c:\\programdata\\anaconda3\\lib\\site-packages (from ipywidgets>=7.6.5->pycaret) (3.5.2)\n",
      "Requirement already satisfied: ipython-genutils~=0.2.0 in c:\\programdata\\anaconda3\\lib\\site-packages (from ipywidgets>=7.6.5->pycaret) (0.2.0)\n",
      "Requirement already satisfied: jupyter-client<8.0 in c:\\programdata\\anaconda3\\lib\\site-packages (from ipykernel>=4.5.1->ipywidgets>=7.6.5->pycaret) (6.1.12)\n",
      "Requirement already satisfied: tornado<7.0,>=4.2 in c:\\programdata\\anaconda3\\lib\\site-packages (from ipykernel>=4.5.1->ipywidgets>=7.6.5->pycaret) (6.1)\n",
      "Requirement already satisfied: nest-asyncio in c:\\programdata\\anaconda3\\lib\\site-packages (from ipykernel>=4.5.1->ipywidgets>=7.6.5->pycaret) (1.5.5)\n",
      "Requirement already satisfied: debugpy<2.0,>=1.0.0 in c:\\programdata\\anaconda3\\lib\\site-packages (from ipykernel>=4.5.1->ipywidgets>=7.6.5->pycaret) (1.5.1)\n",
      "Requirement already satisfied: parso<0.9.0,>=0.8.0 in c:\\programdata\\anaconda3\\lib\\site-packages (from jedi>=0.16->ipython>=5.5.0->pycaret) (0.8.3)\n",
      "Requirement already satisfied: pyzmq>=13 in c:\\programdata\\anaconda3\\lib\\site-packages (from jupyter-client<8.0->ipykernel>=4.5.1->ipywidgets>=7.6.5->pycaret) (22.3.0)\n",
      "Requirement already satisfied: python-dateutil>=2.1 in c:\\programdata\\anaconda3\\lib\\site-packages (from jupyter-client<8.0->ipykernel>=4.5.1->ipywidgets>=7.6.5->pycaret) (2.8.2)\n",
      "Requirement already satisfied: jupyter-core>=4.6.0 in c:\\programdata\\anaconda3\\lib\\site-packages (from jupyter-client<8.0->ipykernel>=4.5.1->ipywidgets>=7.6.5->pycaret) (4.9.2)\n",
      "Requirement already satisfied: pywin32>=1.0 in c:\\programdata\\anaconda3\\lib\\site-packages (from jupyter-core>=4.6.0->jupyter-client<8.0->ipykernel>=4.5.1->ipywidgets>=7.6.5->pycaret) (302)\n",
      "Requirement already satisfied: wheel in c:\\programdata\\anaconda3\\lib\\site-packages (from lightgbm>=3.0.0->pycaret) (0.37.1)\n",
      "Requirement already satisfied: pillow>=6.2.0 in c:\\programdata\\anaconda3\\lib\\site-packages (from matplotlib>=3.3.0->pycaret) (9.0.1)\n",
      "Requirement already satisfied: kiwisolver>=1.0.1 in c:\\programdata\\anaconda3\\lib\\site-packages (from matplotlib>=3.3.0->pycaret) (1.3.2)\n",
      "Requirement already satisfied: cycler>=0.10 in c:\\programdata\\anaconda3\\lib\\site-packages (from matplotlib>=3.3.0->pycaret) (0.11.0)\n",
      "Requirement already satisfied: pyparsing>=2.2.1 in c:\\programdata\\anaconda3\\lib\\site-packages (from matplotlib>=3.3.0->pycaret) (3.0.4)\n",
      "Requirement already satisfied: fonttools>=4.22.0 in c:\\programdata\\anaconda3\\lib\\site-packages (from matplotlib>=3.3.0->pycaret) (4.25.0)\n",
      "Requirement already satisfied: fastjsonschema in c:\\programdata\\anaconda3\\lib\\site-packages (from nbformat>=4.2.0->pycaret) (2.15.1)\n",
      "Requirement already satisfied: jsonschema>=2.6 in c:\\programdata\\anaconda3\\lib\\site-packages (from nbformat>=4.2.0->pycaret) (4.4.0)\n",
      "Requirement already satisfied: attrs>=17.4.0 in c:\\programdata\\anaconda3\\lib\\site-packages (from jsonschema>=2.6->nbformat>=4.2.0->pycaret) (21.4.0)\n",
      "Requirement already satisfied: pyrsistent!=0.17.0,!=0.17.1,!=0.17.2,>=0.14.0 in c:\\programdata\\anaconda3\\lib\\site-packages (from jsonschema>=2.6->nbformat>=4.2.0->pycaret) (0.18.0)\n",
      "Requirement already satisfied: llvmlite<0.39,>=0.38.0rc1 in c:\\programdata\\anaconda3\\lib\\site-packages (from numba>=0.55.0->pycaret) (0.38.0)\n",
      "Requirement already satisfied: pytz>=2020.1 in c:\\programdata\\anaconda3\\lib\\site-packages (from pandas<1.6.0,>=1.3.0->pycaret) (2021.3)\n",
      "Requirement already satisfied: six in c:\\programdata\\anaconda3\\lib\\site-packages (from patsy>=0.5.1->category-encoders>=2.4.0->pycaret) (1.16.0)\n",
      "Requirement already satisfied: tenacity>=6.2.0 in c:\\programdata\\anaconda3\\lib\\site-packages (from plotly>=5.0.0->pycaret) (8.0.1)\n",
      "Requirement already satisfied: trace-updater>=0.0.8 in c:\\users\\valentine\\appdata\\roaming\\python\\python39\\site-packages (from plotly-resampler>=0.8.3.1->pycaret) (0.0.9.1)\n",
      "Requirement already satisfied: jupyter-dash>=0.4.2 in c:\\users\\valentine\\appdata\\roaming\\python\\python39\\site-packages (from plotly-resampler>=0.8.3.1->pycaret) (0.4.2)\n",
      "Requirement already satisfied: dash<3.0.0,>=2.2.0 in c:\\users\\valentine\\appdata\\roaming\\python\\python39\\site-packages (from plotly-resampler>=0.8.3.1->pycaret) (2.9.3)\n",
      "Requirement already satisfied: orjson<4.0.0,>=3.8.0 in c:\\users\\valentine\\appdata\\roaming\\python\\python39\\site-packages (from plotly-resampler>=0.8.3.1->pycaret) (3.8.10)\n",
      "Requirement already satisfied: dash-core-components==2.0.0 in c:\\users\\valentine\\appdata\\roaming\\python\\python39\\site-packages (from dash<3.0.0,>=2.2.0->plotly-resampler>=0.8.3.1->pycaret) (2.0.0)\n",
      "Requirement already satisfied: dash-table==5.0.0 in c:\\users\\valentine\\appdata\\roaming\\python\\python39\\site-packages (from dash<3.0.0,>=2.2.0->plotly-resampler>=0.8.3.1->pycaret) (5.0.0)\n",
      "Requirement already satisfied: dash-html-components==2.0.0 in c:\\users\\valentine\\appdata\\roaming\\python\\python39\\site-packages (from dash<3.0.0,>=2.2.0->plotly-resampler>=0.8.3.1->pycaret) (2.0.0)\n",
      "Requirement already satisfied: Flask>=1.0.4 in c:\\programdata\\anaconda3\\lib\\site-packages (from dash<3.0.0,>=2.2.0->plotly-resampler>=0.8.3.1->pycaret) (1.1.2)\n",
      "Requirement already satisfied: Werkzeug>=0.15 in c:\\programdata\\anaconda3\\lib\\site-packages (from Flask>=1.0.4->dash<3.0.0,>=2.2.0->plotly-resampler>=0.8.3.1->pycaret) (2.0.3)\n",
      "Requirement already satisfied: click>=5.1 in c:\\programdata\\anaconda3\\lib\\site-packages (from Flask>=1.0.4->dash<3.0.0,>=2.2.0->plotly-resampler>=0.8.3.1->pycaret) (8.0.4)\n",
      "Requirement already satisfied: itsdangerous>=0.24 in c:\\programdata\\anaconda3\\lib\\site-packages (from Flask>=1.0.4->dash<3.0.0,>=2.2.0->plotly-resampler>=0.8.3.1->pycaret) (2.0.1)\n",
      "Requirement already satisfied: retrying in c:\\users\\valentine\\appdata\\roaming\\python\\python39\\site-packages (from jupyter-dash>=0.4.2->plotly-resampler>=0.8.3.1->pycaret) (1.3.4)\n",
      "Requirement already satisfied: ansi2html in c:\\users\\valentine\\appdata\\roaming\\python\\python39\\site-packages (from jupyter-dash>=0.4.2->plotly-resampler>=0.8.3.1->pycaret) (1.8.0)\n",
      "Requirement already satisfied: urllib3 in c:\\programdata\\anaconda3\\lib\\site-packages (from pmdarima!=1.8.1,<3.0.0,>=1.8.0->pycaret) (1.26.9)\n",
      "Requirement already satisfied: Cython!=0.29.18,!=0.29.31,>=0.29 in c:\\programdata\\anaconda3\\lib\\site-packages (from pmdarima!=1.8.1,<3.0.0,>=1.8.0->pycaret) (0.29.28)\n",
      "Requirement already satisfied: wcwidth in c:\\programdata\\anaconda3\\lib\\site-packages (from prompt-toolkit!=3.0.0,!=3.0.1,<3.1.0,>=2.0.0->ipython>=5.5.0->pycaret) (0.2.5)\n",
      "Requirement already satisfied: charset-normalizer~=2.0.0 in c:\\programdata\\anaconda3\\lib\\site-packages (from requests>=2.27.1->pycaret) (2.0.4)\n",
      "Requirement already satisfied: certifi>=2017.4.17 in c:\\programdata\\anaconda3\\lib\\site-packages (from requests>=2.27.1->pycaret) (2021.10.8)\n",
      "Requirement already satisfied: idna<4,>=2.5 in c:\\programdata\\anaconda3\\lib\\site-packages (from requests>=2.27.1->pycaret) (3.3)\n",
      "Requirement already satisfied: deprecated>=1.2.13 in c:\\users\\valentine\\appdata\\roaming\\python\\python39\\site-packages (from sktime>=0.16.1->pycaret) (1.2.13)"
     ]
    }
   ],
   "source": [
    "!pip install pycaret"
   ]
  },
  {
   "cell_type": "code",
   "execution_count": 2,
   "id": "conditional-england",
   "metadata": {
    "execution": {
     "iopub.execute_input": "2021-04-27T18:44:07.496983Z",
     "iopub.status.busy": "2021-04-27T18:44:07.496257Z",
     "iopub.status.idle": "2021-04-27T18:44:12.578023Z",
     "shell.execute_reply": "2021-04-27T18:44:12.577007Z"
    },
    "papermill": {
     "duration": 5.171606,
     "end_time": "2021-04-27T18:44:12.578173",
     "exception": false,
     "start_time": "2021-04-27T18:44:07.406567",
     "status": "completed"
    },
    "tags": []
   },
   "outputs": [
    {
     "name": "stdout",
     "output_type": "stream",
     "text": [
      "\n",
      "Requirement already satisfied: wrapt<2,>=1.10 in c:\\programdata\\anaconda3\\lib\\site-packages (from deprecated>=1.2.13->sktime>=0.16.1->pycaret) (1.12.1)\n",
      "Requirement already satisfied: notebook>=4.4.1 in c:\\programdata\\anaconda3\\lib\\site-packages (from widgetsnbextension~=3.5.0->ipywidgets>=7.6.5->pycaret) (6.4.8)\n",
      "Requirement already satisfied: Send2Trash>=1.8.0 in c:\\programdata\\anaconda3\\lib\\site-packages (from notebook>=4.4.1->widgetsnbextension~=3.5.0->ipywidgets>=7.6.5->pycaret) (1.8.0)\n",
      "Requirement already satisfied: argon2-cffi in c:\\programdata\\anaconda3\\lib\\site-packages (from notebook>=4.4.1->widgetsnbextension~=3.5.0->ipywidgets>=7.6.5->pycaret) (21.3.0)\n",
      "Requirement already satisfied: terminado>=0.8.3 in c:\\programdata\\anaconda3\\lib\\site-packages (from notebook>=4.4.1->widgetsnbextension~=3.5.0->ipywidgets>=7.6.5->pycaret) (0.13.1)\n",
      "Requirement already satisfied: prometheus-client in c:\\programdata\\anaconda3\\lib\\site-packages (from notebook>=4.4.1->widgetsnbextension~=3.5.0->ipywidgets>=7.6.5->pycaret) (0.13.1)\n",
      "Requirement already satisfied: nbconvert in c:\\programdata\\anaconda3\\lib\\site-packages (from notebook>=4.4.1->widgetsnbextension~=3.5.0->ipywidgets>=7.6.5->pycaret) (6.4.4)\n",
      "Requirement already satisfied: pywinpty>=1.1.0 in c:\\programdata\\anaconda3\\lib\\site-packages (from terminado>=0.8.3->notebook>=4.4.1->widgetsnbextension~=3.5.0->ipywidgets>=7.6.5->pycaret) (2.0.2)\n",
      "Requirement already satisfied: argon2-cffi-bindings in c:\\programdata\\anaconda3\\lib\\site-packages (from argon2-cffi->notebook>=4.4.1->widgetsnbextension~=3.5.0->ipywidgets>=7.6.5->pycaret) (21.2.0)\n",
      "Requirement already satisfied: cffi>=1.0.1 in c:\\programdata\\anaconda3\\lib\\site-packages (from argon2-cffi-bindings->argon2-cffi->notebook>=4.4.1->widgetsnbextension~=3.5.0->ipywidgets>=7.6.5->pycaret) (1.15.0)\n",
      "Requirement already satisfied: pycparser in c:\\programdata\\anaconda3\\lib\\site-packages (from cffi>=1.0.1->argon2-cffi-bindings->argon2-cffi->notebook>=4.4.1->widgetsnbextension~=3.5.0->ipywidgets>=7.6.5->pycaret) (2.21)\n",
      "Requirement already satisfied: testpath in c:\\programdata\\anaconda3\\lib\\site-packages (from nbconvert->notebook>=4.4.1->widgetsnbextension~=3.5.0->ipywidgets>=7.6.5->pycaret) (0.5.0)\n",
      "Requirement already satisfied: entrypoints>=0.2.2 in c:\\programdata\\anaconda3\\lib\\site-packages (from nbconvert->notebook>=4.4.1->widgetsnbextension~=3.5.0->ipywidgets>=7.6.5->pycaret) (0.4)\n",
      "Requirement already satisfied: jupyterlab-pygments in c:\\programdata\\anaconda3\\lib\\site-packages (from nbconvert->notebook>=4.4.1->widgetsnbextension~=3.5.0->ipywidgets>=7.6.5->pycaret) (0.1.2)\n",
      "Requirement already satisfied: bleach in c:\\programdata\\anaconda3\\lib\\site-packages (from nbconvert->notebook>=4.4.1->widgetsnbextension~=3.5.0->ipywidgets>=7.6.5->pycaret) (4.1.0)\n",
      "Requirement already satisfied: pandocfilters>=1.4.1 in c:\\programdata\\anaconda3\\lib\\site-packages (from nbconvert->notebook>=4.4.1->widgetsnbextension~=3.5.0->ipywidgets>=7.6.5->pycaret) (1.5.0)\n",
      "Requirement already satisfied: nbclient<0.6.0,>=0.5.0 in c:\\programdata\\anaconda3\\lib\\site-packages (from nbconvert->notebook>=4.4.1->widgetsnbextension~=3.5.0->ipywidgets>=7.6.5->pycaret) (0.5.13)\n",
      "Requirement already satisfied: mistune<2,>=0.8.1 in c:\\programdata\\anaconda3\\lib\\site-packages (from nbconvert->notebook>=4.4.1->widgetsnbextension~=3.5.0->ipywidgets>=7.6.5->pycaret) (0.8.4)\n",
      "Requirement already satisfied: beautifulsoup4 in c:\\programdata\\anaconda3\\lib\\site-packages (from nbconvert->notebook>=4.4.1->widgetsnbextension~=3.5.0->ipywidgets>=7.6.5->pycaret) (4.11.1)\n",
      "Requirement already satisfied: defusedxml in c:\\programdata\\anaconda3\\lib\\site-packages (from nbconvert->notebook>=4.4.1->widgetsnbextension~=3.5.0->ipywidgets>=7.6.5->pycaret) (0.7.1)\n",
      "Requirement already satisfied: soupsieve>1.2 in c:\\programdata\\anaconda3\\lib\\site-packages (from beautifulsoup4->nbconvert->notebook>=4.4.1->widgetsnbextension~=3.5.0->ipywidgets>=7.6.5->pycaret) (2.3.1)\n",
      "Requirement already satisfied: webencodings in c:\\programdata\\anaconda3\\lib\\site-packages (from bleach->nbconvert->notebook>=4.4.1->widgetsnbextension~=3.5.0->ipywidgets>=7.6.5->pycaret) (0.5.1)\n",
      "Requirement already satisfied: executing in c:\\programdata\\anaconda3\\lib\\site-packages (from stack-data->ipython>=5.5.0->pycaret) (0.8.3)\n",
      "Requirement already satisfied: pure-eval in c:\\programdata\\anaconda3\\lib\\site-packages (from stack-data->ipython>=5.5.0->pycaret) (0.2.2)\n",
      "Requirement already satisfied: asttokens in c:\\programdata\\anaconda3\\lib\\site-packages (from stack-data->ipython>=5.5.0->pycaret) (2.0.5)\n"
     ]
    }
   ],
   "source": [
    "import numpy as np\n",
    "import pandas as pd\n",
    "\n",
    "\n",
    "import matplotlib.pyplot as plt\n",
    "import seaborn as sns\n",
    "\n",
    "\n",
    "from sklearn.neighbors import KNeighborsRegressor\n",
    "import scipy.stats\n",
    "from sklearn.preprocessing import StandardScaler\n",
    "from pycaret.regression import setup, compare_models\n",
    "from sklearn.model_selection import KFold, cross_val_score\n",
    "\n",
    "from catboost import CatBoostRegressor\n",
    "from sklearn.linear_model import BayesianRidge, HuberRegressor, Ridge, OrthogonalMatchingPursuit\n",
    "from lightgbm import LGBMRegressor\n",
    "from sklearn.ensemble import GradientBoostingRegressor\n",
    "from xgboost import XGBRegressor\n",
    "\n",
    "import optuna"
   ]
  },
  {
   "cell_type": "code",
   "execution_count": 3,
   "id": "7cbf132b",
   "metadata": {},
   "outputs": [
    {
     "ename": "OptionError",
     "evalue": "'Pattern matched multiple keys'",
     "output_type": "error",
     "traceback": [
      "\u001b[1;31m---------------------------------------------------------------------------\u001b[0m",
      "\u001b[1;31mOptionError\u001b[0m                               Traceback (most recent call last)",
      "Input \u001b[1;32mIn [3]\u001b[0m, in \u001b[0;36m<cell line: 1>\u001b[1;34m()\u001b[0m\n\u001b[1;32m----> 1\u001b[0m \u001b[43mpd\u001b[49m\u001b[38;5;241;43m.\u001b[39;49m\u001b[43mset_option\u001b[49m\u001b[43m(\u001b[49m\u001b[38;5;124;43m'\u001b[39;49m\u001b[38;5;124;43mmax_columns\u001b[39;49m\u001b[38;5;124;43m'\u001b[39;49m\u001b[43m,\u001b[49m\u001b[43m \u001b[49m\u001b[38;5;28;43;01mNone\u001b[39;49;00m\u001b[43m)\u001b[49m\n\u001b[0;32m      2\u001b[0m pd\u001b[38;5;241m.\u001b[39mset_option(\u001b[38;5;124m'\u001b[39m\u001b[38;5;124mmax_rows\u001b[39m\u001b[38;5;124m'\u001b[39m, \u001b[38;5;241m90\u001b[39m)\n\u001b[0;32m      3\u001b[0m sns\u001b[38;5;241m.\u001b[39mset_style(\u001b[38;5;124m'\u001b[39m\u001b[38;5;124mdarkgrid\u001b[39m\u001b[38;5;124m'\u001b[39m)\n",
      "File \u001b[1;32mC:\\ProgramData\\Anaconda3\\lib\\site-packages\\pandas\\_config\\config.py:256\u001b[0m, in \u001b[0;36mCallableDynamicDoc.__call__\u001b[1;34m(self, *args, **kwds)\u001b[0m\n\u001b[0;32m    255\u001b[0m \u001b[38;5;28;01mdef\u001b[39;00m \u001b[38;5;21m__call__\u001b[39m(\u001b[38;5;28mself\u001b[39m, \u001b[38;5;241m*\u001b[39margs, \u001b[38;5;241m*\u001b[39m\u001b[38;5;241m*\u001b[39mkwds):\n\u001b[1;32m--> 256\u001b[0m     \u001b[38;5;28;01mreturn\u001b[39;00m \u001b[38;5;28mself\u001b[39m\u001b[38;5;241m.\u001b[39m\u001b[38;5;18m__func__\u001b[39m(\u001b[38;5;241m*\u001b[39margs, \u001b[38;5;241m*\u001b[39m\u001b[38;5;241m*\u001b[39mkwds)\n",
      "File \u001b[1;32mC:\\ProgramData\\Anaconda3\\lib\\site-packages\\pandas\\_config\\config.py:149\u001b[0m, in \u001b[0;36m_set_option\u001b[1;34m(*args, **kwargs)\u001b[0m\n\u001b[0;32m    146\u001b[0m     \u001b[38;5;28;01mraise\u001b[39;00m \u001b[38;5;167;01mTypeError\u001b[39;00m(\u001b[38;5;124mf\u001b[39m\u001b[38;5;124m'\u001b[39m\u001b[38;5;124m_set_option() got an unexpected keyword argument \u001b[39m\u001b[38;5;124m\"\u001b[39m\u001b[38;5;132;01m{\u001b[39;00mkwarg\u001b[38;5;132;01m}\u001b[39;00m\u001b[38;5;124m\"\u001b[39m\u001b[38;5;124m'\u001b[39m)\n\u001b[0;32m    148\u001b[0m \u001b[38;5;28;01mfor\u001b[39;00m k, v \u001b[38;5;129;01min\u001b[39;00m \u001b[38;5;28mzip\u001b[39m(args[::\u001b[38;5;241m2\u001b[39m], args[\u001b[38;5;241m1\u001b[39m::\u001b[38;5;241m2\u001b[39m]):\n\u001b[1;32m--> 149\u001b[0m     key \u001b[38;5;241m=\u001b[39m \u001b[43m_get_single_key\u001b[49m\u001b[43m(\u001b[49m\u001b[43mk\u001b[49m\u001b[43m,\u001b[49m\u001b[43m \u001b[49m\u001b[43msilent\u001b[49m\u001b[43m)\u001b[49m\n\u001b[0;32m    151\u001b[0m     o \u001b[38;5;241m=\u001b[39m _get_registered_option(key)\n\u001b[0;32m    152\u001b[0m     \u001b[38;5;28;01mif\u001b[39;00m o \u001b[38;5;129;01mand\u001b[39;00m o\u001b[38;5;241m.\u001b[39mvalidator:\n",
      "File \u001b[1;32mC:\\ProgramData\\Anaconda3\\lib\\site-packages\\pandas\\_config\\config.py:116\u001b[0m, in \u001b[0;36m_get_single_key\u001b[1;34m(pat, silent)\u001b[0m\n\u001b[0;32m    114\u001b[0m     \u001b[38;5;28;01mraise\u001b[39;00m OptionError(\u001b[38;5;124mf\u001b[39m\u001b[38;5;124m\"\u001b[39m\u001b[38;5;124mNo such keys(s): \u001b[39m\u001b[38;5;132;01m{\u001b[39;00m\u001b[38;5;28mrepr\u001b[39m(pat)\u001b[38;5;132;01m}\u001b[39;00m\u001b[38;5;124m\"\u001b[39m)\n\u001b[0;32m    115\u001b[0m \u001b[38;5;28;01mif\u001b[39;00m \u001b[38;5;28mlen\u001b[39m(keys) \u001b[38;5;241m>\u001b[39m \u001b[38;5;241m1\u001b[39m:\n\u001b[1;32m--> 116\u001b[0m     \u001b[38;5;28;01mraise\u001b[39;00m OptionError(\u001b[38;5;124m\"\u001b[39m\u001b[38;5;124mPattern matched multiple keys\u001b[39m\u001b[38;5;124m\"\u001b[39m)\n\u001b[0;32m    117\u001b[0m key \u001b[38;5;241m=\u001b[39m keys[\u001b[38;5;241m0\u001b[39m]\n\u001b[0;32m    119\u001b[0m \u001b[38;5;28;01mif\u001b[39;00m \u001b[38;5;129;01mnot\u001b[39;00m silent:\n",
      "\u001b[1;31mOptionError\u001b[0m: 'Pattern matched multiple keys'"
     ]
    }
   ],
   "source": [
    "pd.set_option('max_columns', None)\n",
    "pd.set_option('max_rows', 90)\n",
    "sns.set_style('darkgrid')"
   ]
  },
  {
   "cell_type": "code",
   "execution_count": null,
   "id": "native-yukon",
   "metadata": {
    "execution": {
     "iopub.execute_input": "2021-04-27T18:44:12.770369Z",
     "iopub.status.busy": "2021-04-27T18:44:12.769540Z",
     "iopub.status.idle": "2021-04-27T18:44:12.873482Z",
     "shell.execute_reply": "2021-04-27T18:44:12.874357Z"
    },
    "papermill": {
     "duration": 0.212703,
     "end_time": "2021-04-27T18:44:12.874532",
     "exception": false,
     "start_time": "2021-04-27T18:44:12.661829",
     "status": "completed"
    },
    "tags": []
   },
   "outputs": [],
   "source": [
    "train0 = pd.read_csv('../input/house-prices-advanced-regression-techniques/train.csv')\n",
    "test0 = pd.read_csv('../input/house-prices-advanced-regression-techniques/test.csv')\n",
    "sample_submission = pd.read_csv('../input/house-prices-advanced-regression-techniques/sample_submission.csv')"
   ]
  },
  {
   "cell_type": "code",
   "execution_count": null,
   "id": "certain-fields",
   "metadata": {
    "execution": {
     "iopub.execute_input": "2021-04-27T18:44:13.074777Z",
     "iopub.status.busy": "2021-04-27T18:44:13.072050Z",
     "iopub.status.idle": "2021-04-27T18:44:13.183403Z",
     "shell.execute_reply": "2021-04-27T18:44:13.184136Z"
    },
    "papermill": {
     "duration": 0.216137,
     "end_time": "2021-04-27T18:44:13.184346",
     "exception": false,
     "start_time": "2021-04-27T18:44:12.968209",
     "status": "completed"
    },
    "tags": []
   },
   "outputs": [],
   "source": [
    "train0"
   ]
  },
  {
   "cell_type": "code",
   "execution_count": null,
   "id": "running-flight",
   "metadata": {
    "execution": {
     "iopub.execute_input": "2021-04-27T18:44:13.363737Z",
     "iopub.status.busy": "2021-04-27T18:44:13.356610Z",
     "iopub.status.idle": "2021-04-27T18:44:13.467571Z",
     "shell.execute_reply": "2021-04-27T18:44:13.468938Z"
    },
    "papermill": {
     "duration": 0.200942,
     "end_time": "2021-04-27T18:44:13.469614",
     "exception": false,
     "start_time": "2021-04-27T18:44:13.268672",
     "status": "completed"
    },
    "tags": []
   },
   "outputs": [],
   "source": [
    "test0"
   ]
  },
  {
   "cell_type": "code",
   "execution_count": null,
   "id": "robust-diagram",
   "metadata": {
    "execution": {
     "iopub.execute_input": "2021-04-27T18:44:13.644156Z",
     "iopub.status.busy": "2021-04-27T18:44:13.643464Z",
     "iopub.status.idle": "2021-04-27T18:44:13.655369Z",
     "shell.execute_reply": "2021-04-27T18:44:13.655930Z"
    },
    "papermill": {
     "duration": 0.099832,
     "end_time": "2021-04-27T18:44:13.656110",
     "exception": false,
     "start_time": "2021-04-27T18:44:13.556278",
     "status": "completed"
    },
    "tags": []
   },
   "outputs": [],
   "source": [
    "sample_submission"
   ]
  },
  {
   "cell_type": "markdown",
   "id": "wrapped-fighter",
   "metadata": {
    "papermill": {
     "duration": 0.084598,
     "end_time": "2021-04-27T18:44:13.827529",
     "exception": false,
     "start_time": "2021-04-27T18:44:13.742931",
     "status": "completed"
    },
    "tags": []
   },
   "source": [
    "# Combine Train and Test Sets"
   ]
  },
  {
   "cell_type": "code",
   "execution_count": null,
   "id": "continent-tooth",
   "metadata": {
    "execution": {
     "iopub.execute_input": "2021-04-27T18:44:14.009166Z",
     "iopub.status.busy": "2021-04-27T18:44:14.008268Z",
     "iopub.status.idle": "2021-04-27T18:44:14.134666Z",
     "shell.execute_reply": "2021-04-27T18:44:14.135241Z"
    },
    "papermill": {
     "duration": 0.22291,
     "end_time": "2021-04-27T18:44:14.135424",
     "exception": false,
     "start_time": "2021-04-27T18:44:13.912514",
     "status": "completed"
    },
    "tags": []
   },
   "outputs": [],
   "source": [
    "target = train0['SalePrice']\n",
    "test_ids = test0['Id']\n",
    "\n",
    "train1 = train0.drop(['Id', 'SalePrice'], axis=1)\n",
    "test1 = test0.drop('Id', axis=1)\n",
    "\n",
    "data1 = pd.concat([train1, test1], axis=0).reset_index(drop=True)\n",
    "data1"
   ]
  },
  {
   "cell_type": "code",
   "execution_count": null,
   "id": "heard-wesley",
   "metadata": {
    "execution": {
     "iopub.execute_input": "2021-04-27T18:44:14.319513Z",
     "iopub.status.busy": "2021-04-27T18:44:14.318691Z",
     "iopub.status.idle": "2021-04-27T18:44:14.322461Z",
     "shell.execute_reply": "2021-04-27T18:44:14.323031Z"
    },
    "papermill": {
     "duration": 0.098654,
     "end_time": "2021-04-27T18:44:14.323204",
     "exception": false,
     "start_time": "2021-04-27T18:44:14.224550",
     "status": "completed"
    },
    "tags": []
   },
   "outputs": [],
   "source": [
    "target"
   ]
  },
  {
   "cell_type": "markdown",
   "id": "robust-talent",
   "metadata": {
    "papermill": {
     "duration": 0.087908,
     "end_time": "2021-04-27T18:44:14.499290",
     "exception": false,
     "start_time": "2021-04-27T18:44:14.411382",
     "status": "completed"
    },
    "tags": []
   },
   "source": [
    "# Cleaning"
   ]
  },
  {
   "cell_type": "code",
   "execution_count": null,
   "id": "accepting-cylinder",
   "metadata": {
    "execution": {
     "iopub.execute_input": "2021-04-27T18:44:14.681207Z",
     "iopub.status.busy": "2021-04-27T18:44:14.680126Z",
     "iopub.status.idle": "2021-04-27T18:44:14.685421Z",
     "shell.execute_reply": "2021-04-27T18:44:14.685895Z"
    },
    "papermill": {
     "duration": 0.098097,
     "end_time": "2021-04-27T18:44:14.686075",
     "exception": false,
     "start_time": "2021-04-27T18:44:14.587978",
     "status": "completed"
    },
    "tags": []
   },
   "outputs": [],
   "source": [
    "data2 = data1.copy()"
   ]
  },
  {
   "cell_type": "markdown",
   "id": "soviet-artwork",
   "metadata": {
    "papermill": {
     "duration": 0.088658,
     "end_time": "2021-04-27T18:44:14.863028",
     "exception": false,
     "start_time": "2021-04-27T18:44:14.774370",
     "status": "completed"
    },
    "tags": []
   },
   "source": [
    "## Ensure Proper Data Types"
   ]
  },
  {
   "cell_type": "code",
   "execution_count": null,
   "id": "assisted-dairy",
   "metadata": {
    "execution": {
     "iopub.execute_input": "2021-04-27T18:44:15.044619Z",
     "iopub.status.busy": "2021-04-27T18:44:15.043527Z",
     "iopub.status.idle": "2021-04-27T18:44:15.055001Z",
     "shell.execute_reply": "2021-04-27T18:44:15.054222Z"
    },
    "papermill": {
     "duration": 0.103291,
     "end_time": "2021-04-27T18:44:15.055179",
     "exception": false,
     "start_time": "2021-04-27T18:44:14.951888",
     "status": "completed"
    },
    "tags": []
   },
   "outputs": [],
   "source": [
    "data2['MSSubClass'] = data2['MSSubClass'].astype(str)"
   ]
  },
  {
   "cell_type": "markdown",
   "id": "facial-tonight",
   "metadata": {
    "papermill": {
     "duration": 0.088991,
     "end_time": "2021-04-27T18:44:15.236808",
     "exception": false,
     "start_time": "2021-04-27T18:44:15.147817",
     "status": "completed"
    },
    "tags": []
   },
   "source": [
    "## Fill Categorical Missing Values"
   ]
  },
  {
   "cell_type": "code",
   "execution_count": null,
   "id": "injured-found",
   "metadata": {
    "execution": {
     "iopub.execute_input": "2021-04-27T18:44:15.417909Z",
     "iopub.status.busy": "2021-04-27T18:44:15.417241Z",
     "iopub.status.idle": "2021-04-27T18:44:15.449080Z",
     "shell.execute_reply": "2021-04-27T18:44:15.448462Z"
    },
    "papermill": {
     "duration": 0.123144,
     "end_time": "2021-04-27T18:44:15.449370",
     "exception": false,
     "start_time": "2021-04-27T18:44:15.326226",
     "status": "completed"
    },
    "tags": []
   },
   "outputs": [],
   "source": [
    "# Impute using a constant value\n",
    "for column in [\n",
    "    'Alley',\n",
    "    'BsmtQual',\n",
    "    'BsmtCond',\n",
    "    'BsmtExposure',\n",
    "    'BsmtFinType1',\n",
    "    'BsmtFinType2',\n",
    "    'FireplaceQu',\n",
    "    'GarageType',\n",
    "    'GarageFinish',\n",
    "    'GarageQual',\n",
    "    'GarageCond',\n",
    "    'PoolQC',\n",
    "    'Fence',\n",
    "    'MiscFeature'\n",
    "]:\n",
    "    data2[column] = data2[column].fillna(\"None\")\n",
    "\n",
    "# Impute using the column mode\n",
    "for column in [\n",
    "    'MSZoning',\n",
    "    'Utilities',\n",
    "    'Exterior1st',\n",
    "    'Exterior2nd',\n",
    "    'MasVnrType',\n",
    "    'Electrical',\n",
    "    'KitchenQual',\n",
    "    'Functional',\n",
    "    'SaleType'\n",
    "]:\n",
    "    data2[column] = data2[column].fillna(data2[column].mode()[0])"
   ]
  },
  {
   "cell_type": "code",
   "execution_count": null,
   "id": "adapted-portland",
   "metadata": {
    "execution": {
     "iopub.execute_input": "2021-04-27T18:44:15.632198Z",
     "iopub.status.busy": "2021-04-27T18:44:15.631216Z",
     "iopub.status.idle": "2021-04-27T18:44:15.636133Z",
     "shell.execute_reply": "2021-04-27T18:44:15.636616Z"
    },
    "papermill": {
     "duration": 0.098546,
     "end_time": "2021-04-27T18:44:15.636794",
     "exception": false,
     "start_time": "2021-04-27T18:44:15.538248",
     "status": "completed"
    },
    "tags": []
   },
   "outputs": [],
   "source": [
    "data3 = data2.copy()"
   ]
  },
  {
   "cell_type": "markdown",
   "id": "lined-dublin",
   "metadata": {
    "papermill": {
     "duration": 0.08926,
     "end_time": "2021-04-27T18:44:15.816577",
     "exception": false,
     "start_time": "2021-04-27T18:44:15.727317",
     "status": "completed"
    },
    "tags": []
   },
   "source": [
    "## Numeric Missing Values"
   ]
  },
  {
   "cell_type": "code",
   "execution_count": null,
   "id": "aquatic-slope",
   "metadata": {
    "execution": {
     "iopub.execute_input": "2021-04-27T18:44:16.002303Z",
     "iopub.status.busy": "2021-04-27T18:44:16.001525Z",
     "iopub.status.idle": "2021-04-27T18:44:16.009874Z",
     "shell.execute_reply": "2021-04-27T18:44:16.009188Z"
    },
    "papermill": {
     "duration": 0.101808,
     "end_time": "2021-04-27T18:44:16.010022",
     "exception": false,
     "start_time": "2021-04-27T18:44:15.908214",
     "status": "completed"
    },
    "tags": []
   },
   "outputs": [],
   "source": [
    "def knn_impute(df, na_target):\n",
    "    df = df.copy()\n",
    "    \n",
    "    numeric_df = df.select_dtypes(np.number)\n",
    "    non_na_columns = numeric_df.loc[: ,numeric_df.isna().sum() == 0].columns\n",
    "    \n",
    "    y_train = numeric_df.loc[numeric_df[na_target].isna() == False, na_target]\n",
    "    X_train = numeric_df.loc[numeric_df[na_target].isna() == False, non_na_columns]\n",
    "    X_test = numeric_df.loc[numeric_df[na_target].isna() == True, non_na_columns]\n",
    "    \n",
    "    knn = KNeighborsRegressor()\n",
    "    knn.fit(X_train, y_train)\n",
    "    \n",
    "    y_pred = knn.predict(X_test)\n",
    "    \n",
    "    df.loc[df[na_target].isna() == True, na_target] = y_pred\n",
    "    \n",
    "    return df"
   ]
  },
  {
   "cell_type": "code",
   "execution_count": null,
   "id": "received-stress",
   "metadata": {
    "execution": {
     "iopub.execute_input": "2021-04-27T18:44:16.224654Z",
     "iopub.status.busy": "2021-04-27T18:44:16.223990Z",
     "iopub.status.idle": "2021-04-27T18:44:16.509123Z",
     "shell.execute_reply": "2021-04-27T18:44:16.508453Z"
    },
    "papermill": {
     "duration": 0.400531,
     "end_time": "2021-04-27T18:44:16.509272",
     "exception": false,
     "start_time": "2021-04-27T18:44:16.108741",
     "status": "completed"
    },
    "tags": []
   },
   "outputs": [],
   "source": [
    "for column in [\n",
    "    'LotFrontage',\n",
    "    'MasVnrArea',\n",
    "    'BsmtFinSF1',\n",
    "    'BsmtFinSF2',\n",
    "    'BsmtUnfSF',\n",
    "    'TotalBsmtSF',\n",
    "    'BsmtFullBath',\n",
    "    'BsmtHalfBath',\n",
    "    'GarageYrBlt',\n",
    "    'GarageCars',\n",
    "    'GarageArea'\n",
    "]:\n",
    "    data3 = knn_impute(data3, column)"
   ]
  },
  {
   "cell_type": "code",
   "execution_count": null,
   "id": "invisible-manual",
   "metadata": {
    "execution": {
     "iopub.execute_input": "2021-04-27T18:44:16.693832Z",
     "iopub.status.busy": "2021-04-27T18:44:16.693189Z",
     "iopub.status.idle": "2021-04-27T18:44:16.696588Z",
     "shell.execute_reply": "2021-04-27T18:44:16.697089Z"
    },
    "papermill": {
     "duration": 0.099006,
     "end_time": "2021-04-27T18:44:16.697269",
     "exception": false,
     "start_time": "2021-04-27T18:44:16.598263",
     "status": "completed"
    },
    "tags": []
   },
   "outputs": [],
   "source": [
    "data4 = data3.copy()"
   ]
  },
  {
   "cell_type": "markdown",
   "id": "powered-adelaide",
   "metadata": {
    "papermill": {
     "duration": 0.087862,
     "end_time": "2021-04-27T18:44:16.873720",
     "exception": false,
     "start_time": "2021-04-27T18:44:16.785858",
     "status": "completed"
    },
    "tags": []
   },
   "source": [
    "# Feature Engineering"
   ]
  },
  {
   "cell_type": "code",
   "execution_count": null,
   "id": "uniform-sodium",
   "metadata": {
    "execution": {
     "iopub.execute_input": "2021-04-27T18:44:17.056304Z",
     "iopub.status.busy": "2021-04-27T18:44:17.055428Z",
     "iopub.status.idle": "2021-04-27T18:44:17.067093Z",
     "shell.execute_reply": "2021-04-27T18:44:17.067615Z"
    },
    "papermill": {
     "duration": 0.105195,
     "end_time": "2021-04-27T18:44:17.067825",
     "exception": false,
     "start_time": "2021-04-27T18:44:16.962630",
     "status": "completed"
    },
    "tags": []
   },
   "outputs": [],
   "source": [
    "data4[\"SqFtPerRoom\"] = data4[\"GrLivArea\"] / (data4[\"TotRmsAbvGrd\"] +\n",
    "                                                       data4[\"FullBath\"] +\n",
    "                                                       data4[\"HalfBath\"] +\n",
    "                                                       data4[\"KitchenAbvGr\"])\n",
    "\n",
    "data4['Total_Home_Quality'] = data4['OverallQual'] + data4['OverallCond']\n",
    "\n",
    "data4['Total_Bathrooms'] = (data4['FullBath'] + (0.5 * data4['HalfBath']) +\n",
    "                               data4['BsmtFullBath'] + (0.5 * data4['BsmtHalfBath']))\n",
    "\n",
    "data4[\"HighQualSF\"] = data4[\"1stFlrSF\"] + data4[\"2ndFlrSF\"]"
   ]
  },
  {
   "cell_type": "code",
   "execution_count": null,
   "id": "regular-attendance",
   "metadata": {
    "execution": {
     "iopub.execute_input": "2021-04-27T18:44:17.254430Z",
     "iopub.status.busy": "2021-04-27T18:44:17.253702Z",
     "iopub.status.idle": "2021-04-27T18:44:17.259719Z",
     "shell.execute_reply": "2021-04-27T18:44:17.259067Z"
    },
    "papermill": {
     "duration": 0.099483,
     "end_time": "2021-04-27T18:44:17.259912",
     "exception": false,
     "start_time": "2021-04-27T18:44:17.160429",
     "status": "completed"
    },
    "tags": []
   },
   "outputs": [],
   "source": [
    "data5 = data4.copy()"
   ]
  },
  {
   "cell_type": "markdown",
   "id": "postal-confidence",
   "metadata": {
    "papermill": {
     "duration": 0.089242,
     "end_time": "2021-04-27T18:44:17.442602",
     "exception": false,
     "start_time": "2021-04-27T18:44:17.353360",
     "status": "completed"
    },
    "tags": []
   },
   "source": [
    "# Feature Transformations"
   ]
  },
  {
   "cell_type": "markdown",
   "id": "narrow-windsor",
   "metadata": {
    "papermill": {
     "duration": 0.090635,
     "end_time": "2021-04-27T18:44:17.625350",
     "exception": false,
     "start_time": "2021-04-27T18:44:17.534715",
     "status": "completed"
    },
    "tags": []
   },
   "source": [
    "## Log Transform for Skewed Features"
   ]
  },
  {
   "cell_type": "code",
   "execution_count": null,
   "id": "resident-photography",
   "metadata": {
    "execution": {
     "iopub.execute_input": "2021-04-27T18:44:17.815534Z",
     "iopub.status.busy": "2021-04-27T18:44:17.814492Z",
     "iopub.status.idle": "2021-04-27T18:44:17.854968Z",
     "shell.execute_reply": "2021-04-27T18:44:17.855539Z"
    },
    "papermill": {
     "duration": 0.139798,
     "end_time": "2021-04-27T18:44:17.855721",
     "exception": false,
     "start_time": "2021-04-27T18:44:17.715923",
     "status": "completed"
    },
    "tags": []
   },
   "outputs": [],
   "source": [
    "skew_df = pd.DataFrame(data5.select_dtypes(np.number).columns, columns=['Feature'])\n",
    "skew_df['Skew'] = skew_df['Feature'].apply(lambda feature: scipy.stats.skew(data5[feature]))\n",
    "skew_df['Absolute Skew'] = skew_df['Skew'].apply(abs)\n",
    "skew_df['Skewed'] = skew_df['Absolute Skew'].apply(lambda x: True if x >= 0.5 else False)\n",
    "skew_df"
   ]
  },
  {
   "cell_type": "code",
   "execution_count": null,
   "id": "homeless-dealing",
   "metadata": {
    "execution": {
     "iopub.execute_input": "2021-04-27T18:44:18.044755Z",
     "iopub.status.busy": "2021-04-27T18:44:18.044066Z",
     "iopub.status.idle": "2021-04-27T18:44:18.070357Z",
     "shell.execute_reply": "2021-04-27T18:44:18.069583Z"
    },
    "papermill": {
     "duration": 0.123962,
     "end_time": "2021-04-27T18:44:18.070505",
     "exception": false,
     "start_time": "2021-04-27T18:44:17.946543",
     "status": "completed"
    },
    "tags": []
   },
   "outputs": [],
   "source": [
    "for column in skew_df.query(\"Skewed == True\")['Feature'].values:\n",
    "    data5[column] = np.log1p(data5[column])"
   ]
  },
  {
   "cell_type": "markdown",
   "id": "adjacent-framework",
   "metadata": {
    "papermill": {
     "duration": 0.090608,
     "end_time": "2021-04-27T18:44:18.253261",
     "exception": false,
     "start_time": "2021-04-27T18:44:18.162653",
     "status": "completed"
    },
    "tags": []
   },
   "source": [
    "## Cosine Transform for Cyclical Features"
   ]
  },
  {
   "cell_type": "code",
   "execution_count": null,
   "id": "massive-ordinary",
   "metadata": {
    "execution": {
     "iopub.execute_input": "2021-04-27T18:44:18.445859Z",
     "iopub.status.busy": "2021-04-27T18:44:18.444913Z",
     "iopub.status.idle": "2021-04-27T18:44:18.448696Z",
     "shell.execute_reply": "2021-04-27T18:44:18.448184Z"
    },
    "papermill": {
     "duration": 0.10232,
     "end_time": "2021-04-27T18:44:18.448875",
     "exception": false,
     "start_time": "2021-04-27T18:44:18.346555",
     "status": "completed"
    },
    "tags": []
   },
   "outputs": [],
   "source": [
    "data4['MoSold'] = (-np.cos(0.5236 * data5['MoSold']))"
   ]
  },
  {
   "cell_type": "code",
   "execution_count": null,
   "id": "basic-pipeline",
   "metadata": {
    "execution": {
     "iopub.execute_input": "2021-04-27T18:44:18.636420Z",
     "iopub.status.busy": "2021-04-27T18:44:18.635749Z",
     "iopub.status.idle": "2021-04-27T18:44:18.639987Z",
     "shell.execute_reply": "2021-04-27T18:44:18.639452Z"
    },
    "papermill": {
     "duration": 0.099876,
     "end_time": "2021-04-27T18:44:18.640138",
     "exception": false,
     "start_time": "2021-04-27T18:44:18.540262",
     "status": "completed"
    },
    "tags": []
   },
   "outputs": [],
   "source": [
    "data6 = data5.copy()"
   ]
  },
  {
   "cell_type": "markdown",
   "id": "enclosed-farmer",
   "metadata": {
    "papermill": {
     "duration": 0.090854,
     "end_time": "2021-04-27T18:44:18.823067",
     "exception": false,
     "start_time": "2021-04-27T18:44:18.732213",
     "status": "completed"
    },
    "tags": []
   },
   "source": [
    "# Encode Categoricals"
   ]
  },
  {
   "cell_type": "code",
   "execution_count": null,
   "id": "electoral-syndicate",
   "metadata": {
    "execution": {
     "iopub.execute_input": "2021-04-27T18:44:19.018445Z",
     "iopub.status.busy": "2021-04-27T18:44:19.016631Z",
     "iopub.status.idle": "2021-04-27T18:44:19.089610Z",
     "shell.execute_reply": "2021-04-27T18:44:19.090140Z"
    },
    "papermill": {
     "duration": 0.174045,
     "end_time": "2021-04-27T18:44:19.090332",
     "exception": false,
     "start_time": "2021-04-27T18:44:18.916287",
     "status": "completed"
    },
    "tags": []
   },
   "outputs": [],
   "source": [
    "data6 = pd.get_dummies(data6)"
   ]
  },
  {
   "cell_type": "code",
   "execution_count": null,
   "id": "white-honduras",
   "metadata": {
    "execution": {
     "iopub.execute_input": "2021-04-27T18:44:19.285027Z",
     "iopub.status.busy": "2021-04-27T18:44:19.284371Z",
     "iopub.status.idle": "2021-04-27T18:44:19.289259Z",
     "shell.execute_reply": "2021-04-27T18:44:19.289772Z"
    },
    "papermill": {
     "duration": 0.103187,
     "end_time": "2021-04-27T18:44:19.289978",
     "exception": false,
     "start_time": "2021-04-27T18:44:19.186791",
     "status": "completed"
    },
    "tags": []
   },
   "outputs": [],
   "source": [
    "data7 = data6.copy()"
   ]
  },
  {
   "cell_type": "markdown",
   "id": "effective-advance",
   "metadata": {
    "papermill": {
     "duration": 0.090797,
     "end_time": "2021-04-27T18:44:19.473092",
     "exception": false,
     "start_time": "2021-04-27T18:44:19.382295",
     "status": "completed"
    },
    "tags": []
   },
   "source": [
    "# Scaling"
   ]
  },
  {
   "cell_type": "code",
   "execution_count": null,
   "id": "narrative-binding",
   "metadata": {
    "execution": {
     "iopub.execute_input": "2021-04-27T18:44:19.659545Z",
     "iopub.status.busy": "2021-04-27T18:44:19.658812Z",
     "iopub.status.idle": "2021-04-27T18:44:19.715474Z",
     "shell.execute_reply": "2021-04-27T18:44:19.714678Z"
    },
    "papermill": {
     "duration": 0.150892,
     "end_time": "2021-04-27T18:44:19.715645",
     "exception": false,
     "start_time": "2021-04-27T18:44:19.564753",
     "status": "completed"
    },
    "tags": []
   },
   "outputs": [],
   "source": [
    "scaler = StandardScaler()\n",
    "scaler.fit(data7)\n",
    "\n",
    "data7 = pd.DataFrame(scaler.transform(data7), index=data7.index, columns=data7.columns)"
   ]
  },
  {
   "cell_type": "code",
   "execution_count": null,
   "id": "chief-theme",
   "metadata": {
    "execution": {
     "iopub.execute_input": "2021-04-27T18:44:19.925902Z",
     "iopub.status.busy": "2021-04-27T18:44:19.920712Z",
     "iopub.status.idle": "2021-04-27T18:44:20.265488Z",
     "shell.execute_reply": "2021-04-27T18:44:20.266056Z"
    },
    "papermill": {
     "duration": 0.459038,
     "end_time": "2021-04-27T18:44:20.266238",
     "exception": false,
     "start_time": "2021-04-27T18:44:19.807200",
     "status": "completed"
    },
    "tags": []
   },
   "outputs": [],
   "source": [
    "data7"
   ]
  },
  {
   "cell_type": "code",
   "execution_count": null,
   "id": "numerous-chapter",
   "metadata": {
    "execution": {
     "iopub.execute_input": "2021-04-27T18:44:20.472912Z",
     "iopub.status.busy": "2021-04-27T18:44:20.472185Z",
     "iopub.status.idle": "2021-04-27T18:44:20.478024Z",
     "shell.execute_reply": "2021-04-27T18:44:20.477325Z"
    },
    "papermill": {
     "duration": 0.110755,
     "end_time": "2021-04-27T18:44:20.478179",
     "exception": false,
     "start_time": "2021-04-27T18:44:20.367424",
     "status": "completed"
    },
    "tags": []
   },
   "outputs": [],
   "source": [
    "data8 = data7.copy()"
   ]
  },
  {
   "cell_type": "markdown",
   "id": "female-anaheim",
   "metadata": {
    "papermill": {
     "duration": 0.102091,
     "end_time": "2021-04-27T18:44:20.682553",
     "exception": false,
     "start_time": "2021-04-27T18:44:20.580462",
     "status": "completed"
    },
    "tags": []
   },
   "source": [
    "# Target Transformation"
   ]
  },
  {
   "cell_type": "code",
   "execution_count": null,
   "id": "square-rabbit",
   "metadata": {
    "execution": {
     "iopub.execute_input": "2021-04-27T18:44:20.911470Z",
     "iopub.status.busy": "2021-04-27T18:44:20.910754Z",
     "iopub.status.idle": "2021-04-27T18:44:21.614961Z",
     "shell.execute_reply": "2021-04-27T18:44:21.614375Z"
    },
    "papermill": {
     "duration": 0.826314,
     "end_time": "2021-04-27T18:44:21.615104",
     "exception": false,
     "start_time": "2021-04-27T18:44:20.788790",
     "status": "completed"
    },
    "tags": []
   },
   "outputs": [],
   "source": [
    "plt.figure(figsize=(20, 10))\n",
    "\n",
    "plt.subplot(1, 2, 1)\n",
    "sns.distplot(target, kde=True, fit=scipy.stats.norm)\n",
    "plt.title(\"Without Log Transform\")\n",
    "\n",
    "plt.subplot(1, 2, 2)\n",
    "sns.distplot(np.log(target), kde=True, fit=scipy.stats.norm)\n",
    "plt.xlabel(\"Log SalePrice\")\n",
    "plt.title(\"With Log Transform\")\n",
    "\n",
    "plt.show()"
   ]
  },
  {
   "cell_type": "code",
   "execution_count": null,
   "id": "graphic-disabled",
   "metadata": {
    "execution": {
     "iopub.execute_input": "2021-04-27T18:44:21.829412Z",
     "iopub.status.busy": "2021-04-27T18:44:21.828682Z",
     "iopub.status.idle": "2021-04-27T18:44:21.832692Z",
     "shell.execute_reply": "2021-04-27T18:44:21.832103Z"
    },
    "papermill": {
     "duration": 0.113679,
     "end_time": "2021-04-27T18:44:21.832860",
     "exception": false,
     "start_time": "2021-04-27T18:44:21.719181",
     "status": "completed"
    },
    "tags": []
   },
   "outputs": [],
   "source": [
    "log_target = np.log(target)"
   ]
  },
  {
   "cell_type": "markdown",
   "id": "light-chile",
   "metadata": {
    "papermill": {
     "duration": 0.102864,
     "end_time": "2021-04-27T18:44:22.038931",
     "exception": false,
     "start_time": "2021-04-27T18:44:21.936067",
     "status": "completed"
    },
    "tags": []
   },
   "source": [
    "# Split Data"
   ]
  },
  {
   "cell_type": "code",
   "execution_count": null,
   "id": "english-dallas",
   "metadata": {
    "execution": {
     "iopub.execute_input": "2021-04-27T18:44:22.258264Z",
     "iopub.status.busy": "2021-04-27T18:44:22.256806Z",
     "iopub.status.idle": "2021-04-27T18:44:22.266094Z",
     "shell.execute_reply": "2021-04-27T18:44:22.266858Z"
    },
    "papermill": {
     "duration": 0.122207,
     "end_time": "2021-04-27T18:44:22.267051",
     "exception": false,
     "start_time": "2021-04-27T18:44:22.144844",
     "status": "completed"
    },
    "tags": []
   },
   "outputs": [],
   "source": [
    "train_final = data8.loc[:train0.index.max(), :].copy()\n",
    "test_final = data8.loc[train0.index.max() + 1:, :].reset_index(drop=True).copy()"
   ]
  },
  {
   "cell_type": "code",
   "execution_count": null,
   "id": "infectious-scale",
   "metadata": {
    "execution": {
     "iopub.execute_input": "2021-04-27T18:44:22.480540Z",
     "iopub.status.busy": "2021-04-27T18:44:22.479562Z",
     "iopub.status.idle": "2021-04-27T18:44:22.838927Z",
     "shell.execute_reply": "2021-04-27T18:44:22.839446Z"
    },
    "papermill": {
     "duration": 0.467912,
     "end_time": "2021-04-27T18:44:22.839617",
     "exception": false,
     "start_time": "2021-04-27T18:44:22.371705",
     "status": "completed"
    },
    "tags": []
   },
   "outputs": [],
   "source": [
    "train_final"
   ]
  },
  {
   "cell_type": "code",
   "execution_count": null,
   "id": "numerous-crest",
   "metadata": {
    "execution": {
     "iopub.execute_input": "2021-04-27T18:44:23.070398Z",
     "iopub.status.busy": "2021-04-27T18:44:23.069346Z",
     "iopub.status.idle": "2021-04-27T18:44:23.426569Z",
     "shell.execute_reply": "2021-04-27T18:44:23.427098Z"
    },
    "papermill": {
     "duration": 0.47419,
     "end_time": "2021-04-27T18:44:23.427268",
     "exception": false,
     "start_time": "2021-04-27T18:44:22.953078",
     "status": "completed"
    },
    "tags": []
   },
   "outputs": [],
   "source": [
    "test_final"
   ]
  },
  {
   "cell_type": "markdown",
   "id": "handed-gravity",
   "metadata": {
    "papermill": {
     "duration": 0.119547,
     "end_time": "2021-04-27T18:44:23.668865",
     "exception": false,
     "start_time": "2021-04-27T18:44:23.549318",
     "status": "completed"
    },
    "tags": []
   },
   "source": [
    "# Model Selection"
   ]
  },
  {
   "cell_type": "code",
   "execution_count": null,
   "id": "circular-frame",
   "metadata": {
    "execution": {
     "iopub.execute_input": "2021-04-27T18:44:23.908191Z",
     "iopub.status.busy": "2021-04-27T18:44:23.907495Z",
     "iopub.status.idle": "2021-04-27T18:44:23.910721Z",
     "shell.execute_reply": "2021-04-27T18:44:23.911225Z"
    },
    "papermill": {
     "duration": 0.124876,
     "end_time": "2021-04-27T18:44:23.911398",
     "exception": false,
     "start_time": "2021-04-27T18:44:23.786522",
     "status": "completed"
    },
    "tags": []
   },
   "outputs": [],
   "source": [
    "# _ = setup(data=pd.concat([train_final, log_target], axis=1), target='SalePrice')"
   ]
  },
  {
   "cell_type": "code",
   "execution_count": null,
   "id": "worse-superintendent",
   "metadata": {
    "execution": {
     "iopub.execute_input": "2021-04-27T18:44:24.154407Z",
     "iopub.status.busy": "2021-04-27T18:44:24.153653Z",
     "iopub.status.idle": "2021-04-27T18:44:24.156903Z",
     "shell.execute_reply": "2021-04-27T18:44:24.157394Z"
    },
    "papermill": {
     "duration": 0.126904,
     "end_time": "2021-04-27T18:44:24.157570",
     "exception": false,
     "start_time": "2021-04-27T18:44:24.030666",
     "status": "completed"
    },
    "tags": []
   },
   "outputs": [],
   "source": [
    "# compare_models()"
   ]
  },
  {
   "cell_type": "markdown",
   "id": "incorporated-healing",
   "metadata": {
    "papermill": {
     "duration": 0.130154,
     "end_time": "2021-04-27T18:44:24.405752",
     "exception": false,
     "start_time": "2021-04-27T18:44:24.275598",
     "status": "completed"
    },
    "tags": []
   },
   "source": [
    "# Hyperparameter Optimization"
   ]
  },
  {
   "cell_type": "code",
   "execution_count": null,
   "id": "corrected-champagne",
   "metadata": {
    "execution": {
     "iopub.execute_input": "2021-04-27T18:44:24.650242Z",
     "iopub.status.busy": "2021-04-27T18:44:24.649491Z",
     "iopub.status.idle": "2021-04-27T18:44:24.653087Z",
     "shell.execute_reply": "2021-04-27T18:44:24.653582Z"
    },
    "papermill": {
     "duration": 0.125913,
     "end_time": "2021-04-27T18:44:24.653773",
     "exception": false,
     "start_time": "2021-04-27T18:44:24.527860",
     "status": "completed"
    },
    "tags": []
   },
   "outputs": [],
   "source": [
    "# def br_objective(trial):\n",
    "#     n_iter = trial.suggest_int('n_iter', 50, 600)\n",
    "#     tol = trial.suggest_loguniform('tol', 1e-8, 10.0)\n",
    "#     alpha_1 = trial.suggest_loguniform('alpha_1', 1e-8, 10.0)\n",
    "#     alpha_2 = trial.suggest_loguniform('alpha_2', 1e-8, 10.0)\n",
    "#     lambda_1 = trial.suggest_loguniform('lambda_1', 1e-8, 10.0)\n",
    "#     lambda_2 = trial.suggest_loguniform('lambda_2', 1e-8, 10.0)\n",
    "    \n",
    "#     model = BayesianRidge(\n",
    "#         n_iter=n_iter,\n",
    "#         tol=tol,\n",
    "#         alpha_1=alpha_1,\n",
    "#         alpha_2=alpha_2,\n",
    "#         lambda_1=lambda_1,\n",
    "#         lambda_2=lambda_2\n",
    "#     )\n",
    "    \n",
    "#     model.fit(train_final, log_target)\n",
    "    \n",
    "#     cv_scores = np.exp(np.sqrt(-cross_val_score(model, train_final, log_target, scoring='neg_mean_squared_error', cv=kf)))\n",
    "    \n",
    "#     return np.mean(cv_scores)"
   ]
  },
  {
   "cell_type": "code",
   "execution_count": null,
   "id": "simple-brave",
   "metadata": {
    "execution": {
     "iopub.execute_input": "2021-04-27T18:44:24.903106Z",
     "iopub.status.busy": "2021-04-27T18:44:24.902312Z",
     "iopub.status.idle": "2021-04-27T18:44:24.906548Z",
     "shell.execute_reply": "2021-04-27T18:44:24.907133Z"
    },
    "papermill": {
     "duration": 0.132247,
     "end_time": "2021-04-27T18:44:24.907319",
     "exception": false,
     "start_time": "2021-04-27T18:44:24.775072",
     "status": "completed"
    },
    "tags": []
   },
   "outputs": [],
   "source": [
    "# study = optuna.create_study(direction='minimize')\n",
    "# study.optimize(br_objective, n_trials=100)"
   ]
  },
  {
   "cell_type": "code",
   "execution_count": null,
   "id": "tired-channel",
   "metadata": {
    "execution": {
     "iopub.execute_input": "2021-04-27T18:44:25.150411Z",
     "iopub.status.busy": "2021-04-27T18:44:25.149661Z",
     "iopub.status.idle": "2021-04-27T18:44:25.151782Z",
     "shell.execute_reply": "2021-04-27T18:44:25.152487Z"
    },
    "papermill": {
     "duration": 0.126532,
     "end_time": "2021-04-27T18:44:25.152684",
     "exception": false,
     "start_time": "2021-04-27T18:44:25.026152",
     "status": "completed"
    },
    "tags": []
   },
   "outputs": [],
   "source": [
    "# study.best_params"
   ]
  },
  {
   "cell_type": "markdown",
   "id": "complete-enlargement",
   "metadata": {
    "papermill": {
     "duration": 0.118431,
     "end_time": "2021-04-27T18:44:25.390535",
     "exception": false,
     "start_time": "2021-04-27T18:44:25.272104",
     "status": "completed"
    },
    "tags": []
   },
   "source": [
    "# Bagging Ensemble"
   ]
  },
  {
   "cell_type": "code",
   "execution_count": null,
   "id": "informal-snapshot",
   "metadata": {
    "execution": {
     "iopub.execute_input": "2021-04-27T18:44:25.637037Z",
     "iopub.status.busy": "2021-04-27T18:44:25.636293Z",
     "iopub.status.idle": "2021-04-27T18:44:25.643104Z",
     "shell.execute_reply": "2021-04-27T18:44:25.642434Z"
    },
    "papermill": {
     "duration": 0.132395,
     "end_time": "2021-04-27T18:44:25.643246",
     "exception": false,
     "start_time": "2021-04-27T18:44:25.510851",
     "status": "completed"
    },
    "tags": []
   },
   "outputs": [],
   "source": [
    "catboost_params = {\n",
    "    'iterations': 6000,\n",
    "    'learning_rate': 0.005,\n",
    "    'depth': 4,\n",
    "    'l2_leaf_reg': 1,\n",
    "    'eval_metric':'RMSE',\n",
    "    'early_stopping_rounds': 200,\n",
    "    'random_seed': 42\n",
    "}\n",
    "\n",
    "br_params = {\n",
    "    'n_iter': 304,\n",
    "    'tol': 0.16864712769300896,\n",
    "    'alpha_1': 5.589616542154059e-07,\n",
    "    'alpha_2': 9.799343618469923,\n",
    "    'lambda_1': 1.7735725582463822,\n",
    "    'lambda_2': 3.616928181181732e-06\n",
    "}\n",
    "\n",
    "lightgbm_params = {\n",
    "    'num_leaves': 39,\n",
    "    'max_depth': 2,\n",
    "    'learning_rate': 0.13705339989856127,\n",
    "    'n_estimators': 273\n",
    "}\n",
    "\n",
    "ridge_params = {\n",
    "    'alpha': 631.1412445239156\n",
    "}"
   ]
  },
  {
   "cell_type": "code",
   "execution_count": null,
   "id": "capital-compatibility",
   "metadata": {
    "execution": {
     "iopub.execute_input": "2021-04-27T18:44:25.896109Z",
     "iopub.status.busy": "2021-04-27T18:44:25.895312Z",
     "iopub.status.idle": "2021-04-27T18:44:25.897071Z",
     "shell.execute_reply": "2021-04-27T18:44:25.897535Z"
    },
    "papermill": {
     "duration": 0.134484,
     "end_time": "2021-04-27T18:44:25.897717",
     "exception": false,
     "start_time": "2021-04-27T18:44:25.763233",
     "status": "completed"
    },
    "tags": []
   },
   "outputs": [],
   "source": [
    "models = {\n",
    "    \"catboost\": CatBoostRegressor(**catboost_params, verbose=0),\n",
    "    \"br\": BayesianRidge(**br_params),\n",
    "    \"lightgbm\": LGBMRegressor(**lightgbm_params),\n",
    "    \"ridge\": Ridge(**ridge_params),\n",
    "    \"omp\": OrthogonalMatchingPursuit()\n",
    "}"
   ]
  },
  {
   "cell_type": "code",
   "execution_count": null,
   "id": "conventional-plaintiff",
   "metadata": {
    "execution": {
     "iopub.execute_input": "2021-04-27T18:44:26.149008Z",
     "iopub.status.busy": "2021-04-27T18:44:26.148269Z",
     "iopub.status.idle": "2021-04-27T18:44:41.972982Z",
     "shell.execute_reply": "2021-04-27T18:44:41.974160Z"
    },
    "papermill": {
     "duration": 15.955949,
     "end_time": "2021-04-27T18:44:41.974443",
     "exception": false,
     "start_time": "2021-04-27T18:44:26.018494",
     "status": "completed"
    },
    "tags": []
   },
   "outputs": [],
   "source": [
    "for name, model in models.items():\n",
    "    model.fit(train_final, log_target)\n",
    "    print(name + \" trained.\")"
   ]
  },
  {
   "cell_type": "markdown",
   "id": "liberal-james",
   "metadata": {
    "papermill": {
     "duration": 0.120046,
     "end_time": "2021-04-27T18:44:42.271361",
     "exception": false,
     "start_time": "2021-04-27T18:44:42.151315",
     "status": "completed"
    },
    "tags": []
   },
   "source": [
    "# Evaluate"
   ]
  },
  {
   "cell_type": "code",
   "execution_count": null,
   "id": "noble-capitol",
   "metadata": {
    "execution": {
     "iopub.execute_input": "2021-04-27T18:44:42.517327Z",
     "iopub.status.busy": "2021-04-27T18:44:42.516609Z",
     "iopub.status.idle": "2021-04-27T18:47:15.717777Z",
     "shell.execute_reply": "2021-04-27T18:47:15.718706Z"
    },
    "papermill": {
     "duration": 153.328015,
     "end_time": "2021-04-27T18:47:15.719032",
     "exception": false,
     "start_time": "2021-04-27T18:44:42.391017",
     "status": "completed"
    },
    "tags": []
   },
   "outputs": [],
   "source": [
    "results = {}\n",
    "\n",
    "kf = KFold(n_splits=10)\n",
    "\n",
    "for name, model in models.items():\n",
    "    result = np.exp(np.sqrt(-cross_val_score(model, train_final, log_target, scoring='neg_mean_squared_error', cv=kf)))\n",
    "    results[name] = result"
   ]
  },
  {
   "cell_type": "code",
   "execution_count": null,
   "id": "hawaiian-emission",
   "metadata": {
    "execution": {
     "iopub.execute_input": "2021-04-27T18:47:16.019941Z",
     "iopub.status.busy": "2021-04-27T18:47:16.019197Z",
     "iopub.status.idle": "2021-04-27T18:47:16.022607Z",
     "shell.execute_reply": "2021-04-27T18:47:16.023126Z"
    },
    "papermill": {
     "duration": 0.132052,
     "end_time": "2021-04-27T18:47:16.023311",
     "exception": false,
     "start_time": "2021-04-27T18:47:15.891259",
     "status": "completed"
    },
    "tags": []
   },
   "outputs": [],
   "source": [
    "results"
   ]
  },
  {
   "cell_type": "code",
   "execution_count": null,
   "id": "speaking-combining",
   "metadata": {
    "execution": {
     "iopub.execute_input": "2021-04-27T18:47:16.273903Z",
     "iopub.status.busy": "2021-04-27T18:47:16.273171Z",
     "iopub.status.idle": "2021-04-27T18:47:16.279774Z",
     "shell.execute_reply": "2021-04-27T18:47:16.279206Z"
    },
    "papermill": {
     "duration": 0.135031,
     "end_time": "2021-04-27T18:47:16.279937",
     "exception": false,
     "start_time": "2021-04-27T18:47:16.144906",
     "status": "completed"
    },
    "tags": []
   },
   "outputs": [],
   "source": [
    "for name, result in results.items():\n",
    "    print(\"----------\\n\" + name)\n",
    "    print(np.mean(result))\n",
    "    print(np.std(result))"
   ]
  },
  {
   "cell_type": "markdown",
   "id": "institutional-entry",
   "metadata": {
    "papermill": {
     "duration": 0.122699,
     "end_time": "2021-04-27T18:47:16.524003",
     "exception": false,
     "start_time": "2021-04-27T18:47:16.401304",
     "status": "completed"
    },
    "tags": []
   },
   "source": [
    "# Combine Predictions"
   ]
  },
  {
   "cell_type": "code",
   "execution_count": null,
   "id": "national-genre",
   "metadata": {
    "execution": {
     "iopub.execute_input": "2021-04-27T18:47:16.796395Z",
     "iopub.status.busy": "2021-04-27T18:47:16.795387Z",
     "iopub.status.idle": "2021-04-27T18:47:16.898752Z",
     "shell.execute_reply": "2021-04-27T18:47:16.902299Z"
    },
    "papermill": {
     "duration": 0.25787,
     "end_time": "2021-04-27T18:47:16.902609",
     "exception": false,
     "start_time": "2021-04-27T18:47:16.644739",
     "status": "completed"
    },
    "tags": []
   },
   "outputs": [],
   "source": [
    "final_predictions = (\n",
    "    0.4 * np.exp(models['catboost'].predict(test_final)) +\n",
    "    0.2 * np.exp(models['br'].predict(test_final)) +\n",
    "    0.2 * np.exp(models['lightgbm'].predict(test_final)) +\n",
    "    0.1 * np.exp(models['ridge'].predict(test_final)) +\n",
    "    0.1 * np.exp(models['omp'].predict(test_final))\n",
    ")"
   ]
  },
  {
   "cell_type": "code",
   "execution_count": null,
   "id": "objective-burke",
   "metadata": {
    "execution": {
     "iopub.execute_input": "2021-04-27T18:47:17.201398Z",
     "iopub.status.busy": "2021-04-27T18:47:17.200713Z",
     "iopub.status.idle": "2021-04-27T18:47:17.203816Z",
     "shell.execute_reply": "2021-04-27T18:47:17.204342Z"
    },
    "papermill": {
     "duration": 0.131206,
     "end_time": "2021-04-27T18:47:17.204515",
     "exception": false,
     "start_time": "2021-04-27T18:47:17.073309",
     "status": "completed"
    },
    "tags": []
   },
   "outputs": [],
   "source": [
    "final_predictions"
   ]
  },
  {
   "cell_type": "markdown",
   "id": "painted-tattoo",
   "metadata": {
    "papermill": {
     "duration": 0.122684,
     "end_time": "2021-04-27T18:47:17.450596",
     "exception": false,
     "start_time": "2021-04-27T18:47:17.327912",
     "status": "completed"
    },
    "tags": []
   },
   "source": [
    "# Make Submission"
   ]
  },
  {
   "cell_type": "code",
   "execution_count": null,
   "id": "radical-reviewer",
   "metadata": {
    "execution": {
     "iopub.execute_input": "2021-04-27T18:47:17.700029Z",
     "iopub.status.busy": "2021-04-27T18:47:17.699341Z",
     "iopub.status.idle": "2021-04-27T18:47:17.714605Z",
     "shell.execute_reply": "2021-04-27T18:47:17.714055Z"
    },
    "papermill": {
     "duration": 0.14165,
     "end_time": "2021-04-27T18:47:17.714751",
     "exception": false,
     "start_time": "2021-04-27T18:47:17.573101",
     "status": "completed"
    },
    "tags": []
   },
   "outputs": [],
   "source": [
    "submission = pd.concat([test_ids, pd.Series(final_predictions, name='SalePrice')], axis=1)\n",
    "submission"
   ]
  },
  {
   "cell_type": "code",
   "execution_count": null,
   "id": "acceptable-peripheral",
   "metadata": {
    "execution": {
     "iopub.execute_input": "2021-04-27T18:47:17.965045Z",
     "iopub.status.busy": "2021-04-27T18:47:17.964172Z",
     "iopub.status.idle": "2021-04-27T18:47:17.977784Z",
     "shell.execute_reply": "2021-04-27T18:47:17.977092Z"
    },
    "papermill": {
     "duration": 0.14031,
     "end_time": "2021-04-27T18:47:17.977972",
     "exception": false,
     "start_time": "2021-04-27T18:47:17.837662",
     "status": "completed"
    },
    "tags": []
   },
   "outputs": [],
   "source": [
    "submission.to_csv('./submission.csv', index=False, header=True)"
   ]
  },
  {
   "cell_type": "markdown",
   "id": "worthy-restriction",
   "metadata": {
    "papermill": {
     "duration": 0.121863,
     "end_time": "2021-04-27T18:47:18.222860",
     "exception": false,
     "start_time": "2021-04-27T18:47:18.100997",
     "status": "completed"
    },
    "tags": []
   },
   "source": [
    "# Livestream Included!\n",
    "\n",
    "***\n",
    "\n",
    "This notebook was created during a YouTube live session.  \n",
    "For an in-depth guide, check it out here!  \n",
    "https://youtu.be/zwYHloLXH0c"
   ]
  }
 ],
 "metadata": {
  "kernelspec": {
   "display_name": "Python 3 (ipykernel)",
   "language": "python",
   "name": "python3"
  },
  "language_info": {
   "codemirror_mode": {
    "name": "ipython",
    "version": 3
   },
   "file_extension": ".py",
   "mimetype": "text/x-python",
   "name": "python",
   "nbconvert_exporter": "python",
   "pygments_lexer": "ipython3",
   "version": "3.9.12"
  },
  "papermill": {
   "default_parameters": {},
   "duration": 247.203707,
   "end_time": "2021-04-27T18:47:20.220076",
   "environment_variables": {},
   "exception": null,
   "input_path": "__notebook__.ipynb",
   "output_path": "__notebook__.ipynb",
   "parameters": {},
   "start_time": "2021-04-27T18:43:13.016369",
   "version": "2.3.3"
  }
 },
 "nbformat": 4,
 "nbformat_minor": 5
}
